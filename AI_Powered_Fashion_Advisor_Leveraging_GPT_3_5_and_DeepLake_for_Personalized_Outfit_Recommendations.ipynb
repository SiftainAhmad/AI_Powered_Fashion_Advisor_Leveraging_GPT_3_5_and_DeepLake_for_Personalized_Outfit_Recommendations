{
  "cells": [
    {
      "cell_type": "markdown",
      "id": "fcbec942-3ad7-4908-8ae1-51e8f1201035",
      "metadata": {
        "id": "fcbec942-3ad7-4908-8ae1-51e8f1201035"
      },
      "source": [
        "### Importing Basic Libraries"
      ]
    },
    {
      "cell_type": "code",
      "execution_count": null,
      "id": "d2515f59-cb74-4cb8-aa2a-f3489c94814b",
      "metadata": {
        "id": "d2515f59-cb74-4cb8-aa2a-f3489c94814b"
      },
      "outputs": [],
      "source": [
        "import numpy as np\n",
        "import pandas as pd\n",
        "import matplotlib.pyplot as plt\n",
        "import seaborn as sns"
      ]
    },
    {
      "cell_type": "markdown",
      "id": "a097d5b4-b9f2-4419-bb9a-e912ffc4f2dd",
      "metadata": {
        "id": "a097d5b4-b9f2-4419-bb9a-e912ffc4f2dd"
      },
      "source": [
        "### Uploading the data"
      ]
    },
    {
      "cell_type": "code",
      "execution_count": null,
      "id": "7547db5c-52c3-4158-9e30-5b345fd1d824",
      "metadata": {
        "id": "7547db5c-52c3-4158-9e30-5b345fd1d824"
      },
      "outputs": [],
      "source": [
        "df=pd.read_csv('/content/Luxury_Products_Apparel_Data.csv')"
      ]
    },
    {
      "cell_type": "code",
      "execution_count": null,
      "id": "ca083b03-bb2b-47eb-9037-424240607b22",
      "metadata": {
        "colab": {
          "base_uri": "https://localhost:8080/",
          "height": 206
        },
        "id": "ca083b03-bb2b-47eb-9037-424240607b22",
        "outputId": "8df91550-74a2-407e-db06-d431a0713ade"
      },
      "outputs": [
        {
          "data": {
            "application/vnd.google.colaboratory.intrinsic+json": {
              "summary": "{\n  \"name\": \"df\",\n  \"rows\": 5000,\n  \"fields\": [\n    {\n      \"column\": \"ID\",\n      \"properties\": {\n        \"dtype\": \"number\",\n        \"std\": 5343,\n        \"min\": 0,\n        \"max\": 18715,\n        \"num_unique_values\": 5000,\n        \"samples\": [\n          17606,\n          12223,\n          2099\n        ],\n        \"semantic_type\": \"\",\n        \"description\": \"\"\n      }\n    },\n    {\n      \"column\": \"Category\",\n      \"properties\": {\n        \"dtype\": \"category\",\n        \"num_unique_values\": 10,\n        \"samples\": [\n          \"Jewelry\",\n          \"Suits\",\n          \"Shoes\"\n        ],\n        \"semantic_type\": \"\",\n        \"description\": \"\"\n      }\n    },\n    {\n      \"column\": \"SubCategory\",\n      \"properties\": {\n        \"dtype\": \"category\",\n        \"num_unique_values\": 42,\n        \"samples\": [\n          \"Suits\",\n          \"Boxers & Briefs\",\n          \"Ties\"\n        ],\n        \"semantic_type\": \"\",\n        \"description\": \"\"\n      }\n    },\n    {\n      \"column\": \"ProductName\",\n      \"properties\": {\n        \"dtype\": \"string\",\n        \"num_unique_values\": 4388,\n        \"samples\": [\n          \"\\\"Lemaire Black Jersey Chino Lounge Pants\\\"\",\n          \"\\\"Brioni Men's Bicolor Pocket Square - Navy Coffee\\\"\",\n          \"\\\"Men's Malibu Hoodie Sweatshirt\\\"\"\n        ],\n        \"semantic_type\": \"\",\n        \"description\": \"\"\n      }\n    },\n    {\n      \"column\": \"Description\",\n      \"properties\": {\n        \"dtype\": \"string\",\n        \"num_unique_values\": 4489,\n        \"samples\": [\n          \"\\\"Celine Eyewear - Celine's gold sunglasses present an angular take on the timeless aviator silhouette. They're made in Italy with gold-tone metal frames, brown-tinted lenses and a double-bridged frame - ideal for bringing a retro twist to your vacation edit.\\\"\",\n          \"\\\"Moncler T-shirt with front tipping. Crew neckline. Pullover style. Cotton. Imported.\\\"\",\n          \"\\\"Decorated with butterflies fluttering around the brand's signature, this Butterfly t-shirt designed by Palm Angels is both simple and colourful. Its relatively wide cut is reminiscent of oversized styles popular during the 1990s. Wear under a jacket, with jeans and trainers and a hat or cap by the same brand, to perfect a casual look.\\\"\"\n        ],\n        \"semantic_type\": \"\",\n        \"description\": \"\"\n      }\n    }\n  ]\n}",
              "type": "dataframe",
              "variable_name": "df"
            },
            "text/html": [
              "\n",
              "  <div id=\"df-ed3686af-614a-4371-b15b-922f7e565183\" class=\"colab-df-container\">\n",
              "    <div>\n",
              "<style scoped>\n",
              "    .dataframe tbody tr th:only-of-type {\n",
              "        vertical-align: middle;\n",
              "    }\n",
              "\n",
              "    .dataframe tbody tr th {\n",
              "        vertical-align: top;\n",
              "    }\n",
              "\n",
              "    .dataframe thead th {\n",
              "        text-align: right;\n",
              "    }\n",
              "</style>\n",
              "<table border=\"1\" class=\"dataframe\">\n",
              "  <thead>\n",
              "    <tr style=\"text-align: right;\">\n",
              "      <th></th>\n",
              "      <th>ID</th>\n",
              "      <th>Category</th>\n",
              "      <th>SubCategory</th>\n",
              "      <th>ProductName</th>\n",
              "      <th>Description</th>\n",
              "    </tr>\n",
              "  </thead>\n",
              "  <tbody>\n",
              "    <tr>\n",
              "      <th>0</th>\n",
              "      <td>8037</td>\n",
              "      <td>Accessories</td>\n",
              "      <td>Bags</td>\n",
              "      <td>\"Prada Striped Shell Belt Bag\"</td>\n",
              "      <td>\"One of Prada's most functional designs, this ...</td>\n",
              "    </tr>\n",
              "    <tr>\n",
              "      <th>1</th>\n",
              "      <td>13670</td>\n",
              "      <td>Accessories</td>\n",
              "      <td>Socks</td>\n",
              "      <td>\"Falke - Lhasa Wool And Cashmere-blend Socks -...</td>\n",
              "      <td>\"Falke - Casual yet luxurious, Falke's dark na...</td>\n",
              "    </tr>\n",
              "    <tr>\n",
              "      <th>2</th>\n",
              "      <td>13983</td>\n",
              "      <td>Suits</td>\n",
              "      <td>Tuxedos</td>\n",
              "      <td>\"peak lapel tuxedo suit jacket\"</td>\n",
              "      <td>\"White and black linen blend peak lapel tuxedo...</td>\n",
              "    </tr>\n",
              "    <tr>\n",
              "      <th>3</th>\n",
              "      <td>12081</td>\n",
              "      <td>Accessories</td>\n",
              "      <td>Gloves</td>\n",
              "      <td>\"Thom Browne Navy 4-Bar Rib Gloves\"</td>\n",
              "      <td>\"Pair of rib knit cashmere gloves in navy. Sig...</td>\n",
              "    </tr>\n",
              "    <tr>\n",
              "      <th>4</th>\n",
              "      <td>15617</td>\n",
              "      <td>Accessories</td>\n",
              "      <td>Cufflinks</td>\n",
              "      <td>\"Alice Made This - Bayley Round Patina-brass C...</td>\n",
              "      <td>\"Alice Made This - Made in the UK, these teal ...</td>\n",
              "    </tr>\n",
              "  </tbody>\n",
              "</table>\n",
              "</div>\n",
              "    <div class=\"colab-df-buttons\">\n",
              "\n",
              "  <div class=\"colab-df-container\">\n",
              "    <button class=\"colab-df-convert\" onclick=\"convertToInteractive('df-ed3686af-614a-4371-b15b-922f7e565183')\"\n",
              "            title=\"Convert this dataframe to an interactive table.\"\n",
              "            style=\"display:none;\">\n",
              "\n",
              "  <svg xmlns=\"http://www.w3.org/2000/svg\" height=\"24px\" viewBox=\"0 -960 960 960\">\n",
              "    <path d=\"M120-120v-720h720v720H120Zm60-500h600v-160H180v160Zm220 220h160v-160H400v160Zm0 220h160v-160H400v160ZM180-400h160v-160H180v160Zm440 0h160v-160H620v160ZM180-180h160v-160H180v160Zm440 0h160v-160H620v160Z\"/>\n",
              "  </svg>\n",
              "    </button>\n",
              "\n",
              "  <style>\n",
              "    .colab-df-container {\n",
              "      display:flex;\n",
              "      gap: 12px;\n",
              "    }\n",
              "\n",
              "    .colab-df-convert {\n",
              "      background-color: #E8F0FE;\n",
              "      border: none;\n",
              "      border-radius: 50%;\n",
              "      cursor: pointer;\n",
              "      display: none;\n",
              "      fill: #1967D2;\n",
              "      height: 32px;\n",
              "      padding: 0 0 0 0;\n",
              "      width: 32px;\n",
              "    }\n",
              "\n",
              "    .colab-df-convert:hover {\n",
              "      background-color: #E2EBFA;\n",
              "      box-shadow: 0px 1px 2px rgba(60, 64, 67, 0.3), 0px 1px 3px 1px rgba(60, 64, 67, 0.15);\n",
              "      fill: #174EA6;\n",
              "    }\n",
              "\n",
              "    .colab-df-buttons div {\n",
              "      margin-bottom: 4px;\n",
              "    }\n",
              "\n",
              "    [theme=dark] .colab-df-convert {\n",
              "      background-color: #3B4455;\n",
              "      fill: #D2E3FC;\n",
              "    }\n",
              "\n",
              "    [theme=dark] .colab-df-convert:hover {\n",
              "      background-color: #434B5C;\n",
              "      box-shadow: 0px 1px 3px 1px rgba(0, 0, 0, 0.15);\n",
              "      filter: drop-shadow(0px 1px 2px rgba(0, 0, 0, 0.3));\n",
              "      fill: #FFFFFF;\n",
              "    }\n",
              "  </style>\n",
              "\n",
              "    <script>\n",
              "      const buttonEl =\n",
              "        document.querySelector('#df-ed3686af-614a-4371-b15b-922f7e565183 button.colab-df-convert');\n",
              "      buttonEl.style.display =\n",
              "        google.colab.kernel.accessAllowed ? 'block' : 'none';\n",
              "\n",
              "      async function convertToInteractive(key) {\n",
              "        const element = document.querySelector('#df-ed3686af-614a-4371-b15b-922f7e565183');\n",
              "        const dataTable =\n",
              "          await google.colab.kernel.invokeFunction('convertToInteractive',\n",
              "                                                    [key], {});\n",
              "        if (!dataTable) return;\n",
              "\n",
              "        const docLinkHtml = 'Like what you see? Visit the ' +\n",
              "          '<a target=\"_blank\" href=https://colab.research.google.com/notebooks/data_table.ipynb>data table notebook</a>'\n",
              "          + ' to learn more about interactive tables.';\n",
              "        element.innerHTML = '';\n",
              "        dataTable['output_type'] = 'display_data';\n",
              "        await google.colab.output.renderOutput(dataTable, element);\n",
              "        const docLink = document.createElement('div');\n",
              "        docLink.innerHTML = docLinkHtml;\n",
              "        element.appendChild(docLink);\n",
              "      }\n",
              "    </script>\n",
              "  </div>\n",
              "\n",
              "\n",
              "<div id=\"df-f82aa796-e8ae-4338-a0ed-8b0051d0cd91\">\n",
              "  <button class=\"colab-df-quickchart\" onclick=\"quickchart('df-f82aa796-e8ae-4338-a0ed-8b0051d0cd91')\"\n",
              "            title=\"Suggest charts\"\n",
              "            style=\"display:none;\">\n",
              "\n",
              "<svg xmlns=\"http://www.w3.org/2000/svg\" height=\"24px\"viewBox=\"0 0 24 24\"\n",
              "     width=\"24px\">\n",
              "    <g>\n",
              "        <path d=\"M19 3H5c-1.1 0-2 .9-2 2v14c0 1.1.9 2 2 2h14c1.1 0 2-.9 2-2V5c0-1.1-.9-2-2-2zM9 17H7v-7h2v7zm4 0h-2V7h2v10zm4 0h-2v-4h2v4z\"/>\n",
              "    </g>\n",
              "</svg>\n",
              "  </button>\n",
              "\n",
              "<style>\n",
              "  .colab-df-quickchart {\n",
              "      --bg-color: #E8F0FE;\n",
              "      --fill-color: #1967D2;\n",
              "      --hover-bg-color: #E2EBFA;\n",
              "      --hover-fill-color: #174EA6;\n",
              "      --disabled-fill-color: #AAA;\n",
              "      --disabled-bg-color: #DDD;\n",
              "  }\n",
              "\n",
              "  [theme=dark] .colab-df-quickchart {\n",
              "      --bg-color: #3B4455;\n",
              "      --fill-color: #D2E3FC;\n",
              "      --hover-bg-color: #434B5C;\n",
              "      --hover-fill-color: #FFFFFF;\n",
              "      --disabled-bg-color: #3B4455;\n",
              "      --disabled-fill-color: #666;\n",
              "  }\n",
              "\n",
              "  .colab-df-quickchart {\n",
              "    background-color: var(--bg-color);\n",
              "    border: none;\n",
              "    border-radius: 50%;\n",
              "    cursor: pointer;\n",
              "    display: none;\n",
              "    fill: var(--fill-color);\n",
              "    height: 32px;\n",
              "    padding: 0;\n",
              "    width: 32px;\n",
              "  }\n",
              "\n",
              "  .colab-df-quickchart:hover {\n",
              "    background-color: var(--hover-bg-color);\n",
              "    box-shadow: 0 1px 2px rgba(60, 64, 67, 0.3), 0 1px 3px 1px rgba(60, 64, 67, 0.15);\n",
              "    fill: var(--button-hover-fill-color);\n",
              "  }\n",
              "\n",
              "  .colab-df-quickchart-complete:disabled,\n",
              "  .colab-df-quickchart-complete:disabled:hover {\n",
              "    background-color: var(--disabled-bg-color);\n",
              "    fill: var(--disabled-fill-color);\n",
              "    box-shadow: none;\n",
              "  }\n",
              "\n",
              "  .colab-df-spinner {\n",
              "    border: 2px solid var(--fill-color);\n",
              "    border-color: transparent;\n",
              "    border-bottom-color: var(--fill-color);\n",
              "    animation:\n",
              "      spin 1s steps(1) infinite;\n",
              "  }\n",
              "\n",
              "  @keyframes spin {\n",
              "    0% {\n",
              "      border-color: transparent;\n",
              "      border-bottom-color: var(--fill-color);\n",
              "      border-left-color: var(--fill-color);\n",
              "    }\n",
              "    20% {\n",
              "      border-color: transparent;\n",
              "      border-left-color: var(--fill-color);\n",
              "      border-top-color: var(--fill-color);\n",
              "    }\n",
              "    30% {\n",
              "      border-color: transparent;\n",
              "      border-left-color: var(--fill-color);\n",
              "      border-top-color: var(--fill-color);\n",
              "      border-right-color: var(--fill-color);\n",
              "    }\n",
              "    40% {\n",
              "      border-color: transparent;\n",
              "      border-right-color: var(--fill-color);\n",
              "      border-top-color: var(--fill-color);\n",
              "    }\n",
              "    60% {\n",
              "      border-color: transparent;\n",
              "      border-right-color: var(--fill-color);\n",
              "    }\n",
              "    80% {\n",
              "      border-color: transparent;\n",
              "      border-right-color: var(--fill-color);\n",
              "      border-bottom-color: var(--fill-color);\n",
              "    }\n",
              "    90% {\n",
              "      border-color: transparent;\n",
              "      border-bottom-color: var(--fill-color);\n",
              "    }\n",
              "  }\n",
              "</style>\n",
              "\n",
              "  <script>\n",
              "    async function quickchart(key) {\n",
              "      const quickchartButtonEl =\n",
              "        document.querySelector('#' + key + ' button');\n",
              "      quickchartButtonEl.disabled = true;  // To prevent multiple clicks.\n",
              "      quickchartButtonEl.classList.add('colab-df-spinner');\n",
              "      try {\n",
              "        const charts = await google.colab.kernel.invokeFunction(\n",
              "            'suggestCharts', [key], {});\n",
              "      } catch (error) {\n",
              "        console.error('Error during call to suggestCharts:', error);\n",
              "      }\n",
              "      quickchartButtonEl.classList.remove('colab-df-spinner');\n",
              "      quickchartButtonEl.classList.add('colab-df-quickchart-complete');\n",
              "    }\n",
              "    (() => {\n",
              "      let quickchartButtonEl =\n",
              "        document.querySelector('#df-f82aa796-e8ae-4338-a0ed-8b0051d0cd91 button');\n",
              "      quickchartButtonEl.style.display =\n",
              "        google.colab.kernel.accessAllowed ? 'block' : 'none';\n",
              "    })();\n",
              "  </script>\n",
              "</div>\n",
              "\n",
              "    </div>\n",
              "  </div>\n"
            ],
            "text/plain": [
              "      ID     Category SubCategory  \\\n",
              "0   8037  Accessories        Bags   \n",
              "1  13670  Accessories       Socks   \n",
              "2  13983        Suits     Tuxedos   \n",
              "3  12081  Accessories      Gloves   \n",
              "4  15617  Accessories   Cufflinks   \n",
              "\n",
              "                                         ProductName  \\\n",
              "0                     \"Prada Striped Shell Belt Bag\"   \n",
              "1  \"Falke - Lhasa Wool And Cashmere-blend Socks -...   \n",
              "2                    \"peak lapel tuxedo suit jacket\"   \n",
              "3                \"Thom Browne Navy 4-Bar Rib Gloves\"   \n",
              "4  \"Alice Made This - Bayley Round Patina-brass C...   \n",
              "\n",
              "                                         Description  \n",
              "0  \"One of Prada's most functional designs, this ...  \n",
              "1  \"Falke - Casual yet luxurious, Falke's dark na...  \n",
              "2  \"White and black linen blend peak lapel tuxedo...  \n",
              "3  \"Pair of rib knit cashmere gloves in navy. Sig...  \n",
              "4  \"Alice Made This - Made in the UK, these teal ...  "
            ]
          },
          "execution_count": 3,
          "metadata": {},
          "output_type": "execute_result"
        }
      ],
      "source": [
        "df.head()"
      ]
    },
    {
      "cell_type": "code",
      "execution_count": null,
      "id": "583fd667-8a33-41de-85e5-f5c5105a0024",
      "metadata": {
        "colab": {
          "base_uri": "https://localhost:8080/"
        },
        "id": "583fd667-8a33-41de-85e5-f5c5105a0024",
        "outputId": "763bf209-e2d4-4aba-86b1-0e5f70e7a4fb"
      },
      "outputs": [
        {
          "name": "stdout",
          "output_type": "stream",
          "text": [
            "<class 'pandas.core.frame.DataFrame'>\n",
            "RangeIndex: 5000 entries, 0 to 4999\n",
            "Data columns (total 5 columns):\n",
            " #   Column       Non-Null Count  Dtype \n",
            "---  ------       --------------  ----- \n",
            " 0   ID           5000 non-null   int64 \n",
            " 1   Category     4963 non-null   object\n",
            " 2   SubCategory  4963 non-null   object\n",
            " 3   ProductName  5000 non-null   object\n",
            " 4   Description  5000 non-null   object\n",
            "dtypes: int64(1), object(4)\n",
            "memory usage: 195.4+ KB\n"
          ]
        }
      ],
      "source": [
        "df.info()"
      ]
    },
    {
      "cell_type": "markdown",
      "id": "5134537d-7e26-4a4b-974d-fe37db7b8fe9",
      "metadata": {
        "id": "5134537d-7e26-4a4b-974d-fe37db7b8fe9"
      },
      "source": [
        "### Data Cleaning"
      ]
    },
    {
      "cell_type": "code",
      "execution_count": null,
      "id": "d60304ba-1bac-416d-840c-533962bbec85",
      "metadata": {
        "colab": {
          "base_uri": "https://localhost:8080/"
        },
        "id": "d60304ba-1bac-416d-840c-533962bbec85",
        "outputId": "95695592-b917-4985-9068-ffb4998d9f00"
      },
      "outputs": [
        {
          "data": {
            "text/plain": [
              "ID              0\n",
              "Category       37\n",
              "SubCategory    37\n",
              "ProductName     0\n",
              "Description     0\n",
              "dtype: int64"
            ]
          },
          "execution_count": 5,
          "metadata": {},
          "output_type": "execute_result"
        }
      ],
      "source": [
        "df.isnull().sum()"
      ]
    },
    {
      "cell_type": "code",
      "execution_count": null,
      "id": "d314f525-043f-4b90-83be-35eb2b499871",
      "metadata": {
        "id": "d314f525-043f-4b90-83be-35eb2b499871"
      },
      "outputs": [],
      "source": [
        "df=df.dropna()"
      ]
    },
    {
      "cell_type": "code",
      "execution_count": null,
      "id": "0e6c5f67-1075-4541-a03e-de8585cc9856",
      "metadata": {
        "colab": {
          "base_uri": "https://localhost:8080/"
        },
        "id": "0e6c5f67-1075-4541-a03e-de8585cc9856",
        "outputId": "d255aea3-87bb-4b3f-da47-9313732611b7"
      },
      "outputs": [
        {
          "name": "stdout",
          "output_type": "stream",
          "text": [
            "<class 'pandas.core.frame.DataFrame'>\n",
            "Index: 4963 entries, 0 to 4999\n",
            "Data columns (total 5 columns):\n",
            " #   Column       Non-Null Count  Dtype \n",
            "---  ------       --------------  ----- \n",
            " 0   ID           4963 non-null   int64 \n",
            " 1   Category     4963 non-null   object\n",
            " 2   SubCategory  4963 non-null   object\n",
            " 3   ProductName  4963 non-null   object\n",
            " 4   Description  4963 non-null   object\n",
            "dtypes: int64(1), object(4)\n",
            "memory usage: 232.6+ KB\n"
          ]
        }
      ],
      "source": [
        "df.info()"
      ]
    },
    {
      "cell_type": "code",
      "execution_count": null,
      "id": "db8110fc-cb3c-461b-bc9e-53cb56b7fa8e",
      "metadata": {
        "colab": {
          "base_uri": "https://localhost:8080/"
        },
        "id": "db8110fc-cb3c-461b-bc9e-53cb56b7fa8e",
        "outputId": "8a7faf0d-4be6-48a3-f9e4-68b38a2dfa25"
      },
      "outputs": [
        {
          "data": {
            "text/plain": [
              "0"
            ]
          },
          "execution_count": 8,
          "metadata": {},
          "output_type": "execute_result"
        }
      ],
      "source": [
        "df.duplicated().sum()"
      ]
    },
    {
      "cell_type": "code",
      "execution_count": null,
      "id": "42bce5f0-3088-450a-801e-998dd6ecd3e1",
      "metadata": {
        "colab": {
          "base_uri": "https://localhost:8080/",
          "height": 300
        },
        "id": "42bce5f0-3088-450a-801e-998dd6ecd3e1",
        "outputId": "f76a6962-7b36-4220-e7a9-c22f8a167dd5"
      },
      "outputs": [
        {
          "data": {
            "application/vnd.google.colaboratory.intrinsic+json": {
              "summary": "{\n  \"name\": \"df\",\n  \"rows\": 8,\n  \"fields\": [\n    {\n      \"column\": \"ID\",\n      \"properties\": {\n        \"dtype\": \"number\",\n        \"std\": 5900.139984419671,\n        \"min\": 0.0,\n        \"max\": 18715.0,\n        \"num_unique_values\": 8,\n        \"samples\": [\n          9303.044328027403,\n          9163.0,\n          4963.0\n        ],\n        \"semantic_type\": \"\",\n        \"description\": \"\"\n      }\n    }\n  ]\n}",
              "type": "dataframe"
            },
            "text/html": [
              "\n",
              "  <div id=\"df-ddfbf8ac-f441-4358-abb9-bece908d1add\" class=\"colab-df-container\">\n",
              "    <div>\n",
              "<style scoped>\n",
              "    .dataframe tbody tr th:only-of-type {\n",
              "        vertical-align: middle;\n",
              "    }\n",
              "\n",
              "    .dataframe tbody tr th {\n",
              "        vertical-align: top;\n",
              "    }\n",
              "\n",
              "    .dataframe thead th {\n",
              "        text-align: right;\n",
              "    }\n",
              "</style>\n",
              "<table border=\"1\" class=\"dataframe\">\n",
              "  <thead>\n",
              "    <tr style=\"text-align: right;\">\n",
              "      <th></th>\n",
              "      <th>ID</th>\n",
              "    </tr>\n",
              "  </thead>\n",
              "  <tbody>\n",
              "    <tr>\n",
              "      <th>count</th>\n",
              "      <td>4963.000000</td>\n",
              "    </tr>\n",
              "    <tr>\n",
              "      <th>mean</th>\n",
              "      <td>9303.044328</td>\n",
              "    </tr>\n",
              "    <tr>\n",
              "      <th>std</th>\n",
              "      <td>5355.379981</td>\n",
              "    </tr>\n",
              "    <tr>\n",
              "      <th>min</th>\n",
              "      <td>0.000000</td>\n",
              "    </tr>\n",
              "    <tr>\n",
              "      <th>25%</th>\n",
              "      <td>4727.000000</td>\n",
              "    </tr>\n",
              "    <tr>\n",
              "      <th>50%</th>\n",
              "      <td>9163.000000</td>\n",
              "    </tr>\n",
              "    <tr>\n",
              "      <th>75%</th>\n",
              "      <td>13957.000000</td>\n",
              "    </tr>\n",
              "    <tr>\n",
              "      <th>max</th>\n",
              "      <td>18715.000000</td>\n",
              "    </tr>\n",
              "  </tbody>\n",
              "</table>\n",
              "</div>\n",
              "    <div class=\"colab-df-buttons\">\n",
              "\n",
              "  <div class=\"colab-df-container\">\n",
              "    <button class=\"colab-df-convert\" onclick=\"convertToInteractive('df-ddfbf8ac-f441-4358-abb9-bece908d1add')\"\n",
              "            title=\"Convert this dataframe to an interactive table.\"\n",
              "            style=\"display:none;\">\n",
              "\n",
              "  <svg xmlns=\"http://www.w3.org/2000/svg\" height=\"24px\" viewBox=\"0 -960 960 960\">\n",
              "    <path d=\"M120-120v-720h720v720H120Zm60-500h600v-160H180v160Zm220 220h160v-160H400v160Zm0 220h160v-160H400v160ZM180-400h160v-160H180v160Zm440 0h160v-160H620v160ZM180-180h160v-160H180v160Zm440 0h160v-160H620v160Z\"/>\n",
              "  </svg>\n",
              "    </button>\n",
              "\n",
              "  <style>\n",
              "    .colab-df-container {\n",
              "      display:flex;\n",
              "      gap: 12px;\n",
              "    }\n",
              "\n",
              "    .colab-df-convert {\n",
              "      background-color: #E8F0FE;\n",
              "      border: none;\n",
              "      border-radius: 50%;\n",
              "      cursor: pointer;\n",
              "      display: none;\n",
              "      fill: #1967D2;\n",
              "      height: 32px;\n",
              "      padding: 0 0 0 0;\n",
              "      width: 32px;\n",
              "    }\n",
              "\n",
              "    .colab-df-convert:hover {\n",
              "      background-color: #E2EBFA;\n",
              "      box-shadow: 0px 1px 2px rgba(60, 64, 67, 0.3), 0px 1px 3px 1px rgba(60, 64, 67, 0.15);\n",
              "      fill: #174EA6;\n",
              "    }\n",
              "\n",
              "    .colab-df-buttons div {\n",
              "      margin-bottom: 4px;\n",
              "    }\n",
              "\n",
              "    [theme=dark] .colab-df-convert {\n",
              "      background-color: #3B4455;\n",
              "      fill: #D2E3FC;\n",
              "    }\n",
              "\n",
              "    [theme=dark] .colab-df-convert:hover {\n",
              "      background-color: #434B5C;\n",
              "      box-shadow: 0px 1px 3px 1px rgba(0, 0, 0, 0.15);\n",
              "      filter: drop-shadow(0px 1px 2px rgba(0, 0, 0, 0.3));\n",
              "      fill: #FFFFFF;\n",
              "    }\n",
              "  </style>\n",
              "\n",
              "    <script>\n",
              "      const buttonEl =\n",
              "        document.querySelector('#df-ddfbf8ac-f441-4358-abb9-bece908d1add button.colab-df-convert');\n",
              "      buttonEl.style.display =\n",
              "        google.colab.kernel.accessAllowed ? 'block' : 'none';\n",
              "\n",
              "      async function convertToInteractive(key) {\n",
              "        const element = document.querySelector('#df-ddfbf8ac-f441-4358-abb9-bece908d1add');\n",
              "        const dataTable =\n",
              "          await google.colab.kernel.invokeFunction('convertToInteractive',\n",
              "                                                    [key], {});\n",
              "        if (!dataTable) return;\n",
              "\n",
              "        const docLinkHtml = 'Like what you see? Visit the ' +\n",
              "          '<a target=\"_blank\" href=https://colab.research.google.com/notebooks/data_table.ipynb>data table notebook</a>'\n",
              "          + ' to learn more about interactive tables.';\n",
              "        element.innerHTML = '';\n",
              "        dataTable['output_type'] = 'display_data';\n",
              "        await google.colab.output.renderOutput(dataTable, element);\n",
              "        const docLink = document.createElement('div');\n",
              "        docLink.innerHTML = docLinkHtml;\n",
              "        element.appendChild(docLink);\n",
              "      }\n",
              "    </script>\n",
              "  </div>\n",
              "\n",
              "\n",
              "<div id=\"df-f7beaa10-13b6-431d-a28b-dac35cc3aedb\">\n",
              "  <button class=\"colab-df-quickchart\" onclick=\"quickchart('df-f7beaa10-13b6-431d-a28b-dac35cc3aedb')\"\n",
              "            title=\"Suggest charts\"\n",
              "            style=\"display:none;\">\n",
              "\n",
              "<svg xmlns=\"http://www.w3.org/2000/svg\" height=\"24px\"viewBox=\"0 0 24 24\"\n",
              "     width=\"24px\">\n",
              "    <g>\n",
              "        <path d=\"M19 3H5c-1.1 0-2 .9-2 2v14c0 1.1.9 2 2 2h14c1.1 0 2-.9 2-2V5c0-1.1-.9-2-2-2zM9 17H7v-7h2v7zm4 0h-2V7h2v10zm4 0h-2v-4h2v4z\"/>\n",
              "    </g>\n",
              "</svg>\n",
              "  </button>\n",
              "\n",
              "<style>\n",
              "  .colab-df-quickchart {\n",
              "      --bg-color: #E8F0FE;\n",
              "      --fill-color: #1967D2;\n",
              "      --hover-bg-color: #E2EBFA;\n",
              "      --hover-fill-color: #174EA6;\n",
              "      --disabled-fill-color: #AAA;\n",
              "      --disabled-bg-color: #DDD;\n",
              "  }\n",
              "\n",
              "  [theme=dark] .colab-df-quickchart {\n",
              "      --bg-color: #3B4455;\n",
              "      --fill-color: #D2E3FC;\n",
              "      --hover-bg-color: #434B5C;\n",
              "      --hover-fill-color: #FFFFFF;\n",
              "      --disabled-bg-color: #3B4455;\n",
              "      --disabled-fill-color: #666;\n",
              "  }\n",
              "\n",
              "  .colab-df-quickchart {\n",
              "    background-color: var(--bg-color);\n",
              "    border: none;\n",
              "    border-radius: 50%;\n",
              "    cursor: pointer;\n",
              "    display: none;\n",
              "    fill: var(--fill-color);\n",
              "    height: 32px;\n",
              "    padding: 0;\n",
              "    width: 32px;\n",
              "  }\n",
              "\n",
              "  .colab-df-quickchart:hover {\n",
              "    background-color: var(--hover-bg-color);\n",
              "    box-shadow: 0 1px 2px rgba(60, 64, 67, 0.3), 0 1px 3px 1px rgba(60, 64, 67, 0.15);\n",
              "    fill: var(--button-hover-fill-color);\n",
              "  }\n",
              "\n",
              "  .colab-df-quickchart-complete:disabled,\n",
              "  .colab-df-quickchart-complete:disabled:hover {\n",
              "    background-color: var(--disabled-bg-color);\n",
              "    fill: var(--disabled-fill-color);\n",
              "    box-shadow: none;\n",
              "  }\n",
              "\n",
              "  .colab-df-spinner {\n",
              "    border: 2px solid var(--fill-color);\n",
              "    border-color: transparent;\n",
              "    border-bottom-color: var(--fill-color);\n",
              "    animation:\n",
              "      spin 1s steps(1) infinite;\n",
              "  }\n",
              "\n",
              "  @keyframes spin {\n",
              "    0% {\n",
              "      border-color: transparent;\n",
              "      border-bottom-color: var(--fill-color);\n",
              "      border-left-color: var(--fill-color);\n",
              "    }\n",
              "    20% {\n",
              "      border-color: transparent;\n",
              "      border-left-color: var(--fill-color);\n",
              "      border-top-color: var(--fill-color);\n",
              "    }\n",
              "    30% {\n",
              "      border-color: transparent;\n",
              "      border-left-color: var(--fill-color);\n",
              "      border-top-color: var(--fill-color);\n",
              "      border-right-color: var(--fill-color);\n",
              "    }\n",
              "    40% {\n",
              "      border-color: transparent;\n",
              "      border-right-color: var(--fill-color);\n",
              "      border-top-color: var(--fill-color);\n",
              "    }\n",
              "    60% {\n",
              "      border-color: transparent;\n",
              "      border-right-color: var(--fill-color);\n",
              "    }\n",
              "    80% {\n",
              "      border-color: transparent;\n",
              "      border-right-color: var(--fill-color);\n",
              "      border-bottom-color: var(--fill-color);\n",
              "    }\n",
              "    90% {\n",
              "      border-color: transparent;\n",
              "      border-bottom-color: var(--fill-color);\n",
              "    }\n",
              "  }\n",
              "</style>\n",
              "\n",
              "  <script>\n",
              "    async function quickchart(key) {\n",
              "      const quickchartButtonEl =\n",
              "        document.querySelector('#' + key + ' button');\n",
              "      quickchartButtonEl.disabled = true;  // To prevent multiple clicks.\n",
              "      quickchartButtonEl.classList.add('colab-df-spinner');\n",
              "      try {\n",
              "        const charts = await google.colab.kernel.invokeFunction(\n",
              "            'suggestCharts', [key], {});\n",
              "      } catch (error) {\n",
              "        console.error('Error during call to suggestCharts:', error);\n",
              "      }\n",
              "      quickchartButtonEl.classList.remove('colab-df-spinner');\n",
              "      quickchartButtonEl.classList.add('colab-df-quickchart-complete');\n",
              "    }\n",
              "    (() => {\n",
              "      let quickchartButtonEl =\n",
              "        document.querySelector('#df-f7beaa10-13b6-431d-a28b-dac35cc3aedb button');\n",
              "      quickchartButtonEl.style.display =\n",
              "        google.colab.kernel.accessAllowed ? 'block' : 'none';\n",
              "    })();\n",
              "  </script>\n",
              "</div>\n",
              "\n",
              "    </div>\n",
              "  </div>\n"
            ],
            "text/plain": [
              "                 ID\n",
              "count   4963.000000\n",
              "mean    9303.044328\n",
              "std     5355.379981\n",
              "min        0.000000\n",
              "25%     4727.000000\n",
              "50%     9163.000000\n",
              "75%    13957.000000\n",
              "max    18715.000000"
            ]
          },
          "execution_count": 9,
          "metadata": {},
          "output_type": "execute_result"
        }
      ],
      "source": [
        "df.describe()"
      ]
    },
    {
      "cell_type": "code",
      "execution_count": null,
      "id": "59330dc4-a7b7-401b-89e8-b488fbebc84f",
      "metadata": {
        "colab": {
          "base_uri": "https://localhost:8080/",
          "height": 206
        },
        "id": "59330dc4-a7b7-401b-89e8-b488fbebc84f",
        "outputId": "3ba10b4e-d805-43bc-9f6d-89e86ffaa5b6"
      },
      "outputs": [
        {
          "data": {
            "application/vnd.google.colaboratory.intrinsic+json": {
              "summary": "{\n  \"name\": \"df\",\n  \"rows\": 4963,\n  \"fields\": [\n    {\n      \"column\": \"ID\",\n      \"properties\": {\n        \"dtype\": \"number\",\n        \"std\": 5355,\n        \"min\": 0,\n        \"max\": 18715,\n        \"num_unique_values\": 4963,\n        \"samples\": [\n          1586,\n          13166,\n          2781\n        ],\n        \"semantic_type\": \"\",\n        \"description\": \"\"\n      }\n    },\n    {\n      \"column\": \"Category\",\n      \"properties\": {\n        \"dtype\": \"category\",\n        \"num_unique_values\": 10,\n        \"samples\": [\n          \"Jewelry\",\n          \"Suits\",\n          \"Shoes\"\n        ],\n        \"semantic_type\": \"\",\n        \"description\": \"\"\n      }\n    },\n    {\n      \"column\": \"SubCategory\",\n      \"properties\": {\n        \"dtype\": \"category\",\n        \"num_unique_values\": 42,\n        \"samples\": [\n          \"Suits\",\n          \"Boxers & Briefs\",\n          \"Ties\"\n        ],\n        \"semantic_type\": \"\",\n        \"description\": \"\"\n      }\n    },\n    {\n      \"column\": \"ProductName\",\n      \"properties\": {\n        \"dtype\": \"string\",\n        \"num_unique_values\": 4353,\n        \"samples\": [\n          \"\\\"Men's Neon Camo Front-Zip Hoodie\\\"\",\n          \"\\\"Men's Side-Stripe Chino Track Pants\\\"\",\n          \"\\\"Plaque Leather Sandals\\\"\"\n        ],\n        \"semantic_type\": \"\",\n        \"description\": \"\"\n      }\n    },\n    {\n      \"column\": \"Description\",\n      \"properties\": {\n        \"dtype\": \"string\",\n        \"num_unique_values\": 4453,\n        \"samples\": [\n          \"\\\"Brunello Cucinelli cardigan in striped knit. Stand collar; two-way zip front. Banded cuffs and hem. Side slip pockets. Hem hits at hips. Cotton. Made in Italy.\\\"\",\n          \"\\\"Instantly recognizable by its logo-stamped footbed and pull-tab, Thom Browne's slides are a no-brainer vacation staple for fans of the brand. They're crafted from rubber with contrast stripes and a molded footbed for comfortability.\\\"\",\n          \"\\\"Hook and loop closure . Suede upper . Elastic strap . Rubber sole\\\"\"\n        ],\n        \"semantic_type\": \"\",\n        \"description\": \"\"\n      }\n    }\n  ]\n}",
              "type": "dataframe",
              "variable_name": "df"
            },
            "text/html": [
              "\n",
              "  <div id=\"df-2ac44ed2-76b3-4a66-b85e-14b26385dd60\" class=\"colab-df-container\">\n",
              "    <div>\n",
              "<style scoped>\n",
              "    .dataframe tbody tr th:only-of-type {\n",
              "        vertical-align: middle;\n",
              "    }\n",
              "\n",
              "    .dataframe tbody tr th {\n",
              "        vertical-align: top;\n",
              "    }\n",
              "\n",
              "    .dataframe thead th {\n",
              "        text-align: right;\n",
              "    }\n",
              "</style>\n",
              "<table border=\"1\" class=\"dataframe\">\n",
              "  <thead>\n",
              "    <tr style=\"text-align: right;\">\n",
              "      <th></th>\n",
              "      <th>ID</th>\n",
              "      <th>Category</th>\n",
              "      <th>SubCategory</th>\n",
              "      <th>ProductName</th>\n",
              "      <th>Description</th>\n",
              "    </tr>\n",
              "  </thead>\n",
              "  <tbody>\n",
              "    <tr>\n",
              "      <th>0</th>\n",
              "      <td>8037</td>\n",
              "      <td>Accessories</td>\n",
              "      <td>Bags</td>\n",
              "      <td>\"Prada Striped Shell Belt Bag\"</td>\n",
              "      <td>\"One of Prada's most functional designs, this ...</td>\n",
              "    </tr>\n",
              "    <tr>\n",
              "      <th>1</th>\n",
              "      <td>13670</td>\n",
              "      <td>Accessories</td>\n",
              "      <td>Socks</td>\n",
              "      <td>\"Falke - Lhasa Wool And Cashmere-blend Socks -...</td>\n",
              "      <td>\"Falke - Casual yet luxurious, Falke's dark na...</td>\n",
              "    </tr>\n",
              "    <tr>\n",
              "      <th>2</th>\n",
              "      <td>13983</td>\n",
              "      <td>Suits</td>\n",
              "      <td>Tuxedos</td>\n",
              "      <td>\"peak lapel tuxedo suit jacket\"</td>\n",
              "      <td>\"White and black linen blend peak lapel tuxedo...</td>\n",
              "    </tr>\n",
              "    <tr>\n",
              "      <th>3</th>\n",
              "      <td>12081</td>\n",
              "      <td>Accessories</td>\n",
              "      <td>Gloves</td>\n",
              "      <td>\"Thom Browne Navy 4-Bar Rib Gloves\"</td>\n",
              "      <td>\"Pair of rib knit cashmere gloves in navy. Sig...</td>\n",
              "    </tr>\n",
              "    <tr>\n",
              "      <th>4</th>\n",
              "      <td>15617</td>\n",
              "      <td>Accessories</td>\n",
              "      <td>Cufflinks</td>\n",
              "      <td>\"Alice Made This - Bayley Round Patina-brass C...</td>\n",
              "      <td>\"Alice Made This - Made in the UK, these teal ...</td>\n",
              "    </tr>\n",
              "  </tbody>\n",
              "</table>\n",
              "</div>\n",
              "    <div class=\"colab-df-buttons\">\n",
              "\n",
              "  <div class=\"colab-df-container\">\n",
              "    <button class=\"colab-df-convert\" onclick=\"convertToInteractive('df-2ac44ed2-76b3-4a66-b85e-14b26385dd60')\"\n",
              "            title=\"Convert this dataframe to an interactive table.\"\n",
              "            style=\"display:none;\">\n",
              "\n",
              "  <svg xmlns=\"http://www.w3.org/2000/svg\" height=\"24px\" viewBox=\"0 -960 960 960\">\n",
              "    <path d=\"M120-120v-720h720v720H120Zm60-500h600v-160H180v160Zm220 220h160v-160H400v160Zm0 220h160v-160H400v160ZM180-400h160v-160H180v160Zm440 0h160v-160H620v160ZM180-180h160v-160H180v160Zm440 0h160v-160H620v160Z\"/>\n",
              "  </svg>\n",
              "    </button>\n",
              "\n",
              "  <style>\n",
              "    .colab-df-container {\n",
              "      display:flex;\n",
              "      gap: 12px;\n",
              "    }\n",
              "\n",
              "    .colab-df-convert {\n",
              "      background-color: #E8F0FE;\n",
              "      border: none;\n",
              "      border-radius: 50%;\n",
              "      cursor: pointer;\n",
              "      display: none;\n",
              "      fill: #1967D2;\n",
              "      height: 32px;\n",
              "      padding: 0 0 0 0;\n",
              "      width: 32px;\n",
              "    }\n",
              "\n",
              "    .colab-df-convert:hover {\n",
              "      background-color: #E2EBFA;\n",
              "      box-shadow: 0px 1px 2px rgba(60, 64, 67, 0.3), 0px 1px 3px 1px rgba(60, 64, 67, 0.15);\n",
              "      fill: #174EA6;\n",
              "    }\n",
              "\n",
              "    .colab-df-buttons div {\n",
              "      margin-bottom: 4px;\n",
              "    }\n",
              "\n",
              "    [theme=dark] .colab-df-convert {\n",
              "      background-color: #3B4455;\n",
              "      fill: #D2E3FC;\n",
              "    }\n",
              "\n",
              "    [theme=dark] .colab-df-convert:hover {\n",
              "      background-color: #434B5C;\n",
              "      box-shadow: 0px 1px 3px 1px rgba(0, 0, 0, 0.15);\n",
              "      filter: drop-shadow(0px 1px 2px rgba(0, 0, 0, 0.3));\n",
              "      fill: #FFFFFF;\n",
              "    }\n",
              "  </style>\n",
              "\n",
              "    <script>\n",
              "      const buttonEl =\n",
              "        document.querySelector('#df-2ac44ed2-76b3-4a66-b85e-14b26385dd60 button.colab-df-convert');\n",
              "      buttonEl.style.display =\n",
              "        google.colab.kernel.accessAllowed ? 'block' : 'none';\n",
              "\n",
              "      async function convertToInteractive(key) {\n",
              "        const element = document.querySelector('#df-2ac44ed2-76b3-4a66-b85e-14b26385dd60');\n",
              "        const dataTable =\n",
              "          await google.colab.kernel.invokeFunction('convertToInteractive',\n",
              "                                                    [key], {});\n",
              "        if (!dataTable) return;\n",
              "\n",
              "        const docLinkHtml = 'Like what you see? Visit the ' +\n",
              "          '<a target=\"_blank\" href=https://colab.research.google.com/notebooks/data_table.ipynb>data table notebook</a>'\n",
              "          + ' to learn more about interactive tables.';\n",
              "        element.innerHTML = '';\n",
              "        dataTable['output_type'] = 'display_data';\n",
              "        await google.colab.output.renderOutput(dataTable, element);\n",
              "        const docLink = document.createElement('div');\n",
              "        docLink.innerHTML = docLinkHtml;\n",
              "        element.appendChild(docLink);\n",
              "      }\n",
              "    </script>\n",
              "  </div>\n",
              "\n",
              "\n",
              "<div id=\"df-282af844-41b4-40b2-81f6-fb7c930001b5\">\n",
              "  <button class=\"colab-df-quickchart\" onclick=\"quickchart('df-282af844-41b4-40b2-81f6-fb7c930001b5')\"\n",
              "            title=\"Suggest charts\"\n",
              "            style=\"display:none;\">\n",
              "\n",
              "<svg xmlns=\"http://www.w3.org/2000/svg\" height=\"24px\"viewBox=\"0 0 24 24\"\n",
              "     width=\"24px\">\n",
              "    <g>\n",
              "        <path d=\"M19 3H5c-1.1 0-2 .9-2 2v14c0 1.1.9 2 2 2h14c1.1 0 2-.9 2-2V5c0-1.1-.9-2-2-2zM9 17H7v-7h2v7zm4 0h-2V7h2v10zm4 0h-2v-4h2v4z\"/>\n",
              "    </g>\n",
              "</svg>\n",
              "  </button>\n",
              "\n",
              "<style>\n",
              "  .colab-df-quickchart {\n",
              "      --bg-color: #E8F0FE;\n",
              "      --fill-color: #1967D2;\n",
              "      --hover-bg-color: #E2EBFA;\n",
              "      --hover-fill-color: #174EA6;\n",
              "      --disabled-fill-color: #AAA;\n",
              "      --disabled-bg-color: #DDD;\n",
              "  }\n",
              "\n",
              "  [theme=dark] .colab-df-quickchart {\n",
              "      --bg-color: #3B4455;\n",
              "      --fill-color: #D2E3FC;\n",
              "      --hover-bg-color: #434B5C;\n",
              "      --hover-fill-color: #FFFFFF;\n",
              "      --disabled-bg-color: #3B4455;\n",
              "      --disabled-fill-color: #666;\n",
              "  }\n",
              "\n",
              "  .colab-df-quickchart {\n",
              "    background-color: var(--bg-color);\n",
              "    border: none;\n",
              "    border-radius: 50%;\n",
              "    cursor: pointer;\n",
              "    display: none;\n",
              "    fill: var(--fill-color);\n",
              "    height: 32px;\n",
              "    padding: 0;\n",
              "    width: 32px;\n",
              "  }\n",
              "\n",
              "  .colab-df-quickchart:hover {\n",
              "    background-color: var(--hover-bg-color);\n",
              "    box-shadow: 0 1px 2px rgba(60, 64, 67, 0.3), 0 1px 3px 1px rgba(60, 64, 67, 0.15);\n",
              "    fill: var(--button-hover-fill-color);\n",
              "  }\n",
              "\n",
              "  .colab-df-quickchart-complete:disabled,\n",
              "  .colab-df-quickchart-complete:disabled:hover {\n",
              "    background-color: var(--disabled-bg-color);\n",
              "    fill: var(--disabled-fill-color);\n",
              "    box-shadow: none;\n",
              "  }\n",
              "\n",
              "  .colab-df-spinner {\n",
              "    border: 2px solid var(--fill-color);\n",
              "    border-color: transparent;\n",
              "    border-bottom-color: var(--fill-color);\n",
              "    animation:\n",
              "      spin 1s steps(1) infinite;\n",
              "  }\n",
              "\n",
              "  @keyframes spin {\n",
              "    0% {\n",
              "      border-color: transparent;\n",
              "      border-bottom-color: var(--fill-color);\n",
              "      border-left-color: var(--fill-color);\n",
              "    }\n",
              "    20% {\n",
              "      border-color: transparent;\n",
              "      border-left-color: var(--fill-color);\n",
              "      border-top-color: var(--fill-color);\n",
              "    }\n",
              "    30% {\n",
              "      border-color: transparent;\n",
              "      border-left-color: var(--fill-color);\n",
              "      border-top-color: var(--fill-color);\n",
              "      border-right-color: var(--fill-color);\n",
              "    }\n",
              "    40% {\n",
              "      border-color: transparent;\n",
              "      border-right-color: var(--fill-color);\n",
              "      border-top-color: var(--fill-color);\n",
              "    }\n",
              "    60% {\n",
              "      border-color: transparent;\n",
              "      border-right-color: var(--fill-color);\n",
              "    }\n",
              "    80% {\n",
              "      border-color: transparent;\n",
              "      border-right-color: var(--fill-color);\n",
              "      border-bottom-color: var(--fill-color);\n",
              "    }\n",
              "    90% {\n",
              "      border-color: transparent;\n",
              "      border-bottom-color: var(--fill-color);\n",
              "    }\n",
              "  }\n",
              "</style>\n",
              "\n",
              "  <script>\n",
              "    async function quickchart(key) {\n",
              "      const quickchartButtonEl =\n",
              "        document.querySelector('#' + key + ' button');\n",
              "      quickchartButtonEl.disabled = true;  // To prevent multiple clicks.\n",
              "      quickchartButtonEl.classList.add('colab-df-spinner');\n",
              "      try {\n",
              "        const charts = await google.colab.kernel.invokeFunction(\n",
              "            'suggestCharts', [key], {});\n",
              "      } catch (error) {\n",
              "        console.error('Error during call to suggestCharts:', error);\n",
              "      }\n",
              "      quickchartButtonEl.classList.remove('colab-df-spinner');\n",
              "      quickchartButtonEl.classList.add('colab-df-quickchart-complete');\n",
              "    }\n",
              "    (() => {\n",
              "      let quickchartButtonEl =\n",
              "        document.querySelector('#df-282af844-41b4-40b2-81f6-fb7c930001b5 button');\n",
              "      quickchartButtonEl.style.display =\n",
              "        google.colab.kernel.accessAllowed ? 'block' : 'none';\n",
              "    })();\n",
              "  </script>\n",
              "</div>\n",
              "\n",
              "    </div>\n",
              "  </div>\n"
            ],
            "text/plain": [
              "      ID     Category SubCategory  \\\n",
              "0   8037  Accessories        Bags   \n",
              "1  13670  Accessories       Socks   \n",
              "2  13983        Suits     Tuxedos   \n",
              "3  12081  Accessories      Gloves   \n",
              "4  15617  Accessories   Cufflinks   \n",
              "\n",
              "                                         ProductName  \\\n",
              "0                     \"Prada Striped Shell Belt Bag\"   \n",
              "1  \"Falke - Lhasa Wool And Cashmere-blend Socks -...   \n",
              "2                    \"peak lapel tuxedo suit jacket\"   \n",
              "3                \"Thom Browne Navy 4-Bar Rib Gloves\"   \n",
              "4  \"Alice Made This - Bayley Round Patina-brass C...   \n",
              "\n",
              "                                         Description  \n",
              "0  \"One of Prada's most functional designs, this ...  \n",
              "1  \"Falke - Casual yet luxurious, Falke's dark na...  \n",
              "2  \"White and black linen blend peak lapel tuxedo...  \n",
              "3  \"Pair of rib knit cashmere gloves in navy. Sig...  \n",
              "4  \"Alice Made This - Made in the UK, these teal ...  "
            ]
          },
          "execution_count": 10,
          "metadata": {},
          "output_type": "execute_result"
        }
      ],
      "source": [
        "df.head()"
      ]
    },
    {
      "cell_type": "code",
      "execution_count": null,
      "id": "2ba46cee-a42f-4183-aa64-2183cf0ca3b8",
      "metadata": {
        "colab": {
          "base_uri": "https://localhost:8080/",
          "height": 206
        },
        "id": "2ba46cee-a42f-4183-aa64-2183cf0ca3b8",
        "outputId": "773112d5-b515-4db6-ca7e-887bb2ee586b"
      },
      "outputs": [
        {
          "data": {
            "application/vnd.google.colaboratory.intrinsic+json": {
              "summary": "{\n  \"name\": \"df\",\n  \"rows\": 4963,\n  \"fields\": [\n    {\n      \"column\": \"ID\",\n      \"properties\": {\n        \"dtype\": \"number\",\n        \"std\": 5355,\n        \"min\": 0,\n        \"max\": 18715,\n        \"num_unique_values\": 4963,\n        \"samples\": [\n          1586,\n          13166,\n          2781\n        ],\n        \"semantic_type\": \"\",\n        \"description\": \"\"\n      }\n    },\n    {\n      \"column\": \"Category\",\n      \"properties\": {\n        \"dtype\": \"category\",\n        \"num_unique_values\": 10,\n        \"samples\": [\n          \"Jewelry\",\n          \"Suits\",\n          \"Shoes\"\n        ],\n        \"semantic_type\": \"\",\n        \"description\": \"\"\n      }\n    },\n    {\n      \"column\": \"SubCategory\",\n      \"properties\": {\n        \"dtype\": \"category\",\n        \"num_unique_values\": 42,\n        \"samples\": [\n          \"Suits\",\n          \"Boxers & Briefs\",\n          \"Ties\"\n        ],\n        \"semantic_type\": \"\",\n        \"description\": \"\"\n      }\n    },\n    {\n      \"column\": \"ProductName\",\n      \"properties\": {\n        \"dtype\": \"string\",\n        \"num_unique_values\": 4353,\n        \"samples\": [\n          \"\\\"Men's Neon Camo Front-Zip Hoodie\\\"\",\n          \"\\\"Men's Side-Stripe Chino Track Pants\\\"\",\n          \"\\\"Plaque Leather Sandals\\\"\"\n        ],\n        \"semantic_type\": \"\",\n        \"description\": \"\"\n      }\n    },\n    {\n      \"column\": \"Description\",\n      \"properties\": {\n        \"dtype\": \"string\",\n        \"num_unique_values\": 4453,\n        \"samples\": [\n          \"\\\"Brunello Cucinelli cardigan in striped knit. Stand collar; two-way zip front. Banded cuffs and hem. Side slip pockets. Hem hits at hips. Cotton. Made in Italy.\\\"\",\n          \"\\\"Instantly recognizable by its logo-stamped footbed and pull-tab, Thom Browne's slides are a no-brainer vacation staple for fans of the brand. They're crafted from rubber with contrast stripes and a molded footbed for comfortability.\\\"\",\n          \"\\\"Hook and loop closure . Suede upper . Elastic strap . Rubber sole\\\"\"\n        ],\n        \"semantic_type\": \"\",\n        \"description\": \"\"\n      }\n    }\n  ]\n}",
              "type": "dataframe",
              "variable_name": "df"
            },
            "text/html": [
              "\n",
              "  <div id=\"df-bf55376f-25f0-4c5c-b532-2971a997a735\" class=\"colab-df-container\">\n",
              "    <div>\n",
              "<style scoped>\n",
              "    .dataframe tbody tr th:only-of-type {\n",
              "        vertical-align: middle;\n",
              "    }\n",
              "\n",
              "    .dataframe tbody tr th {\n",
              "        vertical-align: top;\n",
              "    }\n",
              "\n",
              "    .dataframe thead th {\n",
              "        text-align: right;\n",
              "    }\n",
              "</style>\n",
              "<table border=\"1\" class=\"dataframe\">\n",
              "  <thead>\n",
              "    <tr style=\"text-align: right;\">\n",
              "      <th></th>\n",
              "      <th>ID</th>\n",
              "      <th>Category</th>\n",
              "      <th>SubCategory</th>\n",
              "      <th>ProductName</th>\n",
              "      <th>Description</th>\n",
              "    </tr>\n",
              "  </thead>\n",
              "  <tbody>\n",
              "    <tr>\n",
              "      <th>0</th>\n",
              "      <td>8037</td>\n",
              "      <td>Accessories</td>\n",
              "      <td>Bags</td>\n",
              "      <td>\"Prada Striped Shell Belt Bag\"</td>\n",
              "      <td>\"One of Prada's most functional designs, this ...</td>\n",
              "    </tr>\n",
              "    <tr>\n",
              "      <th>1</th>\n",
              "      <td>13670</td>\n",
              "      <td>Accessories</td>\n",
              "      <td>Socks</td>\n",
              "      <td>\"Falke - Lhasa Wool And Cashmere-blend Socks -...</td>\n",
              "      <td>\"Falke - Casual yet luxurious, Falke's dark na...</td>\n",
              "    </tr>\n",
              "    <tr>\n",
              "      <th>2</th>\n",
              "      <td>13983</td>\n",
              "      <td>Suits</td>\n",
              "      <td>Tuxedos</td>\n",
              "      <td>\"peak lapel tuxedo suit jacket\"</td>\n",
              "      <td>\"White and black linen blend peak lapel tuxedo...</td>\n",
              "    </tr>\n",
              "    <tr>\n",
              "      <th>3</th>\n",
              "      <td>12081</td>\n",
              "      <td>Accessories</td>\n",
              "      <td>Gloves</td>\n",
              "      <td>\"Thom Browne Navy 4-Bar Rib Gloves\"</td>\n",
              "      <td>\"Pair of rib knit cashmere gloves in navy. Sig...</td>\n",
              "    </tr>\n",
              "    <tr>\n",
              "      <th>4</th>\n",
              "      <td>15617</td>\n",
              "      <td>Accessories</td>\n",
              "      <td>Cufflinks</td>\n",
              "      <td>\"Alice Made This - Bayley Round Patina-brass C...</td>\n",
              "      <td>\"Alice Made This - Made in the UK, these teal ...</td>\n",
              "    </tr>\n",
              "  </tbody>\n",
              "</table>\n",
              "</div>\n",
              "    <div class=\"colab-df-buttons\">\n",
              "\n",
              "  <div class=\"colab-df-container\">\n",
              "    <button class=\"colab-df-convert\" onclick=\"convertToInteractive('df-bf55376f-25f0-4c5c-b532-2971a997a735')\"\n",
              "            title=\"Convert this dataframe to an interactive table.\"\n",
              "            style=\"display:none;\">\n",
              "\n",
              "  <svg xmlns=\"http://www.w3.org/2000/svg\" height=\"24px\" viewBox=\"0 -960 960 960\">\n",
              "    <path d=\"M120-120v-720h720v720H120Zm60-500h600v-160H180v160Zm220 220h160v-160H400v160Zm0 220h160v-160H400v160ZM180-400h160v-160H180v160Zm440 0h160v-160H620v160ZM180-180h160v-160H180v160Zm440 0h160v-160H620v160Z\"/>\n",
              "  </svg>\n",
              "    </button>\n",
              "\n",
              "  <style>\n",
              "    .colab-df-container {\n",
              "      display:flex;\n",
              "      gap: 12px;\n",
              "    }\n",
              "\n",
              "    .colab-df-convert {\n",
              "      background-color: #E8F0FE;\n",
              "      border: none;\n",
              "      border-radius: 50%;\n",
              "      cursor: pointer;\n",
              "      display: none;\n",
              "      fill: #1967D2;\n",
              "      height: 32px;\n",
              "      padding: 0 0 0 0;\n",
              "      width: 32px;\n",
              "    }\n",
              "\n",
              "    .colab-df-convert:hover {\n",
              "      background-color: #E2EBFA;\n",
              "      box-shadow: 0px 1px 2px rgba(60, 64, 67, 0.3), 0px 1px 3px 1px rgba(60, 64, 67, 0.15);\n",
              "      fill: #174EA6;\n",
              "    }\n",
              "\n",
              "    .colab-df-buttons div {\n",
              "      margin-bottom: 4px;\n",
              "    }\n",
              "\n",
              "    [theme=dark] .colab-df-convert {\n",
              "      background-color: #3B4455;\n",
              "      fill: #D2E3FC;\n",
              "    }\n",
              "\n",
              "    [theme=dark] .colab-df-convert:hover {\n",
              "      background-color: #434B5C;\n",
              "      box-shadow: 0px 1px 3px 1px rgba(0, 0, 0, 0.15);\n",
              "      filter: drop-shadow(0px 1px 2px rgba(0, 0, 0, 0.3));\n",
              "      fill: #FFFFFF;\n",
              "    }\n",
              "  </style>\n",
              "\n",
              "    <script>\n",
              "      const buttonEl =\n",
              "        document.querySelector('#df-bf55376f-25f0-4c5c-b532-2971a997a735 button.colab-df-convert');\n",
              "      buttonEl.style.display =\n",
              "        google.colab.kernel.accessAllowed ? 'block' : 'none';\n",
              "\n",
              "      async function convertToInteractive(key) {\n",
              "        const element = document.querySelector('#df-bf55376f-25f0-4c5c-b532-2971a997a735');\n",
              "        const dataTable =\n",
              "          await google.colab.kernel.invokeFunction('convertToInteractive',\n",
              "                                                    [key], {});\n",
              "        if (!dataTable) return;\n",
              "\n",
              "        const docLinkHtml = 'Like what you see? Visit the ' +\n",
              "          '<a target=\"_blank\" href=https://colab.research.google.com/notebooks/data_table.ipynb>data table notebook</a>'\n",
              "          + ' to learn more about interactive tables.';\n",
              "        element.innerHTML = '';\n",
              "        dataTable['output_type'] = 'display_data';\n",
              "        await google.colab.output.renderOutput(dataTable, element);\n",
              "        const docLink = document.createElement('div');\n",
              "        docLink.innerHTML = docLinkHtml;\n",
              "        element.appendChild(docLink);\n",
              "      }\n",
              "    </script>\n",
              "  </div>\n",
              "\n",
              "\n",
              "<div id=\"df-9641435d-638e-4084-a788-04b4e81dc99b\">\n",
              "  <button class=\"colab-df-quickchart\" onclick=\"quickchart('df-9641435d-638e-4084-a788-04b4e81dc99b')\"\n",
              "            title=\"Suggest charts\"\n",
              "            style=\"display:none;\">\n",
              "\n",
              "<svg xmlns=\"http://www.w3.org/2000/svg\" height=\"24px\"viewBox=\"0 0 24 24\"\n",
              "     width=\"24px\">\n",
              "    <g>\n",
              "        <path d=\"M19 3H5c-1.1 0-2 .9-2 2v14c0 1.1.9 2 2 2h14c1.1 0 2-.9 2-2V5c0-1.1-.9-2-2-2zM9 17H7v-7h2v7zm4 0h-2V7h2v10zm4 0h-2v-4h2v4z\"/>\n",
              "    </g>\n",
              "</svg>\n",
              "  </button>\n",
              "\n",
              "<style>\n",
              "  .colab-df-quickchart {\n",
              "      --bg-color: #E8F0FE;\n",
              "      --fill-color: #1967D2;\n",
              "      --hover-bg-color: #E2EBFA;\n",
              "      --hover-fill-color: #174EA6;\n",
              "      --disabled-fill-color: #AAA;\n",
              "      --disabled-bg-color: #DDD;\n",
              "  }\n",
              "\n",
              "  [theme=dark] .colab-df-quickchart {\n",
              "      --bg-color: #3B4455;\n",
              "      --fill-color: #D2E3FC;\n",
              "      --hover-bg-color: #434B5C;\n",
              "      --hover-fill-color: #FFFFFF;\n",
              "      --disabled-bg-color: #3B4455;\n",
              "      --disabled-fill-color: #666;\n",
              "  }\n",
              "\n",
              "  .colab-df-quickchart {\n",
              "    background-color: var(--bg-color);\n",
              "    border: none;\n",
              "    border-radius: 50%;\n",
              "    cursor: pointer;\n",
              "    display: none;\n",
              "    fill: var(--fill-color);\n",
              "    height: 32px;\n",
              "    padding: 0;\n",
              "    width: 32px;\n",
              "  }\n",
              "\n",
              "  .colab-df-quickchart:hover {\n",
              "    background-color: var(--hover-bg-color);\n",
              "    box-shadow: 0 1px 2px rgba(60, 64, 67, 0.3), 0 1px 3px 1px rgba(60, 64, 67, 0.15);\n",
              "    fill: var(--button-hover-fill-color);\n",
              "  }\n",
              "\n",
              "  .colab-df-quickchart-complete:disabled,\n",
              "  .colab-df-quickchart-complete:disabled:hover {\n",
              "    background-color: var(--disabled-bg-color);\n",
              "    fill: var(--disabled-fill-color);\n",
              "    box-shadow: none;\n",
              "  }\n",
              "\n",
              "  .colab-df-spinner {\n",
              "    border: 2px solid var(--fill-color);\n",
              "    border-color: transparent;\n",
              "    border-bottom-color: var(--fill-color);\n",
              "    animation:\n",
              "      spin 1s steps(1) infinite;\n",
              "  }\n",
              "\n",
              "  @keyframes spin {\n",
              "    0% {\n",
              "      border-color: transparent;\n",
              "      border-bottom-color: var(--fill-color);\n",
              "      border-left-color: var(--fill-color);\n",
              "    }\n",
              "    20% {\n",
              "      border-color: transparent;\n",
              "      border-left-color: var(--fill-color);\n",
              "      border-top-color: var(--fill-color);\n",
              "    }\n",
              "    30% {\n",
              "      border-color: transparent;\n",
              "      border-left-color: var(--fill-color);\n",
              "      border-top-color: var(--fill-color);\n",
              "      border-right-color: var(--fill-color);\n",
              "    }\n",
              "    40% {\n",
              "      border-color: transparent;\n",
              "      border-right-color: var(--fill-color);\n",
              "      border-top-color: var(--fill-color);\n",
              "    }\n",
              "    60% {\n",
              "      border-color: transparent;\n",
              "      border-right-color: var(--fill-color);\n",
              "    }\n",
              "    80% {\n",
              "      border-color: transparent;\n",
              "      border-right-color: var(--fill-color);\n",
              "      border-bottom-color: var(--fill-color);\n",
              "    }\n",
              "    90% {\n",
              "      border-color: transparent;\n",
              "      border-bottom-color: var(--fill-color);\n",
              "    }\n",
              "  }\n",
              "</style>\n",
              "\n",
              "  <script>\n",
              "    async function quickchart(key) {\n",
              "      const quickchartButtonEl =\n",
              "        document.querySelector('#' + key + ' button');\n",
              "      quickchartButtonEl.disabled = true;  // To prevent multiple clicks.\n",
              "      quickchartButtonEl.classList.add('colab-df-spinner');\n",
              "      try {\n",
              "        const charts = await google.colab.kernel.invokeFunction(\n",
              "            'suggestCharts', [key], {});\n",
              "      } catch (error) {\n",
              "        console.error('Error during call to suggestCharts:', error);\n",
              "      }\n",
              "      quickchartButtonEl.classList.remove('colab-df-spinner');\n",
              "      quickchartButtonEl.classList.add('colab-df-quickchart-complete');\n",
              "    }\n",
              "    (() => {\n",
              "      let quickchartButtonEl =\n",
              "        document.querySelector('#df-9641435d-638e-4084-a788-04b4e81dc99b button');\n",
              "      quickchartButtonEl.style.display =\n",
              "        google.colab.kernel.accessAllowed ? 'block' : 'none';\n",
              "    })();\n",
              "  </script>\n",
              "</div>\n",
              "\n",
              "    </div>\n",
              "  </div>\n"
            ],
            "text/plain": [
              "      ID     Category SubCategory  \\\n",
              "0   8037  Accessories        Bags   \n",
              "1  13670  Accessories       Socks   \n",
              "2  13983        Suits     Tuxedos   \n",
              "3  12081  Accessories      Gloves   \n",
              "4  15617  Accessories   Cufflinks   \n",
              "\n",
              "                                         ProductName  \\\n",
              "0                     \"Prada Striped Shell Belt Bag\"   \n",
              "1  \"Falke - Lhasa Wool And Cashmere-blend Socks -...   \n",
              "2                    \"peak lapel tuxedo suit jacket\"   \n",
              "3                \"Thom Browne Navy 4-Bar Rib Gloves\"   \n",
              "4  \"Alice Made This - Bayley Round Patina-brass C...   \n",
              "\n",
              "                                         Description  \n",
              "0  \"One of Prada's most functional designs, this ...  \n",
              "1  \"Falke - Casual yet luxurious, Falke's dark na...  \n",
              "2  \"White and black linen blend peak lapel tuxedo...  \n",
              "3  \"Pair of rib knit cashmere gloves in navy. Sig...  \n",
              "4  \"Alice Made This - Made in the UK, these teal ...  "
            ]
          },
          "execution_count": 11,
          "metadata": {},
          "output_type": "execute_result"
        }
      ],
      "source": [
        "df.head()"
      ]
    },
    {
      "cell_type": "markdown",
      "id": "ec78f5fa-be8d-46f5-891c-8ccfb41c6bb0",
      "metadata": {
        "id": "ec78f5fa-be8d-46f5-891c-8ccfb41c6bb0"
      },
      "source": [
        "### Some plots"
      ]
    },
    {
      "cell_type": "code",
      "execution_count": null,
      "id": "517ad416-7032-4c9e-9688-a80893532b7a",
      "metadata": {
        "id": "517ad416-7032-4c9e-9688-a80893532b7a"
      },
      "outputs": [],
      "source": [
        "# Calculate frequencies for each column\n",
        "category_freq = df['Category'].value_counts()\n",
        "subcategory_freq = df['SubCategory'].value_counts()\n",
        "productname_freq = df['ProductName'].value_counts()\n",
        "description_freq = df['Description'].value_counts()"
      ]
    },
    {
      "cell_type": "code",
      "execution_count": null,
      "id": "0b3c4144-8376-48d3-afab-81d2be2ad3d3",
      "metadata": {
        "colab": {
          "base_uri": "https://localhost:8080/"
        },
        "id": "0b3c4144-8376-48d3-afab-81d2be2ad3d3",
        "outputId": "e9c24e6a-9813-4995-9608-88f038afed12"
      },
      "outputs": [
        {
          "name": "stdout",
          "output_type": "stream",
          "text": [
            "category_freq      : 10\n",
            "subcategory_freq   : 42\n",
            "productname_freq)  : 4353\n",
            "description_freq   : 4453\n"
          ]
        }
      ],
      "source": [
        "#Unique values of each columns\n",
        "\n",
        "print(f\"category_freq      : {len(category_freq)}\")\n",
        "print(f\"subcategory_freq   : {len(subcategory_freq)}\")\n",
        "print(f\"productname_freq)  : {len(productname_freq)}\")\n",
        "print(f\"description_freq   : {len(description_freq)}\")\n"
      ]
    },
    {
      "cell_type": "code",
      "execution_count": null,
      "id": "02967ba3-f08d-4e09-adc5-7e1631e351ad",
      "metadata": {
        "id": "02967ba3-f08d-4e09-adc5-7e1631e351ad"
      },
      "outputs": [],
      "source": [
        "# Plot frequencies for each column using Seaborn\n",
        "def plot_frequencies(data, title, xlabel, ylabel):\n",
        "    plt.figure(figsize=(10, 6))\n",
        "    sns.barplot(x=data.index, y=data.values, palette='viridis')\n",
        "    plt.title(title)\n",
        "    plt.xlabel(xlabel)\n",
        "    plt.ylabel(ylabel)\n",
        "    plt.xticks(rotation=90)\n",
        "    plt.show()"
      ]
    },
    {
      "cell_type": "code",
      "execution_count": null,
      "id": "3c4cb4d5-8cff-462e-9cbf-badf5a68b56f",
      "metadata": {
        "colab": {
          "base_uri": "https://localhost:8080/",
          "height": 843
        },
        "id": "3c4cb4d5-8cff-462e-9cbf-badf5a68b56f",
        "outputId": "626f69b0-b3ee-4dd2-e3d3-eaa85a82e0e1"
      },
      "outputs": [
        {
          "name": "stderr",
          "output_type": "stream",
          "text": [
            "<ipython-input-14-eea86649ee39>:4: FutureWarning: \n",
            "\n",
            "Passing `palette` without assigning `hue` is deprecated and will be removed in v0.14.0. Assign the `x` variable to `hue` and set `legend=False` for the same effect.\n",
            "\n",
            "  sns.barplot(x=data.index, y=data.values, palette='viridis')\n"
          ]
        },
        {
          "data": {
            "image/png": "[encoded data removed]",
            "text/plain": [
              "<Figure size 1000x600 with 1 Axes>"
            ]
          },
          "metadata": {},
          "output_type": "display_data"
        }
      ],
      "source": [
        "# Plot Category Frequencies\n",
        "plot_frequencies(category_freq, 'Category Frequencies', 'Category', 'Frequency')"
      ]
    },
    {
      "cell_type": "code",
      "execution_count": null,
      "id": "8d79a01b-b7fb-4053-ab38-7343e3c17114",
      "metadata": {
        "colab": {
          "base_uri": "https://localhost:8080/",
          "height": 801
        },
        "id": "8d79a01b-b7fb-4053-ab38-7343e3c17114",
        "outputId": "b33c22da-ba78-4b76-c025-e076e0ded219"
      },
      "outputs": [
        {
          "name": "stderr",
          "output_type": "stream",
          "text": [
            "<ipython-input-14-eea86649ee39>:4: FutureWarning: \n",
            "\n",
            "Passing `palette` without assigning `hue` is deprecated and will be removed in v0.14.0. Assign the `x` variable to `hue` and set `legend=False` for the same effect.\n",
            "\n",
            "  sns.barplot(x=data.index, y=data.values, palette='viridis')\n"
          ]
        },
        {
          "data": {
            "image/png": "[encoded data removed]",
            "text/plain": [
              "<Figure size 1000x600 with 1 Axes>"
            ]
          },
          "metadata": {},
          "output_type": "display_data"
        }
      ],
      "source": [
        "# Plot SubCategory Frequencies\n",
        "plot_frequencies(subcategory_freq, 'SubCategory Frequencies', 'SubCategory', 'Frequency')"
      ]
    },
    {
      "cell_type": "code",
      "execution_count": null,
      "id": "7c036d5e-5401-4147-a839-11a20fb9365f",
      "metadata": {
        "colab": {
          "base_uri": "https://localhost:8080/"
        },
        "id": "7c036d5e-5401-4147-a839-11a20fb9365f",
        "outputId": "986ad8a5-1d7f-4d25-8522-2724c7263f40"
      },
      "outputs": [
        {
          "data": {
            "text/plain": [
              "4353"
            ]
          },
          "execution_count": 17,
          "metadata": {},
          "output_type": "execute_result"
        }
      ],
      "source": [
        "len(df['ProductName'].unique())"
      ]
    },
    {
      "cell_type": "code",
      "execution_count": null,
      "id": "ce170d85-72ae-4071-9bc8-a9e5ccf5522c",
      "metadata": {
        "colab": {
          "base_uri": "https://localhost:8080/"
        },
        "id": "ce170d85-72ae-4071-9bc8-a9e5ccf5522c",
        "outputId": "f43a1bd2-9226-47eb-8fef-cead7a703a41"
      },
      "outputs": [
        {
          "data": {
            "text/plain": [
              "87.70904694741084"
            ]
          },
          "execution_count": 18,
          "metadata": {},
          "output_type": "execute_result"
        }
      ],
      "source": [
        "len(df['ProductName'].unique())/len(df)*100\n",
        "# Percentage of unique ProductName"
      ]
    },
    {
      "cell_type": "code",
      "execution_count": null,
      "id": "a552f6be-01fe-4f18-afa7-d253a658e0b0",
      "metadata": {
        "colab": {
          "base_uri": "https://localhost:8080/"
        },
        "id": "a552f6be-01fe-4f18-afa7-d253a658e0b0",
        "outputId": "10dc7b9d-11f3-474f-acea-7e4a71651cf7"
      },
      "outputs": [
        {
          "data": {
            "text/plain": [
              "4453"
            ]
          },
          "execution_count": 19,
          "metadata": {},
          "output_type": "execute_result"
        }
      ],
      "source": [
        "len(df['Description'].unique())"
      ]
    },
    {
      "cell_type": "code",
      "execution_count": null,
      "id": "c953d1a0-dc48-4faa-b036-2fa673279184",
      "metadata": {
        "colab": {
          "base_uri": "https://localhost:8080/"
        },
        "id": "c953d1a0-dc48-4faa-b036-2fa673279184",
        "outputId": "817f9dcf-8a55-47d3-f6a3-ee562e00e234"
      },
      "outputs": [
        {
          "data": {
            "text/plain": [
              "89.72395728390087"
            ]
          },
          "execution_count": 20,
          "metadata": {},
          "output_type": "execute_result"
        }
      ],
      "source": [
        "len(df['Description'].unique())/len(df)*100\n",
        "# Percentage of unique Description"
      ]
    },
    {
      "cell_type": "code",
      "execution_count": null,
      "id": "3cba27eb-8534-43cc-ad78-66acf9c1ba01",
      "metadata": {
        "colab": {
          "base_uri": "https://localhost:8080/",
          "height": 564
        },
        "id": "3cba27eb-8534-43cc-ad78-66acf9c1ba01",
        "outputId": "44a54b13-7b29-4c66-feed-eb8acfbf11b4"
      },
      "outputs": [
        {
          "data": {
            "image/png": "[encoded data removed]",
            "text/plain": [
              "<Figure size 1000x600 with 1 Axes>"
            ]
          },
          "metadata": {},
          "output_type": "display_data"
        }
      ],
      "source": [
        "# Plot the histogram of the length of Description\n",
        "plt.figure(figsize=(10, 6))\n",
        "plt.hist(df['Description'].apply(len), bins=25, color='green', edgecolor='black')\n",
        "plt.title('Histogram of Description Lengths')\n",
        "plt.xlabel('Description Length')\n",
        "plt.ylabel('Frequency')\n",
        "plt.show()"
      ]
    },
    {
      "cell_type": "code",
      "execution_count": null,
      "id": "bf164340-f836-4f63-88d2-dabc7a854f03",
      "metadata": {
        "colab": {
          "base_uri": "https://localhost:8080/",
          "height": 564
        },
        "id": "bf164340-f836-4f63-88d2-dabc7a854f03",
        "outputId": "59fccf7c-da62-4984-a567-cdeae6f57f32"
      },
      "outputs": [
        {
          "data": {
            "image/png": "[encoded data removed]",
            "text/plain": [
              "<Figure size 1000x600 with 1 Axes>"
            ]
          },
          "metadata": {},
          "output_type": "display_data"
        }
      ],
      "source": [
        "# Plot the histogram of the length of ProductName\n",
        "plt.figure(figsize=(10, 6))\n",
        "plt.hist(df['ProductName'].apply(len), bins=25, color='green', edgecolor='black')\n",
        "plt.title('Histogram of Description Lengths')\n",
        "plt.xlabel('ProductName Length')\n",
        "plt.ylabel('Frequency')\n",
        "plt.show()"
      ]
    },
    {
      "cell_type": "markdown",
      "id": "9ad22a39-43a4-437b-b713-aa66e1434edc",
      "metadata": {
        "id": "9ad22a39-43a4-437b-b713-aa66e1434edc"
      },
      "source": [
        "### Text Preprocessing"
      ]
    },
    {
      "cell_type": "code",
      "execution_count": null,
      "id": "93910fcd-b28a-4810-8f23-624e9ffe180a",
      "metadata": {
        "id": "93910fcd-b28a-4810-8f23-624e9ffe180a"
      },
      "outputs": [],
      "source": [
        "def preprocess(q):\n",
        "    q = str(q).lower().strip()\n",
        "    contractions = {\n",
        "    \"ain't\": \"am not\",\n",
        "    \"aren't\": \"are not\",\n",
        "    \"can't\": \"can not\",\n",
        "    \"can't've\": \"can not have\",\n",
        "    \"'cause\": \"because\",\n",
        "    \"could've\": \"could have\",\n",
        "    \"couldn't\": \"could not\",\n",
        "    \"couldn't've\": \"could not have\",\n",
        "    \"didn't\": \"did not\",\n",
        "    \"doesn't\": \"does not\",\n",
        "    \"don't\": \"do not\",\n",
        "    \"hadn't\": \"had not\",\n",
        "    \"hadn't've\": \"had not have\",\n",
        "    \"hasn't\": \"has not\",\n",
        "    \"haven't\": \"have not\",\n",
        "    \"he'd\": \"he would\",\n",
        "    \"he'd've\": \"he would have\",\n",
        "    \"he'll\": \"he will\",\n",
        "    \"he'll've\": \"he will have\",\n",
        "    \"he's\": \"he is\",\n",
        "    \"how'd\": \"how did\",\n",
        "    \"how'd'y\": \"how do you\",\n",
        "    \"how'll\": \"how will\",\n",
        "    \"how's\": \"how is\",\n",
        "    \"i'd\": \"i would\",\n",
        "    \"i'd've\": \"i would have\",\n",
        "    \"i'll\": \"i will\",\n",
        "    \"i'll've\": \"i will have\",\n",
        "    \"i'm\": \"i am\",\n",
        "    \"i've\": \"i have\",\n",
        "    \"isn't\": \"is not\",\n",
        "    \"it'd\": \"it would\",\n",
        "    \"it'd've\": \"it would have\",\n",
        "    \"it'll\": \"it will\",\n",
        "    \"it'll've\": \"it will have\",\n",
        "    \"it's\": \"it is\",\n",
        "    \"let's\": \"let us\",\n",
        "    \"ma'am\": \"madam\",\n",
        "    \"mayn't\": \"may not\",\n",
        "    \"might've\": \"might have\",\n",
        "    \"mightn't\": \"might not\",\n",
        "    \"mightn't've\": \"might not have\",\n",
        "    \"must've\": \"must have\",\n",
        "    \"mustn't\": \"must not\",\n",
        "    \"mustn't've\": \"must not have\",\n",
        "    \"needn't\": \"need not\",\n",
        "    \"needn't've\": \"need not have\",\n",
        "    \"o'clock\": \"of the clock\",\n",
        "    \"oughtn't\": \"ought not\",\n",
        "    \"oughtn't've\": \"ought not have\",\n",
        "    \"shan't\": \"shall not\",\n",
        "    \"sha'n't\": \"shall not\",\n",
        "    \"shan't've\": \"shall not have\",\n",
        "    \"she'd\": \"she would\",\n",
        "    \"she'd've\": \"she would have\",\n",
        "    \"she'll\": \"she will\",\n",
        "    \"she'll've\": \"she will have\",\n",
        "    \"she's\": \"she is\",\n",
        "    \"should've\": \"should have\",\n",
        "    \"shouldn't\": \"should not\",\n",
        "    \"shouldn't've\": \"should not have\",\n",
        "    \"so've\": \"so have\",\n",
        "    \"so's\": \"so as\",\n",
        "    \"that'd\": \"that would\",\n",
        "    \"that'd've\": \"that would have\",\n",
        "    \"that's\": \"that is\",\n",
        "    \"there'd\": \"there would\",\n",
        "    \"there'd've\": \"there would have\",\n",
        "    \"there's\": \"there is\",\n",
        "    \"they'd\": \"they would\",\n",
        "    \"they'd've\": \"they would have\",\n",
        "    \"they'll\": \"they will\",\n",
        "    \"they'll've\": \"they will have\",\n",
        "    \"they're\": \"they are\",\n",
        "    \"they've\": \"they have\",\n",
        "    \"to've\": \"to have\",\n",
        "    \"wasn't\": \"was not\",\n",
        "    \"we'd\": \"we would\",\n",
        "    \"we'd've\": \"we would have\",\n",
        "    \"we'll\": \"we will\",\n",
        "    \"we'll've\": \"we will have\",\n",
        "    \"we're\": \"we are\",\n",
        "    \"we've\": \"we have\",\n",
        "    \"weren't\": \"were not\",\n",
        "    \"what'll\": \"what will\",\n",
        "    \"what'll've\": \"what will have\",\n",
        "    \"what're\": \"what are\",\n",
        "    \"what's\": \"what is\",\n",
        "    \"what've\": \"what have\",\n",
        "    \"when's\": \"when is\",\n",
        "    \"when've\": \"when have\",\n",
        "    \"where'd\": \"where did\",\n",
        "    \"where's\": \"where is\",\n",
        "    \"where've\": \"where have\",\n",
        "    \"who'll\": \"who will\",\n",
        "    \"who'll've\": \"who will have\",\n",
        "    \"who's\": \"who is\",\n",
        "    \"who've\": \"who have\",\n",
        "    \"why's\": \"why is\",\n",
        "    \"why've\": \"why have\",\n",
        "    \"will've\": \"will have\",\n",
        "    \"won't\": \"will not\",\n",
        "    \"won't've\": \"will not have\",\n",
        "    \"would've\": \"would have\",\n",
        "    \"wouldn't\": \"would not\",\n",
        "    \"wouldn't've\": \"would not have\",\n",
        "    \"y'all\": \"you all\",\n",
        "    \"y'all'd\": \"you all would\",\n",
        "    \"y'all'd've\": \"you all would have\",\n",
        "    \"y'all're\": \"you all are\",\n",
        "    \"y'all've\": \"you all have\",\n",
        "    \"you'd\": \"you would\",\n",
        "    \"you'd've\": \"you would have\",\n",
        "    \"you'll\": \"you will\",\n",
        "    \"you'll've\": \"you will have\",\n",
        "    \"you're\": \"you are\",\n",
        "    \"you've\": \"you have\"\n",
        "    }\n",
        "\n",
        "    q_decontracted = []\n",
        "\n",
        "    for word in q.split():\n",
        "        if word in contractions:\n",
        "            word = contractions[word]\n",
        "\n",
        "        q_decontracted.append(word)\n",
        "\n",
        "    q = ' '.join(q_decontracted)\n",
        "    q = q.replace(\"'ve\", \" have\")\n",
        "    q = q.replace(\"n't\", \" not\")\n",
        "    q = q.replace(\"'re\", \" are\")\n",
        "    q = q.replace(\"'ll\", \" will\")\n",
        "    q = q.replace(\"'s\", \" is\")\n",
        "    return q\n"
      ]
    },
    {
      "cell_type": "markdown",
      "id": "1138260d-2738-4713-a5bc-1577fcb8ee57",
      "metadata": {
        "id": "1138260d-2738-4713-a5bc-1577fcb8ee57"
      },
      "source": [
        "### Applying the function preprocess to the Description column"
      ]
    },
    {
      "cell_type": "code",
      "execution_count": null,
      "id": "3d50f300-2dd1-4a64-879c-fc408b68d9f5",
      "metadata": {
        "id": "3d50f300-2dd1-4a64-879c-fc408b68d9f5"
      },
      "outputs": [],
      "source": [
        "df['Description'] = df['Description'].apply(preprocess)"
      ]
    },
    {
      "cell_type": "code",
      "execution_count": null,
      "id": "894bba90-4c5e-48e8-8db5-4e10c4ce57a8",
      "metadata": {
        "colab": {
          "base_uri": "https://localhost:8080/",
          "height": 206
        },
        "id": "894bba90-4c5e-48e8-8db5-4e10c4ce57a8",
        "outputId": "ec878e2c-3d4a-4b72-fa62-6076c17b0993"
      },
      "outputs": [
        {
          "data": {
            "application/vnd.google.colaboratory.intrinsic+json": {
              "summary": "{\n  \"name\": \"df\",\n  \"rows\": 4963,\n  \"fields\": [\n    {\n      \"column\": \"ID\",\n      \"properties\": {\n        \"dtype\": \"number\",\n        \"std\": 5355,\n        \"min\": 0,\n        \"max\": 18715,\n        \"num_unique_values\": 4963,\n        \"samples\": [\n          1586,\n          13166,\n          2781\n        ],\n        \"semantic_type\": \"\",\n        \"description\": \"\"\n      }\n    },\n    {\n      \"column\": \"Category\",\n      \"properties\": {\n        \"dtype\": \"category\",\n        \"num_unique_values\": 10,\n        \"samples\": [\n          \"Jewelry\",\n          \"Suits\",\n          \"Shoes\"\n        ],\n        \"semantic_type\": \"\",\n        \"description\": \"\"\n      }\n    },\n    {\n      \"column\": \"SubCategory\",\n      \"properties\": {\n        \"dtype\": \"category\",\n        \"num_unique_values\": 42,\n        \"samples\": [\n          \"Suits\",\n          \"Boxers & Briefs\",\n          \"Ties\"\n        ],\n        \"semantic_type\": \"\",\n        \"description\": \"\"\n      }\n    },\n    {\n      \"column\": \"ProductName\",\n      \"properties\": {\n        \"dtype\": \"string\",\n        \"num_unique_values\": 4353,\n        \"samples\": [\n          \"\\\"Men's Neon Camo Front-Zip Hoodie\\\"\",\n          \"\\\"Men's Side-Stripe Chino Track Pants\\\"\",\n          \"\\\"Plaque Leather Sandals\\\"\"\n        ],\n        \"semantic_type\": \"\",\n        \"description\": \"\"\n      }\n    },\n    {\n      \"column\": \"Description\",\n      \"properties\": {\n        \"dtype\": \"string\",\n        \"num_unique_values\": 4453,\n        \"samples\": [\n          \"\\\"brunello cucinelli cardigan in striped knit. stand collar; two-way zip front. banded cuffs and hem. side slip pockets. hem hits at hips. cotton. made in italy.\\\"\",\n          \"\\\"instantly recognizable by its logo-stamped footbed and pull-tab, thom browne is slides are a no-brainer vacation staple for fans of the brand. they are crafted from rubber with contrast stripes and a molded footbed for comfortability.\\\"\",\n          \"\\\"hook and loop closure . suede upper . elastic strap . rubber sole\\\"\"\n        ],\n        \"semantic_type\": \"\",\n        \"description\": \"\"\n      }\n    }\n  ]\n}",
              "type": "dataframe",
              "variable_name": "df"
            },
            "text/html": [
              "\n",
              "  <div id=\"df-7c5ab17c-1060-485d-b645-73899b2c6834\" class=\"colab-df-container\">\n",
              "    <div>\n",
              "<style scoped>\n",
              "    .dataframe tbody tr th:only-of-type {\n",
              "        vertical-align: middle;\n",
              "    }\n",
              "\n",
              "    .dataframe tbody tr th {\n",
              "        vertical-align: top;\n",
              "    }\n",
              "\n",
              "    .dataframe thead th {\n",
              "        text-align: right;\n",
              "    }\n",
              "</style>\n",
              "<table border=\"1\" class=\"dataframe\">\n",
              "  <thead>\n",
              "    <tr style=\"text-align: right;\">\n",
              "      <th></th>\n",
              "      <th>ID</th>\n",
              "      <th>Category</th>\n",
              "      <th>SubCategory</th>\n",
              "      <th>ProductName</th>\n",
              "      <th>Description</th>\n",
              "    </tr>\n",
              "  </thead>\n",
              "  <tbody>\n",
              "    <tr>\n",
              "      <th>0</th>\n",
              "      <td>8037</td>\n",
              "      <td>Accessories</td>\n",
              "      <td>Bags</td>\n",
              "      <td>\"Prada Striped Shell Belt Bag\"</td>\n",
              "      <td>\"one of prada is most functional designs, this...</td>\n",
              "    </tr>\n",
              "    <tr>\n",
              "      <th>1</th>\n",
              "      <td>13670</td>\n",
              "      <td>Accessories</td>\n",
              "      <td>Socks</td>\n",
              "      <td>\"Falke - Lhasa Wool And Cashmere-blend Socks -...</td>\n",
              "      <td>\"falke - casual yet luxurious, falke is dark n...</td>\n",
              "    </tr>\n",
              "    <tr>\n",
              "      <th>2</th>\n",
              "      <td>13983</td>\n",
              "      <td>Suits</td>\n",
              "      <td>Tuxedos</td>\n",
              "      <td>\"peak lapel tuxedo suit jacket\"</td>\n",
              "      <td>\"white and black linen blend peak lapel tuxedo...</td>\n",
              "    </tr>\n",
              "    <tr>\n",
              "      <th>3</th>\n",
              "      <td>12081</td>\n",
              "      <td>Accessories</td>\n",
              "      <td>Gloves</td>\n",
              "      <td>\"Thom Browne Navy 4-Bar Rib Gloves\"</td>\n",
              "      <td>\"pair of rib knit cashmere gloves in navy. sig...</td>\n",
              "    </tr>\n",
              "    <tr>\n",
              "      <th>4</th>\n",
              "      <td>15617</td>\n",
              "      <td>Accessories</td>\n",
              "      <td>Cufflinks</td>\n",
              "      <td>\"Alice Made This - Bayley Round Patina-brass C...</td>\n",
              "      <td>\"alice made this - made in the uk, these teal ...</td>\n",
              "    </tr>\n",
              "  </tbody>\n",
              "</table>\n",
              "</div>\n",
              "    <div class=\"colab-df-buttons\">\n",
              "\n",
              "  <div class=\"colab-df-container\">\n",
              "    <button class=\"colab-df-convert\" onclick=\"convertToInteractive('df-7c5ab17c-1060-485d-b645-73899b2c6834')\"\n",
              "            title=\"Convert this dataframe to an interactive table.\"\n",
              "            style=\"display:none;\">\n",
              "\n",
              "  <svg xmlns=\"http://www.w3.org/2000/svg\" height=\"24px\" viewBox=\"0 -960 960 960\">\n",
              "    <path d=\"M120-120v-720h720v720H120Zm60-500h600v-160H180v160Zm220 220h160v-160H400v160Zm0 220h160v-160H400v160ZM180-400h160v-160H180v160Zm440 0h160v-160H620v160ZM180-180h160v-160H180v160Zm440 0h160v-160H620v160Z\"/>\n",
              "  </svg>\n",
              "    </button>\n",
              "\n",
              "  <style>\n",
              "    .colab-df-container {\n",
              "      display:flex;\n",
              "      gap: 12px;\n",
              "    }\n",
              "\n",
              "    .colab-df-convert {\n",
              "      background-color: #E8F0FE;\n",
              "      border: none;\n",
              "      border-radius: 50%;\n",
              "      cursor: pointer;\n",
              "      display: none;\n",
              "      fill: #1967D2;\n",
              "      height: 32px;\n",
              "      padding: 0 0 0 0;\n",
              "      width: 32px;\n",
              "    }\n",
              "\n",
              "    .colab-df-convert:hover {\n",
              "      background-color: #E2EBFA;\n",
              "      box-shadow: 0px 1px 2px rgba(60, 64, 67, 0.3), 0px 1px 3px 1px rgba(60, 64, 67, 0.15);\n",
              "      fill: #174EA6;\n",
              "    }\n",
              "\n",
              "    .colab-df-buttons div {\n",
              "      margin-bottom: 4px;\n",
              "    }\n",
              "\n",
              "    [theme=dark] .colab-df-convert {\n",
              "      background-color: #3B4455;\n",
              "      fill: #D2E3FC;\n",
              "    }\n",
              "\n",
              "    [theme=dark] .colab-df-convert:hover {\n",
              "      background-color: #434B5C;\n",
              "      box-shadow: 0px 1px 3px 1px rgba(0, 0, 0, 0.15);\n",
              "      filter: drop-shadow(0px 1px 2px rgba(0, 0, 0, 0.3));\n",
              "      fill: #FFFFFF;\n",
              "    }\n",
              "  </style>\n",
              "\n",
              "    <script>\n",
              "      const buttonEl =\n",
              "        document.querySelector('#df-7c5ab17c-1060-485d-b645-73899b2c6834 button.colab-df-convert');\n",
              "      buttonEl.style.display =\n",
              "        google.colab.kernel.accessAllowed ? 'block' : 'none';\n",
              "\n",
              "      async function convertToInteractive(key) {\n",
              "        const element = document.querySelector('#df-7c5ab17c-1060-485d-b645-73899b2c6834');\n",
              "        const dataTable =\n",
              "          await google.colab.kernel.invokeFunction('convertToInteractive',\n",
              "                                                    [key], {});\n",
              "        if (!dataTable) return;\n",
              "\n",
              "        const docLinkHtml = 'Like what you see? Visit the ' +\n",
              "          '<a target=\"_blank\" href=https://colab.research.google.com/notebooks/data_table.ipynb>data table notebook</a>'\n",
              "          + ' to learn more about interactive tables.';\n",
              "        element.innerHTML = '';\n",
              "        dataTable['output_type'] = 'display_data';\n",
              "        await google.colab.output.renderOutput(dataTable, element);\n",
              "        const docLink = document.createElement('div');\n",
              "        docLink.innerHTML = docLinkHtml;\n",
              "        element.appendChild(docLink);\n",
              "      }\n",
              "    </script>\n",
              "  </div>\n",
              "\n",
              "\n",
              "<div id=\"df-c035c994-b63f-4729-81ab-4400e5e498a1\">\n",
              "  <button class=\"colab-df-quickchart\" onclick=\"quickchart('df-c035c994-b63f-4729-81ab-4400e5e498a1')\"\n",
              "            title=\"Suggest charts\"\n",
              "            style=\"display:none;\">\n",
              "\n",
              "<svg xmlns=\"http://www.w3.org/2000/svg\" height=\"24px\"viewBox=\"0 0 24 24\"\n",
              "     width=\"24px\">\n",
              "    <g>\n",
              "        <path d=\"M19 3H5c-1.1 0-2 .9-2 2v14c0 1.1.9 2 2 2h14c1.1 0 2-.9 2-2V5c0-1.1-.9-2-2-2zM9 17H7v-7h2v7zm4 0h-2V7h2v10zm4 0h-2v-4h2v4z\"/>\n",
              "    </g>\n",
              "</svg>\n",
              "  </button>\n",
              "\n",
              "<style>\n",
              "  .colab-df-quickchart {\n",
              "      --bg-color: #E8F0FE;\n",
              "      --fill-color: #1967D2;\n",
              "      --hover-bg-color: #E2EBFA;\n",
              "      --hover-fill-color: #174EA6;\n",
              "      --disabled-fill-color: #AAA;\n",
              "      --disabled-bg-color: #DDD;\n",
              "  }\n",
              "\n",
              "  [theme=dark] .colab-df-quickchart {\n",
              "      --bg-color: #3B4455;\n",
              "      --fill-color: #D2E3FC;\n",
              "      --hover-bg-color: #434B5C;\n",
              "      --hover-fill-color: #FFFFFF;\n",
              "      --disabled-bg-color: #3B4455;\n",
              "      --disabled-fill-color: #666;\n",
              "  }\n",
              "\n",
              "  .colab-df-quickchart {\n",
              "    background-color: var(--bg-color);\n",
              "    border: none;\n",
              "    border-radius: 50%;\n",
              "    cursor: pointer;\n",
              "    display: none;\n",
              "    fill: var(--fill-color);\n",
              "    height: 32px;\n",
              "    padding: 0;\n",
              "    width: 32px;\n",
              "  }\n",
              "\n",
              "  .colab-df-quickchart:hover {\n",
              "    background-color: var(--hover-bg-color);\n",
              "    box-shadow: 0 1px 2px rgba(60, 64, 67, 0.3), 0 1px 3px 1px rgba(60, 64, 67, 0.15);\n",
              "    fill: var(--button-hover-fill-color);\n",
              "  }\n",
              "\n",
              "  .colab-df-quickchart-complete:disabled,\n",
              "  .colab-df-quickchart-complete:disabled:hover {\n",
              "    background-color: var(--disabled-bg-color);\n",
              "    fill: var(--disabled-fill-color);\n",
              "    box-shadow: none;\n",
              "  }\n",
              "\n",
              "  .colab-df-spinner {\n",
              "    border: 2px solid var(--fill-color);\n",
              "    border-color: transparent;\n",
              "    border-bottom-color: var(--fill-color);\n",
              "    animation:\n",
              "      spin 1s steps(1) infinite;\n",
              "  }\n",
              "\n",
              "  @keyframes spin {\n",
              "    0% {\n",
              "      border-color: transparent;\n",
              "      border-bottom-color: var(--fill-color);\n",
              "      border-left-color: var(--fill-color);\n",
              "    }\n",
              "    20% {\n",
              "      border-color: transparent;\n",
              "      border-left-color: var(--fill-color);\n",
              "      border-top-color: var(--fill-color);\n",
              "    }\n",
              "    30% {\n",
              "      border-color: transparent;\n",
              "      border-left-color: var(--fill-color);\n",
              "      border-top-color: var(--fill-color);\n",
              "      border-right-color: var(--fill-color);\n",
              "    }\n",
              "    40% {\n",
              "      border-color: transparent;\n",
              "      border-right-color: var(--fill-color);\n",
              "      border-top-color: var(--fill-color);\n",
              "    }\n",
              "    60% {\n",
              "      border-color: transparent;\n",
              "      border-right-color: var(--fill-color);\n",
              "    }\n",
              "    80% {\n",
              "      border-color: transparent;\n",
              "      border-right-color: var(--fill-color);\n",
              "      border-bottom-color: var(--fill-color);\n",
              "    }\n",
              "    90% {\n",
              "      border-color: transparent;\n",
              "      border-bottom-color: var(--fill-color);\n",
              "    }\n",
              "  }\n",
              "</style>\n",
              "\n",
              "  <script>\n",
              "    async function quickchart(key) {\n",
              "      const quickchartButtonEl =\n",
              "        document.querySelector('#' + key + ' button');\n",
              "      quickchartButtonEl.disabled = true;  // To prevent multiple clicks.\n",
              "      quickchartButtonEl.classList.add('colab-df-spinner');\n",
              "      try {\n",
              "        const charts = await google.colab.kernel.invokeFunction(\n",
              "            'suggestCharts', [key], {});\n",
              "      } catch (error) {\n",
              "        console.error('Error during call to suggestCharts:', error);\n",
              "      }\n",
              "      quickchartButtonEl.classList.remove('colab-df-spinner');\n",
              "      quickchartButtonEl.classList.add('colab-df-quickchart-complete');\n",
              "    }\n",
              "    (() => {\n",
              "      let quickchartButtonEl =\n",
              "        document.querySelector('#df-c035c994-b63f-4729-81ab-4400e5e498a1 button');\n",
              "      quickchartButtonEl.style.display =\n",
              "        google.colab.kernel.accessAllowed ? 'block' : 'none';\n",
              "    })();\n",
              "  </script>\n",
              "</div>\n",
              "\n",
              "    </div>\n",
              "  </div>\n"
            ],
            "text/plain": [
              "      ID     Category SubCategory  \\\n",
              "0   8037  Accessories        Bags   \n",
              "1  13670  Accessories       Socks   \n",
              "2  13983        Suits     Tuxedos   \n",
              "3  12081  Accessories      Gloves   \n",
              "4  15617  Accessories   Cufflinks   \n",
              "\n",
              "                                         ProductName  \\\n",
              "0                     \"Prada Striped Shell Belt Bag\"   \n",
              "1  \"Falke - Lhasa Wool And Cashmere-blend Socks -...   \n",
              "2                    \"peak lapel tuxedo suit jacket\"   \n",
              "3                \"Thom Browne Navy 4-Bar Rib Gloves\"   \n",
              "4  \"Alice Made This - Bayley Round Patina-brass C...   \n",
              "\n",
              "                                         Description  \n",
              "0  \"one of prada is most functional designs, this...  \n",
              "1  \"falke - casual yet luxurious, falke is dark n...  \n",
              "2  \"white and black linen blend peak lapel tuxedo...  \n",
              "3  \"pair of rib knit cashmere gloves in navy. sig...  \n",
              "4  \"alice made this - made in the uk, these teal ...  "
            ]
          },
          "execution_count": 25,
          "metadata": {},
          "output_type": "execute_result"
        }
      ],
      "source": [
        "df.head()"
      ]
    },
    {
      "cell_type": "code",
      "execution_count": null,
      "id": "fo0CANhVF_HE",
      "metadata": {
        "colab": {
          "base_uri": "https://localhost:8080/",
          "height": 206
        },
        "id": "fo0CANhVF_HE",
        "outputId": "e7b9308d-cb67-4fbf-b79f-3302fedeb064"
      },
      "outputs": [
        {
          "data": {
            "application/vnd.google.colaboratory.intrinsic+json": {
              "summary": "{\n  \"name\": \"df\",\n  \"rows\": 4963,\n  \"fields\": [\n    {\n      \"column\": \"ID\",\n      \"properties\": {\n        \"dtype\": \"number\",\n        \"std\": 5355,\n        \"min\": 0,\n        \"max\": 18715,\n        \"num_unique_values\": 4963,\n        \"samples\": [\n          1586,\n          13166,\n          2781\n        ],\n        \"semantic_type\": \"\",\n        \"description\": \"\"\n      }\n    },\n    {\n      \"column\": \"Category\",\n      \"properties\": {\n        \"dtype\": \"category\",\n        \"num_unique_values\": 10,\n        \"samples\": [\n          \"Jewelry\",\n          \"Suits\",\n          \"Shoes\"\n        ],\n        \"semantic_type\": \"\",\n        \"description\": \"\"\n      }\n    },\n    {\n      \"column\": \"SubCategory\",\n      \"properties\": {\n        \"dtype\": \"category\",\n        \"num_unique_values\": 42,\n        \"samples\": [\n          \"Suits\",\n          \"Boxers & Briefs\",\n          \"Ties\"\n        ],\n        \"semantic_type\": \"\",\n        \"description\": \"\"\n      }\n    },\n    {\n      \"column\": \"ProductName\",\n      \"properties\": {\n        \"dtype\": \"string\",\n        \"num_unique_values\": 4353,\n        \"samples\": [\n          \"\\\"Men's Neon Camo Front-Zip Hoodie\\\"\",\n          \"\\\"Men's Side-Stripe Chino Track Pants\\\"\",\n          \"\\\"Plaque Leather Sandals\\\"\"\n        ],\n        \"semantic_type\": \"\",\n        \"description\": \"\"\n      }\n    },\n    {\n      \"column\": \"Description\",\n      \"properties\": {\n        \"dtype\": \"string\",\n        \"num_unique_values\": 4453,\n        \"samples\": [\n          \"\\\"brunello cucinelli cardigan in striped knit. stand collar; two-way zip front. banded cuffs and hem. side slip pockets. hem hits at hips. cotton. made in italy.\\\"\",\n          \"\\\"instantly recognizable by its logo-stamped footbed and pull-tab, thom browne is slides are a no-brainer vacation staple for fans of the brand. they are crafted from rubber with contrast stripes and a molded footbed for comfortability.\\\"\",\n          \"\\\"hook and loop closure . suede upper . elastic strap . rubber sole\\\"\"\n        ],\n        \"semantic_type\": \"\",\n        \"description\": \"\"\n      }\n    }\n  ]\n}",
              "type": "dataframe",
              "variable_name": "df"
            },
            "text/html": [
              "\n",
              "  <div id=\"df-78c4a11c-36c3-4591-a6bf-dc853101d563\" class=\"colab-df-container\">\n",
              "    <div>\n",
              "<style scoped>\n",
              "    .dataframe tbody tr th:only-of-type {\n",
              "        vertical-align: middle;\n",
              "    }\n",
              "\n",
              "    .dataframe tbody tr th {\n",
              "        vertical-align: top;\n",
              "    }\n",
              "\n",
              "    .dataframe thead th {\n",
              "        text-align: right;\n",
              "    }\n",
              "</style>\n",
              "<table border=\"1\" class=\"dataframe\">\n",
              "  <thead>\n",
              "    <tr style=\"text-align: right;\">\n",
              "      <th></th>\n",
              "      <th>ID</th>\n",
              "      <th>Category</th>\n",
              "      <th>SubCategory</th>\n",
              "      <th>ProductName</th>\n",
              "      <th>Description</th>\n",
              "    </tr>\n",
              "  </thead>\n",
              "  <tbody>\n",
              "    <tr>\n",
              "      <th>0</th>\n",
              "      <td>8037</td>\n",
              "      <td>Accessories</td>\n",
              "      <td>Bags</td>\n",
              "      <td>\"Prada Striped Shell Belt Bag\"</td>\n",
              "      <td>\"one of prada is most functional designs, this...</td>\n",
              "    </tr>\n",
              "    <tr>\n",
              "      <th>1</th>\n",
              "      <td>13670</td>\n",
              "      <td>Accessories</td>\n",
              "      <td>Socks</td>\n",
              "      <td>\"Falke - Lhasa Wool And Cashmere-blend Socks -...</td>\n",
              "      <td>\"falke - casual yet luxurious, falke is dark n...</td>\n",
              "    </tr>\n",
              "    <tr>\n",
              "      <th>2</th>\n",
              "      <td>13983</td>\n",
              "      <td>Suits</td>\n",
              "      <td>Tuxedos</td>\n",
              "      <td>\"peak lapel tuxedo suit jacket\"</td>\n",
              "      <td>\"white and black linen blend peak lapel tuxedo...</td>\n",
              "    </tr>\n",
              "    <tr>\n",
              "      <th>3</th>\n",
              "      <td>12081</td>\n",
              "      <td>Accessories</td>\n",
              "      <td>Gloves</td>\n",
              "      <td>\"Thom Browne Navy 4-Bar Rib Gloves\"</td>\n",
              "      <td>\"pair of rib knit cashmere gloves in navy. sig...</td>\n",
              "    </tr>\n",
              "    <tr>\n",
              "      <th>4</th>\n",
              "      <td>15617</td>\n",
              "      <td>Accessories</td>\n",
              "      <td>Cufflinks</td>\n",
              "      <td>\"Alice Made This - Bayley Round Patina-brass C...</td>\n",
              "      <td>\"alice made this - made in the uk, these teal ...</td>\n",
              "    </tr>\n",
              "  </tbody>\n",
              "</table>\n",
              "</div>\n",
              "    <div class=\"colab-df-buttons\">\n",
              "\n",
              "  <div class=\"colab-df-container\">\n",
              "    <button class=\"colab-df-convert\" onclick=\"convertToInteractive('df-78c4a11c-36c3-4591-a6bf-dc853101d563')\"\n",
              "            title=\"Convert this dataframe to an interactive table.\"\n",
              "            style=\"display:none;\">\n",
              "\n",
              "  <svg xmlns=\"http://www.w3.org/2000/svg\" height=\"24px\" viewBox=\"0 -960 960 960\">\n",
              "    <path d=\"M120-120v-720h720v720H120Zm60-500h600v-160H180v160Zm220 220h160v-160H400v160Zm0 220h160v-160H400v160ZM180-400h160v-160H180v160Zm440 0h160v-160H620v160ZM180-180h160v-160H180v160Zm440 0h160v-160H620v160Z\"/>\n",
              "  </svg>\n",
              "    </button>\n",
              "\n",
              "  <style>\n",
              "    .colab-df-container {\n",
              "      display:flex;\n",
              "      gap: 12px;\n",
              "    }\n",
              "\n",
              "    .colab-df-convert {\n",
              "      background-color: #E8F0FE;\n",
              "      border: none;\n",
              "      border-radius: 50%;\n",
              "      cursor: pointer;\n",
              "      display: none;\n",
              "      fill: #1967D2;\n",
              "      height: 32px;\n",
              "      padding: 0 0 0 0;\n",
              "      width: 32px;\n",
              "    }\n",
              "\n",
              "    .colab-df-convert:hover {\n",
              "      background-color: #E2EBFA;\n",
              "      box-shadow: 0px 1px 2px rgba(60, 64, 67, 0.3), 0px 1px 3px 1px rgba(60, 64, 67, 0.15);\n",
              "      fill: #174EA6;\n",
              "    }\n",
              "\n",
              "    .colab-df-buttons div {\n",
              "      margin-bottom: 4px;\n",
              "    }\n",
              "\n",
              "    [theme=dark] .colab-df-convert {\n",
              "      background-color: #3B4455;\n",
              "      fill: #D2E3FC;\n",
              "    }\n",
              "\n",
              "    [theme=dark] .colab-df-convert:hover {\n",
              "      background-color: #434B5C;\n",
              "      box-shadow: 0px 1px 3px 1px rgba(0, 0, 0, 0.15);\n",
              "      filter: drop-shadow(0px 1px 2px rgba(0, 0, 0, 0.3));\n",
              "      fill: #FFFFFF;\n",
              "    }\n",
              "  </style>\n",
              "\n",
              "    <script>\n",
              "      const buttonEl =\n",
              "        document.querySelector('#df-78c4a11c-36c3-4591-a6bf-dc853101d563 button.colab-df-convert');\n",
              "      buttonEl.style.display =\n",
              "        google.colab.kernel.accessAllowed ? 'block' : 'none';\n",
              "\n",
              "      async function convertToInteractive(key) {\n",
              "        const element = document.querySelector('#df-78c4a11c-36c3-4591-a6bf-dc853101d563');\n",
              "        const dataTable =\n",
              "          await google.colab.kernel.invokeFunction('convertToInteractive',\n",
              "                                                    [key], {});\n",
              "        if (!dataTable) return;\n",
              "\n",
              "        const docLinkHtml = 'Like what you see? Visit the ' +\n",
              "          '<a target=\"_blank\" href=https://colab.research.google.com/notebooks/data_table.ipynb>data table notebook</a>'\n",
              "          + ' to learn more about interactive tables.';\n",
              "        element.innerHTML = '';\n",
              "        dataTable['output_type'] = 'display_data';\n",
              "        await google.colab.output.renderOutput(dataTable, element);\n",
              "        const docLink = document.createElement('div');\n",
              "        docLink.innerHTML = docLinkHtml;\n",
              "        element.appendChild(docLink);\n",
              "      }\n",
              "    </script>\n",
              "  </div>\n",
              "\n",
              "\n",
              "<div id=\"df-d04ac901-6bad-491f-bfc7-6dad4d4eee43\">\n",
              "  <button class=\"colab-df-quickchart\" onclick=\"quickchart('df-d04ac901-6bad-491f-bfc7-6dad4d4eee43')\"\n",
              "            title=\"Suggest charts\"\n",
              "            style=\"display:none;\">\n",
              "\n",
              "<svg xmlns=\"http://www.w3.org/2000/svg\" height=\"24px\"viewBox=\"0 0 24 24\"\n",
              "     width=\"24px\">\n",
              "    <g>\n",
              "        <path d=\"M19 3H5c-1.1 0-2 .9-2 2v14c0 1.1.9 2 2 2h14c1.1 0 2-.9 2-2V5c0-1.1-.9-2-2-2zM9 17H7v-7h2v7zm4 0h-2V7h2v10zm4 0h-2v-4h2v4z\"/>\n",
              "    </g>\n",
              "</svg>\n",
              "  </button>\n",
              "\n",
              "<style>\n",
              "  .colab-df-quickchart {\n",
              "      --bg-color: #E8F0FE;\n",
              "      --fill-color: #1967D2;\n",
              "      --hover-bg-color: #E2EBFA;\n",
              "      --hover-fill-color: #174EA6;\n",
              "      --disabled-fill-color: #AAA;\n",
              "      --disabled-bg-color: #DDD;\n",
              "  }\n",
              "\n",
              "  [theme=dark] .colab-df-quickchart {\n",
              "      --bg-color: #3B4455;\n",
              "      --fill-color: #D2E3FC;\n",
              "      --hover-bg-color: #434B5C;\n",
              "      --hover-fill-color: #FFFFFF;\n",
              "      --disabled-bg-color: #3B4455;\n",
              "      --disabled-fill-color: #666;\n",
              "  }\n",
              "\n",
              "  .colab-df-quickchart {\n",
              "    background-color: var(--bg-color);\n",
              "    border: none;\n",
              "    border-radius: 50%;\n",
              "    cursor: pointer;\n",
              "    display: none;\n",
              "    fill: var(--fill-color);\n",
              "    height: 32px;\n",
              "    padding: 0;\n",
              "    width: 32px;\n",
              "  }\n",
              "\n",
              "  .colab-df-quickchart:hover {\n",
              "    background-color: var(--hover-bg-color);\n",
              "    box-shadow: 0 1px 2px rgba(60, 64, 67, 0.3), 0 1px 3px 1px rgba(60, 64, 67, 0.15);\n",
              "    fill: var(--button-hover-fill-color);\n",
              "  }\n",
              "\n",
              "  .colab-df-quickchart-complete:disabled,\n",
              "  .colab-df-quickchart-complete:disabled:hover {\n",
              "    background-color: var(--disabled-bg-color);\n",
              "    fill: var(--disabled-fill-color);\n",
              "    box-shadow: none;\n",
              "  }\n",
              "\n",
              "  .colab-df-spinner {\n",
              "    border: 2px solid var(--fill-color);\n",
              "    border-color: transparent;\n",
              "    border-bottom-color: var(--fill-color);\n",
              "    animation:\n",
              "      spin 1s steps(1) infinite;\n",
              "  }\n",
              "\n",
              "  @keyframes spin {\n",
              "    0% {\n",
              "      border-color: transparent;\n",
              "      border-bottom-color: var(--fill-color);\n",
              "      border-left-color: var(--fill-color);\n",
              "    }\n",
              "    20% {\n",
              "      border-color: transparent;\n",
              "      border-left-color: var(--fill-color);\n",
              "      border-top-color: var(--fill-color);\n",
              "    }\n",
              "    30% {\n",
              "      border-color: transparent;\n",
              "      border-left-color: var(--fill-color);\n",
              "      border-top-color: var(--fill-color);\n",
              "      border-right-color: var(--fill-color);\n",
              "    }\n",
              "    40% {\n",
              "      border-color: transparent;\n",
              "      border-right-color: var(--fill-color);\n",
              "      border-top-color: var(--fill-color);\n",
              "    }\n",
              "    60% {\n",
              "      border-color: transparent;\n",
              "      border-right-color: var(--fill-color);\n",
              "    }\n",
              "    80% {\n",
              "      border-color: transparent;\n",
              "      border-right-color: var(--fill-color);\n",
              "      border-bottom-color: var(--fill-color);\n",
              "    }\n",
              "    90% {\n",
              "      border-color: transparent;\n",
              "      border-bottom-color: var(--fill-color);\n",
              "    }\n",
              "  }\n",
              "</style>\n",
              "\n",
              "  <script>\n",
              "    async function quickchart(key) {\n",
              "      const quickchartButtonEl =\n",
              "        document.querySelector('#' + key + ' button');\n",
              "      quickchartButtonEl.disabled = true;  // To prevent multiple clicks.\n",
              "      quickchartButtonEl.classList.add('colab-df-spinner');\n",
              "      try {\n",
              "        const charts = await google.colab.kernel.invokeFunction(\n",
              "            'suggestCharts', [key], {});\n",
              "      } catch (error) {\n",
              "        console.error('Error during call to suggestCharts:', error);\n",
              "      }\n",
              "      quickchartButtonEl.classList.remove('colab-df-spinner');\n",
              "      quickchartButtonEl.classList.add('colab-df-quickchart-complete');\n",
              "    }\n",
              "    (() => {\n",
              "      let quickchartButtonEl =\n",
              "        document.querySelector('#df-d04ac901-6bad-491f-bfc7-6dad4d4eee43 button');\n",
              "      quickchartButtonEl.style.display =\n",
              "        google.colab.kernel.accessAllowed ? 'block' : 'none';\n",
              "    })();\n",
              "  </script>\n",
              "</div>\n",
              "\n",
              "    </div>\n",
              "  </div>\n"
            ],
            "text/plain": [
              "      ID     Category SubCategory  \\\n",
              "0   8037  Accessories        Bags   \n",
              "1  13670  Accessories       Socks   \n",
              "2  13983        Suits     Tuxedos   \n",
              "3  12081  Accessories      Gloves   \n",
              "4  15617  Accessories   Cufflinks   \n",
              "\n",
              "                                         ProductName  \\\n",
              "0                     \"Prada Striped Shell Belt Bag\"   \n",
              "1  \"Falke - Lhasa Wool And Cashmere-blend Socks -...   \n",
              "2                    \"peak lapel tuxedo suit jacket\"   \n",
              "3                \"Thom Browne Navy 4-Bar Rib Gloves\"   \n",
              "4  \"Alice Made This - Bayley Round Patina-brass C...   \n",
              "\n",
              "                                         Description  \n",
              "0  \"one of prada is most functional designs, this...  \n",
              "1  \"falke - casual yet luxurious, falke is dark n...  \n",
              "2  \"white and black linen blend peak lapel tuxedo...  \n",
              "3  \"pair of rib knit cashmere gloves in navy. sig...  \n",
              "4  \"alice made this - made in the uk, these teal ...  "
            ]
          },
          "execution_count": 26,
          "metadata": {},
          "output_type": "execute_result"
        }
      ],
      "source": [
        "df.head()"
      ]
    },
    {
      "cell_type": "code",
      "execution_count": null,
      "id": "6jsJDOHvGG5l",
      "metadata": {
        "id": "6jsJDOHvGG5l"
      },
      "outputs": [],
      "source": [
        "df=df.drop(columns=['ID'])"
      ]
    },
    {
      "cell_type": "code",
      "execution_count": null,
      "id": "bzC07AbRGP52",
      "metadata": {
        "colab": {
          "base_uri": "https://localhost:8080/",
          "height": 206
        },
        "id": "bzC07AbRGP52",
        "outputId": "a97a82ac-e903-4674-dd93-7a95e3f5d740"
      },
      "outputs": [
        {
          "data": {
            "application/vnd.google.colaboratory.intrinsic+json": {
              "summary": "{\n  \"name\": \"df\",\n  \"rows\": 4963,\n  \"fields\": [\n    {\n      \"column\": \"Category\",\n      \"properties\": {\n        \"dtype\": \"category\",\n        \"num_unique_values\": 10,\n        \"samples\": [\n          \"Jewelry\",\n          \"Suits\",\n          \"Shoes\"\n        ],\n        \"semantic_type\": \"\",\n        \"description\": \"\"\n      }\n    },\n    {\n      \"column\": \"SubCategory\",\n      \"properties\": {\n        \"dtype\": \"category\",\n        \"num_unique_values\": 42,\n        \"samples\": [\n          \"Suits\",\n          \"Boxers & Briefs\",\n          \"Ties\"\n        ],\n        \"semantic_type\": \"\",\n        \"description\": \"\"\n      }\n    },\n    {\n      \"column\": \"ProductName\",\n      \"properties\": {\n        \"dtype\": \"string\",\n        \"num_unique_values\": 4353,\n        \"samples\": [\n          \"\\\"Men's Neon Camo Front-Zip Hoodie\\\"\",\n          \"\\\"Men's Side-Stripe Chino Track Pants\\\"\",\n          \"\\\"Plaque Leather Sandals\\\"\"\n        ],\n        \"semantic_type\": \"\",\n        \"description\": \"\"\n      }\n    },\n    {\n      \"column\": \"Description\",\n      \"properties\": {\n        \"dtype\": \"string\",\n        \"num_unique_values\": 4453,\n        \"samples\": [\n          \"\\\"brunello cucinelli cardigan in striped knit. stand collar; two-way zip front. banded cuffs and hem. side slip pockets. hem hits at hips. cotton. made in italy.\\\"\",\n          \"\\\"instantly recognizable by its logo-stamped footbed and pull-tab, thom browne is slides are a no-brainer vacation staple for fans of the brand. they are crafted from rubber with contrast stripes and a molded footbed for comfortability.\\\"\",\n          \"\\\"hook and loop closure . suede upper . elastic strap . rubber sole\\\"\"\n        ],\n        \"semantic_type\": \"\",\n        \"description\": \"\"\n      }\n    }\n  ]\n}",
              "type": "dataframe",
              "variable_name": "df"
            },
            "text/html": [
              "\n",
              "  <div id=\"df-06d831e2-463f-4337-bf06-dfac6843d25c\" class=\"colab-df-container\">\n",
              "    <div>\n",
              "<style scoped>\n",
              "    .dataframe tbody tr th:only-of-type {\n",
              "        vertical-align: middle;\n",
              "    }\n",
              "\n",
              "    .dataframe tbody tr th {\n",
              "        vertical-align: top;\n",
              "    }\n",
              "\n",
              "    .dataframe thead th {\n",
              "        text-align: right;\n",
              "    }\n",
              "</style>\n",
              "<table border=\"1\" class=\"dataframe\">\n",
              "  <thead>\n",
              "    <tr style=\"text-align: right;\">\n",
              "      <th></th>\n",
              "      <th>Category</th>\n",
              "      <th>SubCategory</th>\n",
              "      <th>ProductName</th>\n",
              "      <th>Description</th>\n",
              "    </tr>\n",
              "  </thead>\n",
              "  <tbody>\n",
              "    <tr>\n",
              "      <th>0</th>\n",
              "      <td>Accessories</td>\n",
              "      <td>Bags</td>\n",
              "      <td>\"Prada Striped Shell Belt Bag\"</td>\n",
              "      <td>\"one of prada is most functional designs, this...</td>\n",
              "    </tr>\n",
              "    <tr>\n",
              "      <th>1</th>\n",
              "      <td>Accessories</td>\n",
              "      <td>Socks</td>\n",
              "      <td>\"Falke - Lhasa Wool And Cashmere-blend Socks -...</td>\n",
              "      <td>\"falke - casual yet luxurious, falke is dark n...</td>\n",
              "    </tr>\n",
              "    <tr>\n",
              "      <th>2</th>\n",
              "      <td>Suits</td>\n",
              "      <td>Tuxedos</td>\n",
              "      <td>\"peak lapel tuxedo suit jacket\"</td>\n",
              "      <td>\"white and black linen blend peak lapel tuxedo...</td>\n",
              "    </tr>\n",
              "    <tr>\n",
              "      <th>3</th>\n",
              "      <td>Accessories</td>\n",
              "      <td>Gloves</td>\n",
              "      <td>\"Thom Browne Navy 4-Bar Rib Gloves\"</td>\n",
              "      <td>\"pair of rib knit cashmere gloves in navy. sig...</td>\n",
              "    </tr>\n",
              "    <tr>\n",
              "      <th>4</th>\n",
              "      <td>Accessories</td>\n",
              "      <td>Cufflinks</td>\n",
              "      <td>\"Alice Made This - Bayley Round Patina-brass C...</td>\n",
              "      <td>\"alice made this - made in the uk, these teal ...</td>\n",
              "    </tr>\n",
              "  </tbody>\n",
              "</table>\n",
              "</div>\n",
              "    <div class=\"colab-df-buttons\">\n",
              "\n",
              "  <div class=\"colab-df-container\">\n",
              "    <button class=\"colab-df-convert\" onclick=\"convertToInteractive('df-06d831e2-463f-4337-bf06-dfac6843d25c')\"\n",
              "            title=\"Convert this dataframe to an interactive table.\"\n",
              "            style=\"display:none;\">\n",
              "\n",
              "  <svg xmlns=\"http://www.w3.org/2000/svg\" height=\"24px\" viewBox=\"0 -960 960 960\">\n",
              "    <path d=\"M120-120v-720h720v720H120Zm60-500h600v-160H180v160Zm220 220h160v-160H400v160Zm0 220h160v-160H400v160ZM180-400h160v-160H180v160Zm440 0h160v-160H620v160ZM180-180h160v-160H180v160Zm440 0h160v-160H620v160Z\"/>\n",
              "  </svg>\n",
              "    </button>\n",
              "\n",
              "  <style>\n",
              "    .colab-df-container {\n",
              "      display:flex;\n",
              "      gap: 12px;\n",
              "    }\n",
              "\n",
              "    .colab-df-convert {\n",
              "      background-color: #E8F0FE;\n",
              "      border: none;\n",
              "      border-radius: 50%;\n",
              "      cursor: pointer;\n",
              "      display: none;\n",
              "      fill: #1967D2;\n",
              "      height: 32px;\n",
              "      padding: 0 0 0 0;\n",
              "      width: 32px;\n",
              "    }\n",
              "\n",
              "    .colab-df-convert:hover {\n",
              "      background-color: #E2EBFA;\n",
              "      box-shadow: 0px 1px 2px rgba(60, 64, 67, 0.3), 0px 1px 3px 1px rgba(60, 64, 67, 0.15);\n",
              "      fill: #174EA6;\n",
              "    }\n",
              "\n",
              "    .colab-df-buttons div {\n",
              "      margin-bottom: 4px;\n",
              "    }\n",
              "\n",
              "    [theme=dark] .colab-df-convert {\n",
              "      background-color: #3B4455;\n",
              "      fill: #D2E3FC;\n",
              "    }\n",
              "\n",
              "    [theme=dark] .colab-df-convert:hover {\n",
              "      background-color: #434B5C;\n",
              "      box-shadow: 0px 1px 3px 1px rgba(0, 0, 0, 0.15);\n",
              "      filter: drop-shadow(0px 1px 2px rgba(0, 0, 0, 0.3));\n",
              "      fill: #FFFFFF;\n",
              "    }\n",
              "  </style>\n",
              "\n",
              "    <script>\n",
              "      const buttonEl =\n",
              "        document.querySelector('#df-06d831e2-463f-4337-bf06-dfac6843d25c button.colab-df-convert');\n",
              "      buttonEl.style.display =\n",
              "        google.colab.kernel.accessAllowed ? 'block' : 'none';\n",
              "\n",
              "      async function convertToInteractive(key) {\n",
              "        const element = document.querySelector('#df-06d831e2-463f-4337-bf06-dfac6843d25c');\n",
              "        const dataTable =\n",
              "          await google.colab.kernel.invokeFunction('convertToInteractive',\n",
              "                                                    [key], {});\n",
              "        if (!dataTable) return;\n",
              "\n",
              "        const docLinkHtml = 'Like what you see? Visit the ' +\n",
              "          '<a target=\"_blank\" href=https://colab.research.google.com/notebooks/data_table.ipynb>data table notebook</a>'\n",
              "          + ' to learn more about interactive tables.';\n",
              "        element.innerHTML = '';\n",
              "        dataTable['output_type'] = 'display_data';\n",
              "        await google.colab.output.renderOutput(dataTable, element);\n",
              "        const docLink = document.createElement('div');\n",
              "        docLink.innerHTML = docLinkHtml;\n",
              "        element.appendChild(docLink);\n",
              "      }\n",
              "    </script>\n",
              "  </div>\n",
              "\n",
              "\n",
              "<div id=\"df-5e69620d-d3fc-4176-993b-0c7815f40d5e\">\n",
              "  <button class=\"colab-df-quickchart\" onclick=\"quickchart('df-5e69620d-d3fc-4176-993b-0c7815f40d5e')\"\n",
              "            title=\"Suggest charts\"\n",
              "            style=\"display:none;\">\n",
              "\n",
              "<svg xmlns=\"http://www.w3.org/2000/svg\" height=\"24px\"viewBox=\"0 0 24 24\"\n",
              "     width=\"24px\">\n",
              "    <g>\n",
              "        <path d=\"M19 3H5c-1.1 0-2 .9-2 2v14c0 1.1.9 2 2 2h14c1.1 0 2-.9 2-2V5c0-1.1-.9-2-2-2zM9 17H7v-7h2v7zm4 0h-2V7h2v10zm4 0h-2v-4h2v4z\"/>\n",
              "    </g>\n",
              "</svg>\n",
              "  </button>\n",
              "\n",
              "<style>\n",
              "  .colab-df-quickchart {\n",
              "      --bg-color: #E8F0FE;\n",
              "      --fill-color: #1967D2;\n",
              "      --hover-bg-color: #E2EBFA;\n",
              "      --hover-fill-color: #174EA6;\n",
              "      --disabled-fill-color: #AAA;\n",
              "      --disabled-bg-color: #DDD;\n",
              "  }\n",
              "\n",
              "  [theme=dark] .colab-df-quickchart {\n",
              "      --bg-color: #3B4455;\n",
              "      --fill-color: #D2E3FC;\n",
              "      --hover-bg-color: #434B5C;\n",
              "      --hover-fill-color: #FFFFFF;\n",
              "      --disabled-bg-color: #3B4455;\n",
              "      --disabled-fill-color: #666;\n",
              "  }\n",
              "\n",
              "  .colab-df-quickchart {\n",
              "    background-color: var(--bg-color);\n",
              "    border: none;\n",
              "    border-radius: 50%;\n",
              "    cursor: pointer;\n",
              "    display: none;\n",
              "    fill: var(--fill-color);\n",
              "    height: 32px;\n",
              "    padding: 0;\n",
              "    width: 32px;\n",
              "  }\n",
              "\n",
              "  .colab-df-quickchart:hover {\n",
              "    background-color: var(--hover-bg-color);\n",
              "    box-shadow: 0 1px 2px rgba(60, 64, 67, 0.3), 0 1px 3px 1px rgba(60, 64, 67, 0.15);\n",
              "    fill: var(--button-hover-fill-color);\n",
              "  }\n",
              "\n",
              "  .colab-df-quickchart-complete:disabled,\n",
              "  .colab-df-quickchart-complete:disabled:hover {\n",
              "    background-color: var(--disabled-bg-color);\n",
              "    fill: var(--disabled-fill-color);\n",
              "    box-shadow: none;\n",
              "  }\n",
              "\n",
              "  .colab-df-spinner {\n",
              "    border: 2px solid var(--fill-color);\n",
              "    border-color: transparent;\n",
              "    border-bottom-color: var(--fill-color);\n",
              "    animation:\n",
              "      spin 1s steps(1) infinite;\n",
              "  }\n",
              "\n",
              "  @keyframes spin {\n",
              "    0% {\n",
              "      border-color: transparent;\n",
              "      border-bottom-color: var(--fill-color);\n",
              "      border-left-color: var(--fill-color);\n",
              "    }\n",
              "    20% {\n",
              "      border-color: transparent;\n",
              "      border-left-color: var(--fill-color);\n",
              "      border-top-color: var(--fill-color);\n",
              "    }\n",
              "    30% {\n",
              "      border-color: transparent;\n",
              "      border-left-color: var(--fill-color);\n",
              "      border-top-color: var(--fill-color);\n",
              "      border-right-color: var(--fill-color);\n",
              "    }\n",
              "    40% {\n",
              "      border-color: transparent;\n",
              "      border-right-color: var(--fill-color);\n",
              "      border-top-color: var(--fill-color);\n",
              "    }\n",
              "    60% {\n",
              "      border-color: transparent;\n",
              "      border-right-color: var(--fill-color);\n",
              "    }\n",
              "    80% {\n",
              "      border-color: transparent;\n",
              "      border-right-color: var(--fill-color);\n",
              "      border-bottom-color: var(--fill-color);\n",
              "    }\n",
              "    90% {\n",
              "      border-color: transparent;\n",
              "      border-bottom-color: var(--fill-color);\n",
              "    }\n",
              "  }\n",
              "</style>\n",
              "\n",
              "  <script>\n",
              "    async function quickchart(key) {\n",
              "      const quickchartButtonEl =\n",
              "        document.querySelector('#' + key + ' button');\n",
              "      quickchartButtonEl.disabled = true;  // To prevent multiple clicks.\n",
              "      quickchartButtonEl.classList.add('colab-df-spinner');\n",
              "      try {\n",
              "        const charts = await google.colab.kernel.invokeFunction(\n",
              "            'suggestCharts', [key], {});\n",
              "      } catch (error) {\n",
              "        console.error('Error during call to suggestCharts:', error);\n",
              "      }\n",
              "      quickchartButtonEl.classList.remove('colab-df-spinner');\n",
              "      quickchartButtonEl.classList.add('colab-df-quickchart-complete');\n",
              "    }\n",
              "    (() => {\n",
              "      let quickchartButtonEl =\n",
              "        document.querySelector('#df-5e69620d-d3fc-4176-993b-0c7815f40d5e button');\n",
              "      quickchartButtonEl.style.display =\n",
              "        google.colab.kernel.accessAllowed ? 'block' : 'none';\n",
              "    })();\n",
              "  </script>\n",
              "</div>\n",
              "\n",
              "    </div>\n",
              "  </div>\n"
            ],
            "text/plain": [
              "      Category SubCategory                                        ProductName  \\\n",
              "0  Accessories        Bags                     \"Prada Striped Shell Belt Bag\"   \n",
              "1  Accessories       Socks  \"Falke - Lhasa Wool And Cashmere-blend Socks -...   \n",
              "2        Suits     Tuxedos                    \"peak lapel tuxedo suit jacket\"   \n",
              "3  Accessories      Gloves                \"Thom Browne Navy 4-Bar Rib Gloves\"   \n",
              "4  Accessories   Cufflinks  \"Alice Made This - Bayley Round Patina-brass C...   \n",
              "\n",
              "                                         Description  \n",
              "0  \"one of prada is most functional designs, this...  \n",
              "1  \"falke - casual yet luxurious, falke is dark n...  \n",
              "2  \"white and black linen blend peak lapel tuxedo...  \n",
              "3  \"pair of rib knit cashmere gloves in navy. sig...  \n",
              "4  \"alice made this - made in the uk, these teal ...  "
            ]
          },
          "execution_count": 28,
          "metadata": {},
          "output_type": "execute_result"
        }
      ],
      "source": [
        "df.head()"
      ]
    },
    {
      "cell_type": "code",
      "execution_count": null,
      "id": "2h79UDg8GRjx",
      "metadata": {
        "colab": {
          "base_uri": "https://localhost:8080/"
        },
        "id": "2h79UDg8GRjx",
        "outputId": "dead5fe8-0ce7-4a37-8cce-19f282ba5e40"
      },
      "outputs": [
        {
          "name": "stdout",
          "output_type": "stream",
          "text": [
            "Requirement already satisfied: langchain==0.0.208 in /usr/local/lib/python3.10/dist-packages (0.0.208)\n",
            "Requirement already satisfied: deeplake in /usr/local/lib/python3.10/dist-packages (3.9.14)\n",
            "Requirement already satisfied: openai==0.27.8 in /usr/local/lib/python3.10/dist-packages (0.27.8)\n",
            "Requirement already satisfied: tiktoken in /usr/local/lib/python3.10/dist-packages (0.7.0)\n",
            "Requirement already satisfied: PyYAML>=5.4.1 in /usr/local/lib/python3.10/dist-packages (from langchain==0.0.208) (6.0.1)\n",
            "Requirement already satisfied: SQLAlchemy<3,>=1.4 in /usr/local/lib/python3.10/dist-packages (from langchain==0.0.208) (2.0.31)\n",
            "Requirement already satisfied: aiohttp<4.0.0,>=3.8.3 in /usr/local/lib/python3.10/dist-packages (from langchain==0.0.208) (3.9.5)\n",
            "Requirement already satisfied: async-timeout<5.0.0,>=4.0.0 in /usr/local/lib/python3.10/dist-packages (from langchain==0.0.208) (4.0.3)\n",
            "Requirement already satisfied: dataclasses-json<0.6.0,>=0.5.7 in /usr/local/lib/python3.10/dist-packages (from langchain==0.0.208) (0.5.14)\n",
            "Requirement already satisfied: langchainplus-sdk>=0.0.13 in /usr/local/lib/python3.10/dist-packages (from langchain==0.0.208) (0.0.20)\n",
            "Requirement already satisfied: numexpr<3.0.0,>=2.8.4 in /usr/local/lib/python3.10/dist-packages (from langchain==0.0.208) (2.10.1)\n",
            "Requirement already satisfied: numpy<2,>=1 in /usr/local/lib/python3.10/dist-packages (from langchain==0.0.208) (1.25.2)\n",
            "Requirement already satisfied: openapi-schema-pydantic<2.0,>=1.2 in /usr/local/lib/python3.10/dist-packages (from langchain==0.0.208) (1.2.4)\n",
            "Requirement already satisfied: pydantic<2,>=1 in /usr/local/lib/python3.10/dist-packages (from langchain==0.0.208) (1.10.17)\n",
            "Requirement already satisfied: requests<3,>=2 in /usr/local/lib/python3.10/dist-packages (from langchain==0.0.208) (2.31.0)\n",
            "Requirement already satisfied: tenacity<9.0.0,>=8.1.0 in /usr/local/lib/python3.10/dist-packages (from langchain==0.0.208) (8.5.0)\n",
            "Requirement already satisfied: tqdm in /usr/local/lib/python3.10/dist-packages (from openai==0.27.8) (4.66.4)\n",
            "Requirement already satisfied: pillow~=10.2.0 in /usr/local/lib/python3.10/dist-packages (from deeplake) (10.2.0)\n",
            "Requirement already satisfied: boto3 in /usr/local/lib/python3.10/dist-packages (from deeplake) (1.34.131)\n",
            "Requirement already satisfied: click in /usr/local/lib/python3.10/dist-packages (from deeplake) (8.1.7)\n",
            "Requirement already satisfied: pathos in /usr/local/lib/python3.10/dist-packages (from deeplake) (0.3.2)\n",
            "Requirement already satisfied: humbug>=0.3.1 in /usr/local/lib/python3.10/dist-packages (from deeplake) (0.3.2)\n",
            "Requirement already satisfied: lz4 in /usr/local/lib/python3.10/dist-packages (from deeplake) (4.3.3)\n",
            "Requirement already satisfied: pyjwt in /usr/lib/python3/dist-packages (from deeplake) (2.3.0)\n",
            "Requirement already satisfied: libdeeplake==0.0.136 in /usr/local/lib/python3.10/dist-packages (from deeplake) (0.0.136)\n",
            "Requirement already satisfied: aioboto3>=10.4.0 in /usr/local/lib/python3.10/dist-packages (from deeplake) (13.1.1)\n",
            "Requirement already satisfied: nest-asyncio in /usr/local/lib/python3.10/dist-packages (from deeplake) (1.6.0)\n",
            "Requirement already satisfied: dill in /usr/local/lib/python3.10/dist-packages (from libdeeplake==0.0.136->deeplake) (0.3.8)\n",
            "Requirement already satisfied: regex>=2022.1.18 in /usr/local/lib/python3.10/dist-packages (from tiktoken) (2024.5.15)\n",
            "Requirement already satisfied: aiobotocore[boto3]==2.13.1 in /usr/local/lib/python3.10/dist-packages (from aioboto3>=10.4.0->deeplake) (2.13.1)\n",
            "Requirement already satisfied: aiofiles>=23.2.1 in /usr/local/lib/python3.10/dist-packages (from aioboto3>=10.4.0->deeplake) (24.1.0)\n",
            "Requirement already satisfied: botocore<1.34.132,>=1.34.70 in /usr/local/lib/python3.10/dist-packages (from aiobotocore[boto3]==2.13.1->aioboto3>=10.4.0->deeplake) (1.34.131)\n",
            "Requirement already satisfied: wrapt<2.0.0,>=1.10.10 in /usr/local/lib/python3.10/dist-packages (from aiobotocore[boto3]==2.13.1->aioboto3>=10.4.0->deeplake) (1.14.1)\n",
            "Requirement already satisfied: aioitertools<1.0.0,>=0.5.1 in /usr/local/lib/python3.10/dist-packages (from aiobotocore[boto3]==2.13.1->aioboto3>=10.4.0->deeplake) (0.11.0)\n",
            "Requirement already satisfied: aiosignal>=1.1.2 in /usr/local/lib/python3.10/dist-packages (from aiohttp<4.0.0,>=3.8.3->langchain==0.0.208) (1.3.1)\n",
            "Requirement already satisfied: attrs>=17.3.0 in /usr/local/lib/python3.10/dist-packages (from aiohttp<4.0.0,>=3.8.3->langchain==0.0.208) (23.2.0)\n",
            "Requirement already satisfied: frozenlist>=1.1.1 in /usr/local/lib/python3.10/dist-packages (from aiohttp<4.0.0,>=3.8.3->langchain==0.0.208) (1.4.1)\n",
            "Requirement already satisfied: multidict<7.0,>=4.5 in /usr/local/lib/python3.10/dist-packages (from aiohttp<4.0.0,>=3.8.3->langchain==0.0.208) (6.0.5)\n",
            "Requirement already satisfied: yarl<2.0,>=1.0 in /usr/local/lib/python3.10/dist-packages (from aiohttp<4.0.0,>=3.8.3->langchain==0.0.208) (1.9.4)\n",
            "Requirement already satisfied: jmespath<2.0.0,>=0.7.1 in /usr/local/lib/python3.10/dist-packages (from boto3->deeplake) (1.0.1)\n",
            "Requirement already satisfied: s3transfer<0.11.0,>=0.10.0 in /usr/local/lib/python3.10/dist-packages (from boto3->deeplake) (0.10.2)\n",
            "Requirement already satisfied: marshmallow<4.0.0,>=3.18.0 in /usr/local/lib/python3.10/dist-packages (from dataclasses-json<0.6.0,>=0.5.7->langchain==0.0.208) (3.21.3)\n",
            "Requirement already satisfied: typing-inspect<1,>=0.4.0 in /usr/local/lib/python3.10/dist-packages (from dataclasses-json<0.6.0,>=0.5.7->langchain==0.0.208) (0.9.0)\n",
            "Requirement already satisfied: typing-extensions>=4.2.0 in /usr/local/lib/python3.10/dist-packages (from pydantic<2,>=1->langchain==0.0.208) (4.12.2)\n",
            "Requirement already satisfied: charset-normalizer<4,>=2 in /usr/local/lib/python3.10/dist-packages (from requests<3,>=2->langchain==0.0.208) (3.3.2)\n",
            "Requirement already satisfied: idna<4,>=2.5 in /usr/local/lib/python3.10/dist-packages (from requests<3,>=2->langchain==0.0.208) (3.7)\n",
            "Requirement already satisfied: urllib3<3,>=1.21.1 in /usr/local/lib/python3.10/dist-packages (from requests<3,>=2->langchain==0.0.208) (2.0.7)\n",
            "Requirement already satisfied: certifi>=2017.4.17 in /usr/local/lib/python3.10/dist-packages (from requests<3,>=2->langchain==0.0.208) (2024.7.4)\n",
            "Requirement already satisfied: greenlet!=0.4.17 in /usr/local/lib/python3.10/dist-packages (from SQLAlchemy<3,>=1.4->langchain==0.0.208) (3.0.3)\n",
            "Requirement already satisfied: ppft>=1.7.6.8 in /usr/local/lib/python3.10/dist-packages (from pathos->deeplake) (1.7.6.8)\n",
            "Requirement already satisfied: pox>=0.3.4 in /usr/local/lib/python3.10/dist-packages (from pathos->deeplake) (0.3.4)\n",
            "Requirement already satisfied: multiprocess>=0.70.16 in /usr/local/lib/python3.10/dist-packages (from pathos->deeplake) (0.70.16)\n",
            "Requirement already satisfied: python-dateutil<3.0.0,>=2.1 in /usr/local/lib/python3.10/dist-packages (from botocore<1.34.132,>=1.34.70->aiobotocore[boto3]==2.13.1->aioboto3>=10.4.0->deeplake) (2.8.2)\n",
            "Requirement already satisfied: packaging>=17.0 in /usr/local/lib/python3.10/dist-packages (from marshmallow<4.0.0,>=3.18.0->dataclasses-json<0.6.0,>=0.5.7->langchain==0.0.208) (24.1)\n",
            "Requirement already satisfied: mypy-extensions>=0.3.0 in /usr/local/lib/python3.10/dist-packages (from typing-inspect<1,>=0.4.0->dataclasses-json<0.6.0,>=0.5.7->langchain==0.0.208) (1.0.0)\n",
            "Requirement already satisfied: six>=1.5 in /usr/local/lib/python3.10/dist-packages (from python-dateutil<3.0.0,>=2.1->botocore<1.34.132,>=1.34.70->aiobotocore[boto3]==2.13.1->aioboto3>=10.4.0->deeplake) (1.16.0)\n"
          ]
        }
      ],
      "source": [
        "!pip install langchain==0.0.208 deeplake openai==0.27.8 tiktoken"
      ]
    },
    {
      "cell_type": "code",
      "execution_count": null,
      "id": "miExfUTQGnAx",
      "metadata": {
        "id": "miExfUTQGnAx"
      },
      "outputs": [],
      "source": [
        "import os\n",
        "os.environ['OPENAI_API_KEY']='sk-proj-qAFK0TCA3as0CQ1mjekfhZFz'\n",
        "\n",
        "os.environ['ACTIVELOOP_TOKEN']='eyJhbGciOiJub25lIiwhcGlfa2V5IjoiLXVtVGxEVUdTUDcwTlNEWGRMbzIzcVVWTjJlIn0.'\n"
      ]
    },
    {
      "cell_type": "code",
      "execution_count": null,
      "id": "HAUU8_JqG8Cu",
      "metadata": {
        "id": "HAUU8_JqG8Cu"
      },
      "outputs": [],
      "source": [
        "from langchain.embeddings.openai import OpenAIEmbeddings\n",
        "from langchain.vectorstores import DeepLake\n",
        "from langchain.text_splitter import CharacterTextSplitter\n",
        "from langchain import OpenAI\n",
        "from langchain import PromptTemplate"
      ]
    },
    {
      "cell_type": "code",
      "execution_count": null,
      "id": "6nGMWIG7G8rC",
      "metadata": {
        "id": "6nGMWIG7G8rC"
      },
      "outputs": [],
      "source": [
        "# Convert DataFrame to dictionary\n",
        "data_dict = {}\n",
        "for index, row in df.iterrows():\n",
        "    description = row['Description']\n",
        "    data_dict[description] = {\n",
        "        'Category': row['Category'],\n",
        "        'SubCategory': row['SubCategory'],\n",
        "        'ProductName': row['ProductName']\n",
        "    }\n",
        "\n",
        "# Print the resulting dictionary (for verification)\n",
        "# print(data_dict)"
      ]
    },
    {
      "cell_type": "code",
      "execution_count": null,
      "id": "U3xYXKWjIYhJ",
      "metadata": {
        "colab": {
          "base_uri": "https://localhost:8080/"
        },
        "id": "U3xYXKWjIYhJ",
        "outputId": "652c86e5-3126-4ee6-d3e4-7539674e0f77"
      },
      "outputs": [
        {
          "name": "stdout",
          "output_type": "stream",
          "text": [
            "First Data Point:\n",
            "Description: \"one of prada is most functional designs, this belt bag is made from weather-resistant shell fabric with zip compartments for storing your daily belongings. it is designed for navigating your day hands-free- try styling yours diagonally across the body.\"\n",
            "Data: {'Category': 'Accessories', 'SubCategory': 'Bags', 'ProductName': '\"Prada Striped Shell Belt Bag\"'}\n"
          ]
        }
      ],
      "source": [
        "# Access the first data point\n",
        "first_description = list(data_dict.keys())[0]\n",
        "first_data = data_dict[first_description]\n",
        "\n",
        "# Print the first data point\n",
        "print(\"First Data Point:\")\n",
        "print(f\"Description: {first_description}\")\n",
        "print(f\"Data: {first_data}\")"
      ]
    },
    {
      "cell_type": "code",
      "execution_count": null,
      "id": "MHeZcdv_IlMr",
      "metadata": {
        "colab": {
          "base_uri": "https://localhost:8080/"
        },
        "id": "MHeZcdv_IlMr",
        "outputId": "9c5fa898-6d35-48d1-c3c4-5cb8f401e7da"
      },
      "outputs": [
        {
          "name": "stdout",
          "output_type": "stream",
          "text": [
            "First Document:\n",
            "Content: \"one of prada is most functional designs, this belt bag is made from weather-resistant shell fabric with zip compartments for storing your daily belongings. it is designed for navigating your day hands-free- try styling yours diagonally across the body.\"\n",
            "Metadata: {'Category': 'Accessories', 'SubCategory': 'Bags', 'ProductName': '\"Prada Striped Shell Belt Bag\"'}\n"
          ]
        }
      ],
      "source": [
        "from langchain.schema import Document\n",
        "# Convert data_dict to a list of Document objects\n",
        "documents = [\n",
        "    Document(\n",
        "        page_content=description,\n",
        "        metadata={\n",
        "            'Category': data_dict[description]['Category'],\n",
        "            'SubCategory': data_dict[description]['SubCategory'],\n",
        "            'ProductName': data_dict[description]['ProductName']\n",
        "        }\n",
        "    )\n",
        "    for description in data_dict\n",
        "]\n",
        "\n",
        "# Print the first document to verify\n",
        "print(\"First Document:\")\n",
        "print(f\"Content: {documents[0].page_content}\")\n",
        "print(f\"Metadata: {documents[0].metadata}\")\n"
      ]
    },
    {
      "cell_type": "code",
      "execution_count": null,
      "id": "TKXoa0BuJ4EZ",
      "metadata": {
        "colab": {
          "base_uri": "https://localhost:8080/"
        },
        "id": "TKXoa0BuJ4EZ",
        "outputId": "d0f2a6d3-d67d-4317-bf9d-5f78ced44dd7"
      },
      "outputs": [
        {
          "data": {
            "text/plain": [
              "4453"
            ]
          },
          "execution_count": 35,
          "metadata": {},
          "output_type": "execute_result"
        }
      ],
      "source": [
        "len(documents)"
      ]
    },
    {
      "cell_type": "code",
      "execution_count": null,
      "id": "kIOzVewwJ8Kn",
      "metadata": {
        "id": "kIOzVewwJ8Kn"
      },
      "outputs": [],
      "source": [
        "# Initialize CharacterTextSplitter\n",
        "text_splitter = CharacterTextSplitter(chunk_size=3000, chunk_overlap=0)\n",
        "\n",
        "# Split the documents into chunks\n",
        "docs = text_splitter.split_documents(documents)"
      ]
    },
    {
      "cell_type": "code",
      "execution_count": null,
      "id": "ZKdN2LlfKnKo",
      "metadata": {
        "colab": {
          "base_uri": "https://localhost:8080/"
        },
        "id": "ZKdN2LlfKnKo",
        "outputId": "a1569250-02f1-4e58-ddc9-1e8e4cdfaa64"
      },
      "outputs": [
        {
          "data": {
            "text/plain": [
              "4453"
            ]
          },
          "execution_count": 37,
          "metadata": {},
          "output_type": "execute_result"
        }
      ],
      "source": [
        "len(docs)"
      ]
    },
    {
      "cell_type": "code",
      "execution_count": null,
      "id": "TyjVDGCcKpEw",
      "metadata": {
        "colab": {
          "base_uri": "https://localhost:8080/"
        },
        "id": "TyjVDGCcKpEw",
        "outputId": "30b7f7ab-e512-4d8f-e1de-dd53b952925a"
      },
      "outputs": [
        {
          "name": "stdout",
          "output_type": "stream",
          "text": [
            "First Chunk:\n",
            "Content: \"one of prada is most functional designs, this belt bag is made from weather-resistant shell fabric with zip compartments for storing your daily belongings. it is designed for navigating your day hands-free- try styling yours diagonally across the body.\"\n",
            "Metadata: {'Category': 'Accessories', 'SubCategory': 'Bags', 'ProductName': '\"Prada Striped Shell Belt Bag\"'}\n"
          ]
        }
      ],
      "source": [
        "# Print the first chunk to verify\n",
        "print(\"First Chunk:\")\n",
        "print(f\"Content: {docs[0].page_content}\")\n",
        "print(f\"Metadata: {docs[0].metadata}\")"
      ]
    },
    {
      "cell_type": "code",
      "execution_count": null,
      "id": "oO3s-0VwKtG0",
      "metadata": {
        "colab": {
          "base_uri": "https://localhost:8080/"
        },
        "id": "oO3s-0VwKtG0",
        "outputId": "78cbec94-0df0-40b1-993d-82b7c07b81b1"
      },
      "outputs": [
        {
          "name": "stdout",
          "output_type": "stream",
          "text": [
            "Your Deep Lake dataset has been successfully created!\n"
          ]
        },
        {
          "name": "stderr",
          "output_type": "stream",
          "text": [
            "Creating 32 embeddings in 1 batches of size 32:: 100%|██████████| 1/1 [00:20<00:00, 20.10s/it]\n"
          ]
        },
        {
          "name": "stdout",
          "output_type": "stream",
          "text": [
            "Dataset(path='hub://siftain/LuXury_ProDuctS', tensors=['text', 'metadata', 'embedding', 'id'])\n",
            "\n",
            "  tensor      htype      shape      dtype  compression\n",
            "  -------    -------    -------    -------  ------- \n",
            "   text       text      (32, 1)      str     None   \n",
            " metadata     json      (32, 1)      str     None   \n",
            " embedding  embedding  (32, 1536)  float32   None   \n",
            "    id        text      (32, 1)      str     None   \n"
          ]
        },
        {
          "name": "stderr",
          "output_type": "stream",
          "text": [
            "Creating 32 embeddings in 1 batches of size 32:: 100%|██████████| 1/1 [00:14<00:00, 14.92s/it]\n"
          ]
        },
        {
          "name": "stdout",
          "output_type": "stream",
          "text": [
            "Dataset(path='hub://siftain/LuXury_ProDuctS', tensors=['text', 'metadata', 'embedding', 'id'])\n",
            "\n",
            "  tensor      htype      shape      dtype  compression\n",
            "  -------    -------    -------    -------  ------- \n",
            "   text       text      (64, 1)      str     None   \n",
            " metadata     json      (64, 1)      str     None   \n",
            " embedding  embedding  (64, 1536)  float32   None   \n",
            "    id        text      (64, 1)      str     None   \n"
          ]
        },
        {
          "name": "stderr",
          "output_type": "stream",
          "text": [
            "Creating 32 embeddings in 1 batches of size 32:: 100%|██████████| 1/1 [00:15<00:00, 15.58s/it]\n"
          ]
        },
        {
          "name": "stdout",
          "output_type": "stream",
          "text": [
            "Dataset(path='hub://siftain/LuXury_ProDuctS', tensors=['text', 'metadata', 'embedding', 'id'])\n",
            "\n",
            "  tensor      htype      shape      dtype  compression\n",
            "  -------    -------    -------    -------  ------- \n",
            "   text       text      (96, 1)      str     None   \n",
            " metadata     json      (96, 1)      str     None   \n",
            " embedding  embedding  (96, 1536)  float32   None   \n",
            "    id        text      (96, 1)      str     None   \n"
          ]
        },
        {
          "name": "stderr",
          "output_type": "stream",
          "text": [
            "Creating 32 embeddings in 1 batches of size 32:: 100%|██████████| 1/1 [00:14<00:00, 14.39s/it]\n"
          ]
        },
        {
          "name": "stdout",
          "output_type": "stream",
          "text": [
            "Dataset(path='hub://siftain/LuXury_ProDuctS', tensors=['text', 'metadata', 'embedding', 'id'])\n",
            "\n",
            "  tensor      htype       shape      dtype  compression\n",
            "  -------    -------     -------    -------  ------- \n",
            "   text       text      (128, 1)      str     None   \n",
            " metadata     json      (128, 1)      str     None   \n",
            " embedding  embedding  (128, 1536)  float32   None   \n",
            "    id        text      (128, 1)      str     None   \n"
          ]
        },
        {
          "name": "stderr",
          "output_type": "stream",
          "text": [
            "Creating 32 embeddings in 1 batches of size 32:: 100%|██████████| 1/1 [00:12<00:00, 12.88s/it]\n"
          ]
        },
        {
          "name": "stdout",
          "output_type": "stream",
          "text": [
            "Dataset(path='hub://siftain/LuXury_ProDuctS', tensors=['text', 'metadata', 'embedding', 'id'])\n",
            "\n",
            "  tensor      htype       shape      dtype  compression\n",
            "  -------    -------     -------    -------  ------- \n",
            "   text       text      (160, 1)      str     None   \n",
            " metadata     json      (160, 1)      str     None   \n",
            " embedding  embedding  (160, 1536)  float32   None   \n",
            "    id        text      (160, 1)      str     None   \n"
          ]
        },
        {
          "name": "stderr",
          "output_type": "stream",
          "text": [
            "Creating 32 embeddings in 1 batches of size 32:: 100%|██████████| 1/1 [00:12<00:00, 12.75s/it]\n"
          ]
        },
        {
          "name": "stdout",
          "output_type": "stream",
          "text": [
            "Dataset(path='hub://siftain/LuXury_ProDuctS', tensors=['text', 'metadata', 'embedding', 'id'])\n",
            "\n",
            "  tensor      htype       shape      dtype  compression\n",
            "  -------    -------     -------    -------  ------- \n",
            "   text       text      (192, 1)      str     None   \n",
            " metadata     json      (192, 1)      str     None   \n",
            " embedding  embedding  (192, 1536)  float32   None   \n",
            "    id        text      (192, 1)      str     None   \n"
          ]
        },
        {
          "name": "stderr",
          "output_type": "stream",
          "text": [
            "Creating 32 embeddings in 1 batches of size 32:: 100%|██████████| 1/1 [00:12<00:00, 12.80s/it]\n"
          ]
        },
        {
          "name": "stdout",
          "output_type": "stream",
          "text": [
            "Dataset(path='hub://siftain/LuXury_ProDuctS', tensors=['text', 'metadata', 'embedding', 'id'])\n",
            "\n",
            "  tensor      htype       shape      dtype  compression\n",
            "  -------    -------     -------    -------  ------- \n",
            "   text       text      (224, 1)      str     None   \n",
            " metadata     json      (224, 1)      str     None   \n",
            " embedding  embedding  (224, 1536)  float32   None   \n",
            "    id        text      (224, 1)      str     None   \n"
          ]
        },
        {
          "name": "stderr",
          "output_type": "stream",
          "text": [
            "Creating 32 embeddings in 1 batches of size 32:: 100%|██████████| 1/1 [00:10<00:00, 10.98s/it]\n"
          ]
        },
        {
          "name": "stdout",
          "output_type": "stream",
          "text": [
            "Dataset(path='hub://siftain/LuXury_ProDuctS', tensors=['text', 'metadata', 'embedding', 'id'])\n",
            "\n",
            "  tensor      htype       shape      dtype  compression\n",
            "  -------    -------     -------    -------  ------- \n",
            "   text       text      (256, 1)      str     None   \n",
            " metadata     json      (256, 1)      str     None   \n",
            " embedding  embedding  (256, 1536)  float32   None   \n",
            "    id        text      (256, 1)      str     None   \n"
          ]
        },
        {
          "name": "stderr",
          "output_type": "stream",
          "text": [
            "Creating 32 embeddings in 1 batches of size 32:: 100%|██████████| 1/1 [00:11<00:00, 11.08s/it]\n"
          ]
        },
        {
          "name": "stdout",
          "output_type": "stream",
          "text": [
            "Dataset(path='hub://siftain/LuXury_ProDuctS', tensors=['text', 'metadata', 'embedding', 'id'])\n",
            "\n",
            "  tensor      htype       shape      dtype  compression\n",
            "  -------    -------     -------    -------  ------- \n",
            "   text       text      (288, 1)      str     None   \n",
            " metadata     json      (288, 1)      str     None   \n",
            " embedding  embedding  (288, 1536)  float32   None   \n",
            "    id        text      (288, 1)      str     None   \n"
          ]
        },
        {
          "name": "stderr",
          "output_type": "stream",
          "text": [
            "Creating 32 embeddings in 1 batches of size 32:: 100%|██████████| 1/1 [00:13<00:00, 13.23s/it]\n"
          ]
        },
        {
          "name": "stdout",
          "output_type": "stream",
          "text": [
            "Dataset(path='hub://siftain/LuXury_ProDuctS', tensors=['text', 'metadata', 'embedding', 'id'])\n",
            "\n",
            "  tensor      htype       shape      dtype  compression\n",
            "  -------    -------     -------    -------  ------- \n",
            "   text       text      (320, 1)      str     None   \n",
            " metadata     json      (320, 1)      str     None   \n",
            " embedding  embedding  (320, 1536)  float32   None   \n",
            "    id        text      (320, 1)      str     None   \n"
          ]
        },
        {
          "name": "stderr",
          "output_type": "stream",
          "text": [
            "Creating 32 embeddings in 1 batches of size 32:: 100%|██████████| 1/1 [00:11<00:00, 11.14s/it]\n"
          ]
        },
        {
          "name": "stdout",
          "output_type": "stream",
          "text": [
            "Dataset(path='hub://siftain/LuXury_ProDuctS', tensors=['text', 'metadata', 'embedding', 'id'])\n",
            "\n",
            "  tensor      htype       shape      dtype  compression\n",
            "  -------    -------     -------    -------  ------- \n",
            "   text       text      (352, 1)      str     None   \n",
            " metadata     json      (352, 1)      str     None   \n",
            " embedding  embedding  (352, 1536)  float32   None   \n",
            "    id        text      (352, 1)      str     None   \n"
          ]
        },
        {
          "name": "stderr",
          "output_type": "stream",
          "text": [
            "Creating 32 embeddings in 1 batches of size 32:: 100%|██████████| 1/1 [00:13<00:00, 13.42s/it]\n"
          ]
        },
        {
          "name": "stdout",
          "output_type": "stream",
          "text": [
            "Dataset(path='hub://siftain/LuXury_ProDuctS', tensors=['text', 'metadata', 'embedding', 'id'])\n",
            "\n",
            "  tensor      htype       shape      dtype  compression\n",
            "  -------    -------     -------    -------  ------- \n",
            "   text       text      (384, 1)      str     None   \n",
            " metadata     json      (384, 1)      str     None   \n",
            " embedding  embedding  (384, 1536)  float32   None   \n",
            "    id        text      (384, 1)      str     None   \n"
          ]
        },
        {
          "name": "stderr",
          "output_type": "stream",
          "text": [
            "Creating 32 embeddings in 1 batches of size 32:: 100%|██████████| 1/1 [00:16<00:00, 16.61s/it]\n"
          ]
        },
        {
          "name": "stdout",
          "output_type": "stream",
          "text": [
            "Dataset(path='hub://siftain/LuXury_ProDuctS', tensors=['text', 'metadata', 'embedding', 'id'])\n",
            "\n",
            "  tensor      htype       shape      dtype  compression\n",
            "  -------    -------     -------    -------  ------- \n",
            "   text       text      (416, 1)      str     None   \n",
            " metadata     json      (416, 1)      str     None   \n",
            " embedding  embedding  (416, 1536)  float32   None   \n",
            "    id        text      (416, 1)      str     None   \n"
          ]
        },
        {
          "name": "stderr",
          "output_type": "stream",
          "text": [
            "Creating 32 embeddings in 1 batches of size 32:: 100%|██████████| 1/1 [00:13<00:00, 13.40s/it]\n"
          ]
        },
        {
          "name": "stdout",
          "output_type": "stream",
          "text": [
            "Dataset(path='hub://siftain/LuXury_ProDuctS', tensors=['text', 'metadata', 'embedding', 'id'])\n",
            "\n",
            "  tensor      htype       shape      dtype  compression\n",
            "  -------    -------     -------    -------  ------- \n",
            "   text       text      (448, 1)      str     None   \n",
            " metadata     json      (448, 1)      str     None   \n",
            " embedding  embedding  (448, 1536)  float32   None   \n",
            "    id        text      (448, 1)      str     None   \n"
          ]
        },
        {
          "name": "stderr",
          "output_type": "stream",
          "text": [
            "Creating 32 embeddings in 1 batches of size 32:: 100%|██████████| 1/1 [00:14<00:00, 14.10s/it]\n"
          ]
        },
        {
          "name": "stdout",
          "output_type": "stream",
          "text": [
            "Dataset(path='hub://siftain/LuXury_ProDuctS', tensors=['text', 'metadata', 'embedding', 'id'])\n",
            "\n",
            "  tensor      htype       shape      dtype  compression\n",
            "  -------    -------     -------    -------  ------- \n",
            "   text       text      (480, 1)      str     None   \n",
            " metadata     json      (480, 1)      str     None   \n",
            " embedding  embedding  (480, 1536)  float32   None   \n",
            "    id        text      (480, 1)      str     None   \n"
          ]
        },
        {
          "name": "stderr",
          "output_type": "stream",
          "text": [
            "Creating 32 embeddings in 1 batches of size 32:: 100%|██████████| 1/1 [00:12<00:00, 12.62s/it]\n"
          ]
        },
        {
          "name": "stdout",
          "output_type": "stream",
          "text": [
            "Dataset(path='hub://siftain/LuXury_ProDuctS', tensors=['text', 'metadata', 'embedding', 'id'])\n",
            "\n",
            "  tensor      htype       shape      dtype  compression\n",
            "  -------    -------     -------    -------  ------- \n",
            "   text       text      (512, 1)      str     None   \n",
            " metadata     json      (512, 1)      str     None   \n",
            " embedding  embedding  (512, 1536)  float32   None   \n",
            "    id        text      (512, 1)      str     None   \n"
          ]
        },
        {
          "name": "stderr",
          "output_type": "stream",
          "text": [
            "Creating 32 embeddings in 1 batches of size 32:: 100%|██████████| 1/1 [00:11<00:00, 11.51s/it]\n"
          ]
        },
        {
          "name": "stdout",
          "output_type": "stream",
          "text": [
            "Dataset(path='hub://siftain/LuXury_ProDuctS', tensors=['text', 'metadata', 'embedding', 'id'])\n",
            "\n",
            "  tensor      htype       shape      dtype  compression\n",
            "  -------    -------     -------    -------  ------- \n",
            "   text       text      (544, 1)      str     None   \n",
            " metadata     json      (544, 1)      str     None   \n",
            " embedding  embedding  (544, 1536)  float32   None   \n",
            "    id        text      (544, 1)      str     None   \n"
          ]
        },
        {
          "name": "stderr",
          "output_type": "stream",
          "text": [
            "Creating 32 embeddings in 1 batches of size 32:: 100%|██████████| 1/1 [00:14<00:00, 14.34s/it]\n"
          ]
        },
        {
          "name": "stdout",
          "output_type": "stream",
          "text": [
            "Dataset(path='hub://siftain/LuXury_ProDuctS', tensors=['text', 'metadata', 'embedding', 'id'])\n",
            "\n",
            "  tensor      htype       shape      dtype  compression\n",
            "  -------    -------     -------    -------  ------- \n",
            "   text       text      (576, 1)      str     None   \n",
            " metadata     json      (576, 1)      str     None   \n",
            " embedding  embedding  (576, 1536)  float32   None   \n",
            "    id        text      (576, 1)      str     None   \n"
          ]
        },
        {
          "name": "stderr",
          "output_type": "stream",
          "text": [
            "Creating 32 embeddings in 1 batches of size 32:: 100%|██████████| 1/1 [00:12<00:00, 12.71s/it]\n"
          ]
        },
        {
          "name": "stdout",
          "output_type": "stream",
          "text": [
            "Dataset(path='hub://siftain/LuXury_ProDuctS', tensors=['text', 'metadata', 'embedding', 'id'])\n",
            "\n",
            "  tensor      htype       shape      dtype  compression\n",
            "  -------    -------     -------    -------  ------- \n",
            "   text       text      (608, 1)      str     None   \n",
            " metadata     json      (608, 1)      str     None   \n",
            " embedding  embedding  (608, 1536)  float32   None   \n",
            "    id        text      (608, 1)      str     None   \n"
          ]
        },
        {
          "name": "stderr",
          "output_type": "stream",
          "text": [
            "Creating 32 embeddings in 1 batches of size 32:: 100%|██████████| 1/1 [00:14<00:00, 14.33s/it]\n"
          ]
        },
        {
          "name": "stdout",
          "output_type": "stream",
          "text": [
            "Dataset(path='hub://siftain/LuXury_ProDuctS', tensors=['text', 'metadata', 'embedding', 'id'])\n",
            "\n",
            "  tensor      htype       shape      dtype  compression\n",
            "  -------    -------     -------    -------  ------- \n",
            "   text       text      (640, 1)      str     None   \n",
            " metadata     json      (640, 1)      str     None   \n",
            " embedding  embedding  (640, 1536)  float32   None   \n",
            "    id        text      (640, 1)      str     None   \n"
          ]
        },
        {
          "name": "stderr",
          "output_type": "stream",
          "text": [
            "Creating 32 embeddings in 1 batches of size 32:: 100%|██████████| 1/1 [00:17<00:00, 17.76s/it]\n"
          ]
        },
        {
          "name": "stdout",
          "output_type": "stream",
          "text": [
            "Dataset(path='hub://siftain/LuXury_ProDuctS', tensors=['text', 'metadata', 'embedding', 'id'])\n",
            "\n",
            "  tensor      htype       shape      dtype  compression\n",
            "  -------    -------     -------    -------  ------- \n",
            "   text       text      (672, 1)      str     None   \n",
            " metadata     json      (672, 1)      str     None   \n",
            " embedding  embedding  (672, 1536)  float32   None   \n",
            "    id        text      (672, 1)      str     None   \n"
          ]
        },
        {
          "name": "stderr",
          "output_type": "stream",
          "text": [
            "Creating 32 embeddings in 1 batches of size 32:: 100%|██████████| 1/1 [00:14<00:00, 14.66s/it]\n"
          ]
        },
        {
          "name": "stdout",
          "output_type": "stream",
          "text": [
            "Dataset(path='hub://siftain/LuXury_ProDuctS', tensors=['text', 'metadata', 'embedding', 'id'])\n",
            "\n",
            "  tensor      htype       shape      dtype  compression\n",
            "  -------    -------     -------    -------  ------- \n",
            "   text       text      (704, 1)      str     None   \n",
            " metadata     json      (704, 1)      str     None   \n",
            " embedding  embedding  (704, 1536)  float32   None   \n",
            "    id        text      (704, 1)      str     None   \n"
          ]
        },
        {
          "name": "stderr",
          "output_type": "stream",
          "text": [
            "Creating 32 embeddings in 1 batches of size 32:: 100%|██████████| 1/1 [00:13<00:00, 13.54s/it]\n"
          ]
        },
        {
          "name": "stdout",
          "output_type": "stream",
          "text": [
            "Dataset(path='hub://siftain/LuXury_ProDuctS', tensors=['text', 'metadata', 'embedding', 'id'])\n",
            "\n",
            "  tensor      htype       shape      dtype  compression\n",
            "  -------    -------     -------    -------  ------- \n",
            "   text       text      (736, 1)      str     None   \n",
            " metadata     json      (736, 1)      str     None   \n",
            " embedding  embedding  (736, 1536)  float32   None   \n",
            "    id        text      (736, 1)      str     None   \n"
          ]
        },
        {
          "name": "stderr",
          "output_type": "stream",
          "text": [
            "Creating 32 embeddings in 1 batches of size 32:: 100%|██████████| 1/1 [00:15<00:00, 15.21s/it]\n"
          ]
        },
        {
          "name": "stdout",
          "output_type": "stream",
          "text": [
            "Dataset(path='hub://siftain/LuXury_ProDuctS', tensors=['text', 'metadata', 'embedding', 'id'])\n",
            "\n",
            "  tensor      htype       shape      dtype  compression\n",
            "  -------    -------     -------    -------  ------- \n",
            "   text       text      (768, 1)      str     None   \n",
            " metadata     json      (768, 1)      str     None   \n",
            " embedding  embedding  (768, 1536)  float32   None   \n",
            "    id        text      (768, 1)      str     None   \n"
          ]
        },
        {
          "name": "stderr",
          "output_type": "stream",
          "text": [
            "Creating 32 embeddings in 1 batches of size 32:: 100%|██████████| 1/1 [01:34<00:00, 94.71s/it]\n"
          ]
        },
        {
          "name": "stdout",
          "output_type": "stream",
          "text": [
            "Dataset(path='hub://siftain/LuXury_ProDuctS', tensors=['text', 'metadata', 'embedding', 'id'])\n",
            "\n",
            "  tensor      htype       shape      dtype  compression\n",
            "  -------    -------     -------    -------  ------- \n",
            "   text       text      (800, 1)      str     None   \n",
            " metadata     json      (800, 1)      str     None   \n",
            " embedding  embedding  (800, 1536)  float32   None   \n",
            "    id        text      (800, 1)      str     None   \n"
          ]
        },
        {
          "name": "stderr",
          "output_type": "stream",
          "text": [
            "Creating 32 embeddings in 1 batches of size 32:: 100%|██████████| 1/1 [00:15<00:00, 15.33s/it]\n"
          ]
        },
        {
          "name": "stdout",
          "output_type": "stream",
          "text": [
            "Dataset(path='hub://siftain/LuXury_ProDuctS', tensors=['text', 'metadata', 'embedding', 'id'])\n",
            "\n",
            "  tensor      htype       shape      dtype  compression\n",
            "  -------    -------     -------    -------  ------- \n",
            "   text       text      (832, 1)      str     None   \n",
            " metadata     json      (832, 1)      str     None   \n",
            " embedding  embedding  (832, 1536)  float32   None   \n",
            "    id        text      (832, 1)      str     None   \n"
          ]
        },
        {
          "name": "stderr",
          "output_type": "stream",
          "text": [
            "Creating 32 embeddings in 1 batches of size 32:: 100%|██████████| 1/1 [00:12<00:00, 12.45s/it]\n"
          ]
        },
        {
          "name": "stdout",
          "output_type": "stream",
          "text": [
            "Dataset(path='hub://siftain/LuXury_ProDuctS', tensors=['text', 'metadata', 'embedding', 'id'])\n",
            "\n",
            "  tensor      htype       shape      dtype  compression\n",
            "  -------    -------     -------    -------  ------- \n",
            "   text       text      (864, 1)      str     None   \n",
            " metadata     json      (864, 1)      str     None   \n",
            " embedding  embedding  (864, 1536)  float32   None   \n",
            "    id        text      (864, 1)      str     None   \n"
          ]
        },
        {
          "name": "stderr",
          "output_type": "stream",
          "text": [
            "Creating 32 embeddings in 1 batches of size 32:: 100%|██████████| 1/1 [00:11<00:00, 11.66s/it]\n"
          ]
        },
        {
          "name": "stdout",
          "output_type": "stream",
          "text": [
            "Dataset(path='hub://siftain/LuXury_ProDuctS', tensors=['text', 'metadata', 'embedding', 'id'])\n",
            "\n",
            "  tensor      htype       shape      dtype  compression\n",
            "  -------    -------     -------    -------  ------- \n",
            "   text       text      (896, 1)      str     None   \n",
            " metadata     json      (896, 1)      str     None   \n",
            " embedding  embedding  (896, 1536)  float32   None   \n",
            "    id        text      (896, 1)      str     None   \n"
          ]
        },
        {
          "name": "stderr",
          "output_type": "stream",
          "text": [
            "Creating 32 embeddings in 1 batches of size 32:: 100%|██████████| 1/1 [00:16<00:00, 16.48s/it]\n"
          ]
        },
        {
          "name": "stdout",
          "output_type": "stream",
          "text": [
            "Dataset(path='hub://siftain/LuXury_ProDuctS', tensors=['text', 'metadata', 'embedding', 'id'])\n",
            "\n",
            "  tensor      htype       shape      dtype  compression\n",
            "  -------    -------     -------    -------  ------- \n",
            "   text       text      (928, 1)      str     None   \n",
            " metadata     json      (928, 1)      str     None   \n",
            " embedding  embedding  (928, 1536)  float32   None   \n",
            "    id        text      (928, 1)      str     None   \n"
          ]
        },
        {
          "name": "stderr",
          "output_type": "stream",
          "text": [
            "Creating 32 embeddings in 1 batches of size 32:: 100%|██████████| 1/1 [00:15<00:00, 15.19s/it]\n"
          ]
        },
        {
          "name": "stdout",
          "output_type": "stream",
          "text": [
            "Dataset(path='hub://siftain/LuXury_ProDuctS', tensors=['text', 'metadata', 'embedding', 'id'])\n",
            "\n",
            "  tensor      htype       shape      dtype  compression\n",
            "  -------    -------     -------    -------  ------- \n",
            "   text       text      (960, 1)      str     None   \n",
            " metadata     json      (960, 1)      str     None   \n",
            " embedding  embedding  (960, 1536)  float32   None   \n",
            "    id        text      (960, 1)      str     None   \n"
          ]
        },
        {
          "name": "stderr",
          "output_type": "stream",
          "text": [
            "Creating 32 embeddings in 1 batches of size 32:: 100%|██████████| 1/1 [00:14<00:00, 14.74s/it]\n"
          ]
        },
        {
          "name": "stdout",
          "output_type": "stream",
          "text": [
            "Dataset(path='hub://siftain/LuXury_ProDuctS', tensors=['text', 'metadata', 'embedding', 'id'])\n",
            "\n",
            "  tensor      htype       shape      dtype  compression\n",
            "  -------    -------     -------    -------  ------- \n",
            "   text       text      (992, 1)      str     None   \n",
            " metadata     json      (992, 1)      str     None   \n",
            " embedding  embedding  (992, 1536)  float32   None   \n",
            "    id        text      (992, 1)      str     None   \n"
          ]
        },
        {
          "name": "stderr",
          "output_type": "stream",
          "text": [
            "Creating 32 embeddings in 1 batches of size 32:: 100%|██████████| 1/1 [00:17<00:00, 17.79s/it]\n"
          ]
        },
        {
          "name": "stdout",
          "output_type": "stream",
          "text": [
            "Dataset(path='hub://siftain/LuXury_ProDuctS', tensors=['text', 'metadata', 'embedding', 'id'])\n",
            "\n",
            "  tensor      htype       shape       dtype  compression\n",
            "  -------    -------     -------     -------  ------- \n",
            "   text       text      (1024, 1)      str     None   \n",
            " metadata     json      (1024, 1)      str     None   \n",
            " embedding  embedding  (1024, 1536)  float32   None   \n",
            "    id        text      (1024, 1)      str     None   \n"
          ]
        },
        {
          "name": "stderr",
          "output_type": "stream",
          "text": [
            "Creating 32 embeddings in 1 batches of size 32:: 100%|██████████| 1/1 [00:16<00:00, 16.42s/it]\n"
          ]
        },
        {
          "name": "stdout",
          "output_type": "stream",
          "text": [
            "Dataset(path='hub://siftain/LuXury_ProDuctS', tensors=['text', 'metadata', 'embedding', 'id'])\n",
            "\n",
            "  tensor      htype       shape       dtype  compression\n",
            "  -------    -------     -------     -------  ------- \n",
            "   text       text      (1056, 1)      str     None   \n",
            " metadata     json      (1056, 1)      str     None   \n",
            " embedding  embedding  (1056, 1536)  float32   None   \n",
            "    id        text      (1056, 1)      str     None   \n"
          ]
        },
        {
          "name": "stderr",
          "output_type": "stream",
          "text": [
            "Creating 32 embeddings in 1 batches of size 32:: 100%|██████████| 1/1 [00:12<00:00, 12.79s/it]\n"
          ]
        },
        {
          "name": "stdout",
          "output_type": "stream",
          "text": [
            "Dataset(path='hub://siftain/LuXury_ProDuctS', tensors=['text', 'metadata', 'embedding', 'id'])\n",
            "\n",
            "  tensor      htype       shape       dtype  compression\n",
            "  -------    -------     -------     -------  ------- \n",
            "   text       text      (1088, 1)      str     None   \n",
            " metadata     json      (1088, 1)      str     None   \n",
            " embedding  embedding  (1088, 1536)  float32   None   \n",
            "    id        text      (1088, 1)      str     None   \n"
          ]
        },
        {
          "name": "stderr",
          "output_type": "stream",
          "text": [
            "Creating 32 embeddings in 1 batches of size 32:: 100%|██████████| 1/1 [00:14<00:00, 14.48s/it]\n"
          ]
        },
        {
          "name": "stdout",
          "output_type": "stream",
          "text": [
            "Dataset(path='hub://siftain/LuXury_ProDuctS', tensors=['text', 'metadata', 'embedding', 'id'])\n",
            "\n",
            "  tensor      htype       shape       dtype  compression\n",
            "  -------    -------     -------     -------  ------- \n",
            "   text       text      (1120, 1)      str     None   \n",
            " metadata     json      (1120, 1)      str     None   \n",
            " embedding  embedding  (1120, 1536)  float32   None   \n",
            "    id        text      (1120, 1)      str     None   \n"
          ]
        },
        {
          "name": "stderr",
          "output_type": "stream",
          "text": [
            "Creating 32 embeddings in 1 batches of size 32:: 100%|██████████| 1/1 [00:15<00:00, 15.68s/it]\n"
          ]
        },
        {
          "name": "stdout",
          "output_type": "stream",
          "text": [
            "Dataset(path='hub://siftain/LuXury_ProDuctS', tensors=['text', 'metadata', 'embedding', 'id'])\n",
            "\n",
            "  tensor      htype       shape       dtype  compression\n",
            "  -------    -------     -------     -------  ------- \n",
            "   text       text      (1152, 1)      str     None   \n",
            " metadata     json      (1152, 1)      str     None   \n",
            " embedding  embedding  (1152, 1536)  float32   None   \n",
            "    id        text      (1152, 1)      str     None   \n"
          ]
        },
        {
          "name": "stderr",
          "output_type": "stream",
          "text": [
            "Creating 32 embeddings in 1 batches of size 32:: 100%|██████████| 1/1 [00:12<00:00, 12.27s/it]\n"
          ]
        },
        {
          "name": "stdout",
          "output_type": "stream",
          "text": [
            "Dataset(path='hub://siftain/LuXury_ProDuctS', tensors=['text', 'metadata', 'embedding', 'id'])\n",
            "\n",
            "  tensor      htype       shape       dtype  compression\n",
            "  -------    -------     -------     -------  ------- \n",
            "   text       text      (1184, 1)      str     None   \n",
            " metadata     json      (1184, 1)      str     None   \n",
            " embedding  embedding  (1184, 1536)  float32   None   \n",
            "    id        text      (1184, 1)      str     None   \n"
          ]
        },
        {
          "name": "stderr",
          "output_type": "stream",
          "text": [
            "Creating 32 embeddings in 1 batches of size 32:: 100%|██████████| 1/1 [00:11<00:00, 11.53s/it]\n"
          ]
        },
        {
          "name": "stdout",
          "output_type": "stream",
          "text": [
            "Dataset(path='hub://siftain/LuXury_ProDuctS', tensors=['text', 'metadata', 'embedding', 'id'])\n",
            "\n",
            "  tensor      htype       shape       dtype  compression\n",
            "  -------    -------     -------     -------  ------- \n",
            "   text       text      (1216, 1)      str     None   \n",
            " metadata     json      (1216, 1)      str     None   \n",
            " embedding  embedding  (1216, 1536)  float32   None   \n",
            "    id        text      (1216, 1)      str     None   \n"
          ]
        },
        {
          "name": "stderr",
          "output_type": "stream",
          "text": [
            "Creating 32 embeddings in 1 batches of size 32:: 100%|██████████| 1/1 [00:13<00:00, 13.32s/it]\n"
          ]
        },
        {
          "name": "stdout",
          "output_type": "stream",
          "text": [
            "Dataset(path='hub://siftain/LuXury_ProDuctS', tensors=['text', 'metadata', 'embedding', 'id'])\n",
            "\n",
            "  tensor      htype       shape       dtype  compression\n",
            "  -------    -------     -------     -------  ------- \n",
            "   text       text      (1248, 1)      str     None   \n",
            " metadata     json      (1248, 1)      str     None   \n",
            " embedding  embedding  (1248, 1536)  float32   None   \n",
            "    id        text      (1248, 1)      str     None   \n"
          ]
        },
        {
          "name": "stderr",
          "output_type": "stream",
          "text": [
            "Creating 32 embeddings in 1 batches of size 32:: 100%|██████████| 1/1 [00:12<00:00, 12.91s/it]\n"
          ]
        },
        {
          "name": "stdout",
          "output_type": "stream",
          "text": [
            "Dataset(path='hub://siftain/LuXury_ProDuctS', tensors=['text', 'metadata', 'embedding', 'id'])\n",
            "\n",
            "  tensor      htype       shape       dtype  compression\n",
            "  -------    -------     -------     -------  ------- \n",
            "   text       text      (1280, 1)      str     None   \n",
            " metadata     json      (1280, 1)      str     None   \n",
            " embedding  embedding  (1280, 1536)  float32   None   \n",
            "    id        text      (1280, 1)      str     None   \n"
          ]
        },
        {
          "name": "stderr",
          "output_type": "stream",
          "text": [
            "Creating 32 embeddings in 1 batches of size 32:: 100%|██████████| 1/1 [00:11<00:00, 11.36s/it]\n"
          ]
        },
        {
          "name": "stdout",
          "output_type": "stream",
          "text": [
            "Dataset(path='hub://siftain/LuXury_ProDuctS', tensors=['text', 'metadata', 'embedding', 'id'])\n",
            "\n",
            "  tensor      htype       shape       dtype  compression\n",
            "  -------    -------     -------     -------  ------- \n",
            "   text       text      (1312, 1)      str     None   \n",
            " metadata     json      (1312, 1)      str     None   \n",
            " embedding  embedding  (1312, 1536)  float32   None   \n",
            "    id        text      (1312, 1)      str     None   \n"
          ]
        },
        {
          "name": "stderr",
          "output_type": "stream",
          "text": [
            "Creating 32 embeddings in 1 batches of size 32:: 100%|██████████| 1/1 [00:10<00:00, 10.99s/it]\n"
          ]
        },
        {
          "name": "stdout",
          "output_type": "stream",
          "text": [
            "Dataset(path='hub://siftain/LuXury_ProDuctS', tensors=['text', 'metadata', 'embedding', 'id'])\n",
            "\n",
            "  tensor      htype       shape       dtype  compression\n",
            "  -------    -------     -------     -------  ------- \n",
            "   text       text      (1344, 1)      str     None   \n",
            " metadata     json      (1344, 1)      str     None   \n",
            " embedding  embedding  (1344, 1536)  float32   None   \n",
            "    id        text      (1344, 1)      str     None   \n"
          ]
        },
        {
          "name": "stderr",
          "output_type": "stream",
          "text": [
            "Creating 32 embeddings in 1 batches of size 32:: 100%|██████████| 1/1 [00:11<00:00, 11.82s/it]\n"
          ]
        },
        {
          "name": "stdout",
          "output_type": "stream",
          "text": [
            "Dataset(path='hub://siftain/LuXury_ProDuctS', tensors=['text', 'metadata', 'embedding', 'id'])\n",
            "\n",
            "  tensor      htype       shape       dtype  compression\n",
            "  -------    -------     -------     -------  ------- \n",
            "   text       text      (1376, 1)      str     None   \n",
            " metadata     json      (1376, 1)      str     None   \n",
            " embedding  embedding  (1376, 1536)  float32   None   \n",
            "    id        text      (1376, 1)      str     None   \n"
          ]
        },
        {
          "name": "stderr",
          "output_type": "stream",
          "text": [
            "Creating 32 embeddings in 1 batches of size 32:: 100%|██████████| 1/1 [00:10<00:00, 10.25s/it]\n"
          ]
        },
        {
          "name": "stdout",
          "output_type": "stream",
          "text": [
            "Dataset(path='hub://siftain/LuXury_ProDuctS', tensors=['text', 'metadata', 'embedding', 'id'])\n",
            "\n",
            "  tensor      htype       shape       dtype  compression\n",
            "  -------    -------     -------     -------  ------- \n",
            "   text       text      (1408, 1)      str     None   \n",
            " metadata     json      (1408, 1)      str     None   \n",
            " embedding  embedding  (1408, 1536)  float32   None   \n",
            "    id        text      (1408, 1)      str     None   \n"
          ]
        },
        {
          "name": "stderr",
          "output_type": "stream",
          "text": [
            "Creating 32 embeddings in 1 batches of size 32:: 100%|██████████| 1/1 [00:12<00:00, 12.40s/it]\n"
          ]
        },
        {
          "name": "stdout",
          "output_type": "stream",
          "text": [
            "Dataset(path='hub://siftain/LuXury_ProDuctS', tensors=['text', 'metadata', 'embedding', 'id'])\n",
            "\n",
            "  tensor      htype       shape       dtype  compression\n",
            "  -------    -------     -------     -------  ------- \n",
            "   text       text      (1440, 1)      str     None   \n",
            " metadata     json      (1440, 1)      str     None   \n",
            " embedding  embedding  (1440, 1536)  float32   None   \n",
            "    id        text      (1440, 1)      str     None   \n"
          ]
        },
        {
          "name": "stderr",
          "output_type": "stream",
          "text": [
            "Creating 32 embeddings in 1 batches of size 32:: 100%|██████████| 1/1 [00:09<00:00,  9.95s/it]\n"
          ]
        },
        {
          "name": "stdout",
          "output_type": "stream",
          "text": [
            "Dataset(path='hub://siftain/LuXury_ProDuctS', tensors=['text', 'metadata', 'embedding', 'id'])\n",
            "\n",
            "  tensor      htype       shape       dtype  compression\n",
            "  -------    -------     -------     -------  ------- \n",
            "   text       text      (1472, 1)      str     None   \n",
            " metadata     json      (1472, 1)      str     None   \n",
            " embedding  embedding  (1472, 1536)  float32   None   \n",
            "    id        text      (1472, 1)      str     None   \n"
          ]
        },
        {
          "name": "stderr",
          "output_type": "stream",
          "text": [
            "Creating 32 embeddings in 1 batches of size 32:: 100%|██████████| 1/1 [00:10<00:00, 10.90s/it]\n"
          ]
        },
        {
          "name": "stdout",
          "output_type": "stream",
          "text": [
            "Dataset(path='hub://siftain/LuXury_ProDuctS', tensors=['text', 'metadata', 'embedding', 'id'])\n",
            "\n",
            "  tensor      htype       shape       dtype  compression\n",
            "  -------    -------     -------     -------  ------- \n",
            "   text       text      (1504, 1)      str     None   \n",
            " metadata     json      (1504, 1)      str     None   \n",
            " embedding  embedding  (1504, 1536)  float32   None   \n",
            "    id        text      (1504, 1)      str     None   \n"
          ]
        },
        {
          "name": "stderr",
          "output_type": "stream",
          "text": [
            "Creating 32 embeddings in 1 batches of size 32:: 100%|██████████| 1/1 [00:11<00:00, 11.11s/it]\n"
          ]
        },
        {
          "name": "stdout",
          "output_type": "stream",
          "text": [
            "Dataset(path='hub://siftain/LuXury_ProDuctS', tensors=['text', 'metadata', 'embedding', 'id'])\n",
            "\n",
            "  tensor      htype       shape       dtype  compression\n",
            "  -------    -------     -------     -------  ------- \n",
            "   text       text      (1536, 1)      str     None   \n",
            " metadata     json      (1536, 1)      str     None   \n",
            " embedding  embedding  (1536, 1536)  float32   None   \n",
            "    id        text      (1536, 1)      str     None   \n"
          ]
        },
        {
          "name": "stderr",
          "output_type": "stream",
          "text": [
            "Creating 32 embeddings in 1 batches of size 32:: 100%|██████████| 1/1 [00:08<00:00,  8.90s/it]\n"
          ]
        },
        {
          "name": "stdout",
          "output_type": "stream",
          "text": [
            "Dataset(path='hub://siftain/LuXury_ProDuctS', tensors=['text', 'metadata', 'embedding', 'id'])\n",
            "\n",
            "  tensor      htype       shape       dtype  compression\n",
            "  -------    -------     -------     -------  ------- \n",
            "   text       text      (1568, 1)      str     None   \n",
            " metadata     json      (1568, 1)      str     None   \n",
            " embedding  embedding  (1568, 1536)  float32   None   \n",
            "    id        text      (1568, 1)      str     None   \n"
          ]
        },
        {
          "name": "stderr",
          "output_type": "stream",
          "text": [
            "Creating 32 embeddings in 1 batches of size 32:: 100%|██████████| 1/1 [00:09<00:00,  9.68s/it]\n"
          ]
        },
        {
          "name": "stdout",
          "output_type": "stream",
          "text": [
            "Dataset(path='hub://siftain/LuXury_ProDuctS', tensors=['text', 'metadata', 'embedding', 'id'])\n",
            "\n",
            "  tensor      htype       shape       dtype  compression\n",
            "  -------    -------     -------     -------  ------- \n",
            "   text       text      (1600, 1)      str     None   \n",
            " metadata     json      (1600, 1)      str     None   \n",
            " embedding  embedding  (1600, 1536)  float32   None   \n",
            "    id        text      (1600, 1)      str     None   \n"
          ]
        },
        {
          "name": "stderr",
          "output_type": "stream",
          "text": [
            "Creating 32 embeddings in 1 batches of size 32:: 100%|██████████| 1/1 [00:09<00:00,  9.38s/it]\n"
          ]
        },
        {
          "name": "stdout",
          "output_type": "stream",
          "text": [
            "Dataset(path='hub://siftain/LuXury_ProDuctS', tensors=['text', 'metadata', 'embedding', 'id'])\n",
            "\n",
            "  tensor      htype       shape       dtype  compression\n",
            "  -------    -------     -------     -------  ------- \n",
            "   text       text      (1632, 1)      str     None   \n",
            " metadata     json      (1632, 1)      str     None   \n",
            " embedding  embedding  (1632, 1536)  float32   None   \n",
            "    id        text      (1632, 1)      str     None   \n"
          ]
        },
        {
          "name": "stderr",
          "output_type": "stream",
          "text": [
            "Creating 32 embeddings in 1 batches of size 32:: 100%|██████████| 1/1 [00:08<00:00,  8.51s/it]\n"
          ]
        },
        {
          "name": "stdout",
          "output_type": "stream",
          "text": [
            "Dataset(path='hub://siftain/LuXury_ProDuctS', tensors=['text', 'metadata', 'embedding', 'id'])\n",
            "\n",
            "  tensor      htype       shape       dtype  compression\n",
            "  -------    -------     -------     -------  ------- \n",
            "   text       text      (1664, 1)      str     None   \n",
            " metadata     json      (1664, 1)      str     None   \n",
            " embedding  embedding  (1664, 1536)  float32   None   \n",
            "    id        text      (1664, 1)      str     None   \n"
          ]
        },
        {
          "name": "stderr",
          "output_type": "stream",
          "text": [
            "Creating 32 embeddings in 1 batches of size 32:: 100%|██████████| 1/1 [00:09<00:00,  9.45s/it]\n"
          ]
        },
        {
          "name": "stdout",
          "output_type": "stream",
          "text": [
            "Dataset(path='hub://siftain/LuXury_ProDuctS', tensors=['text', 'metadata', 'embedding', 'id'])\n",
            "\n",
            "  tensor      htype       shape       dtype  compression\n",
            "  -------    -------     -------     -------  ------- \n",
            "   text       text      (1696, 1)      str     None   \n",
            " metadata     json      (1696, 1)      str     None   \n",
            " embedding  embedding  (1696, 1536)  float32   None   \n",
            "    id        text      (1696, 1)      str     None   \n"
          ]
        },
        {
          "name": "stderr",
          "output_type": "stream",
          "text": [
            "Creating 32 embeddings in 1 batches of size 32:: 100%|██████████| 1/1 [00:08<00:00,  8.18s/it]\n"
          ]
        },
        {
          "name": "stdout",
          "output_type": "stream",
          "text": [
            "Dataset(path='hub://siftain/LuXury_ProDuctS', tensors=['text', 'metadata', 'embedding', 'id'])\n",
            "\n",
            "  tensor      htype       shape       dtype  compression\n",
            "  -------    -------     -------     -------  ------- \n",
            "   text       text      (1728, 1)      str     None   \n",
            " metadata     json      (1728, 1)      str     None   \n",
            " embedding  embedding  (1728, 1536)  float32   None   \n",
            "    id        text      (1728, 1)      str     None   \n"
          ]
        },
        {
          "name": "stderr",
          "output_type": "stream",
          "text": [
            "Creating 32 embeddings in 1 batches of size 32:: 100%|██████████| 1/1 [00:08<00:00,  8.81s/it]\n"
          ]
        },
        {
          "name": "stdout",
          "output_type": "stream",
          "text": [
            "Dataset(path='hub://siftain/LuXury_ProDuctS', tensors=['text', 'metadata', 'embedding', 'id'])\n",
            "\n",
            "  tensor      htype       shape       dtype  compression\n",
            "  -------    -------     -------     -------  ------- \n",
            "   text       text      (1760, 1)      str     None   \n",
            " metadata     json      (1760, 1)      str     None   \n",
            " embedding  embedding  (1760, 1536)  float32   None   \n",
            "    id        text      (1760, 1)      str     None   \n"
          ]
        },
        {
          "name": "stderr",
          "output_type": "stream",
          "text": [
            "Creating 32 embeddings in 1 batches of size 32:: 100%|██████████| 1/1 [00:06<00:00,  6.66s/it]\n"
          ]
        },
        {
          "name": "stdout",
          "output_type": "stream",
          "text": [
            "Dataset(path='hub://siftain/LuXury_ProDuctS', tensors=['text', 'metadata', 'embedding', 'id'])\n",
            "\n",
            "  tensor      htype       shape       dtype  compression\n",
            "  -------    -------     -------     -------  ------- \n",
            "   text       text      (1792, 1)      str     None   \n",
            " metadata     json      (1792, 1)      str     None   \n",
            " embedding  embedding  (1792, 1536)  float32   None   \n",
            "    id        text      (1792, 1)      str     None   \n"
          ]
        },
        {
          "name": "stderr",
          "output_type": "stream",
          "text": [
            "Creating 32 embeddings in 1 batches of size 32:: 100%|██████████| 1/1 [00:08<00:00,  8.28s/it]\n"
          ]
        },
        {
          "name": "stdout",
          "output_type": "stream",
          "text": [
            "Dataset(path='hub://siftain/LuXury_ProDuctS', tensors=['text', 'metadata', 'embedding', 'id'])\n",
            "\n",
            "  tensor      htype       shape       dtype  compression\n",
            "  -------    -------     -------     -------  ------- \n",
            "   text       text      (1824, 1)      str     None   \n",
            " metadata     json      (1824, 1)      str     None   \n",
            " embedding  embedding  (1824, 1536)  float32   None   \n",
            "    id        text      (1824, 1)      str     None   \n"
          ]
        },
        {
          "name": "stderr",
          "output_type": "stream",
          "text": [
            "Creating 32 embeddings in 1 batches of size 32:: 100%|██████████| 1/1 [00:05<00:00,  5.79s/it]\n"
          ]
        },
        {
          "name": "stdout",
          "output_type": "stream",
          "text": [
            "Dataset(path='hub://siftain/LuXury_ProDuctS', tensors=['text', 'metadata', 'embedding', 'id'])\n",
            "\n",
            "  tensor      htype       shape       dtype  compression\n",
            "  -------    -------     -------     -------  ------- \n",
            "   text       text      (1856, 1)      str     None   \n",
            " metadata     json      (1856, 1)      str     None   \n",
            " embedding  embedding  (1856, 1536)  float32   None   \n",
            "    id        text      (1856, 1)      str     None   \n"
          ]
        },
        {
          "name": "stderr",
          "output_type": "stream",
          "text": [
            "Creating 32 embeddings in 1 batches of size 32:: 100%|██████████| 1/1 [00:08<00:00,  8.23s/it]\n"
          ]
        },
        {
          "name": "stdout",
          "output_type": "stream",
          "text": [
            "Dataset(path='hub://siftain/LuXury_ProDuctS', tensors=['text', 'metadata', 'embedding', 'id'])\n",
            "\n",
            "  tensor      htype       shape       dtype  compression\n",
            "  -------    -------     -------     -------  ------- \n",
            "   text       text      (1888, 1)      str     None   \n",
            " metadata     json      (1888, 1)      str     None   \n",
            " embedding  embedding  (1888, 1536)  float32   None   \n",
            "    id        text      (1888, 1)      str     None   \n"
          ]
        },
        {
          "name": "stderr",
          "output_type": "stream",
          "text": [
            "Creating 32 embeddings in 1 batches of size 32:: 100%|██████████| 1/1 [00:06<00:00,  6.33s/it]\n"
          ]
        },
        {
          "name": "stdout",
          "output_type": "stream",
          "text": [
            "Dataset(path='hub://siftain/LuXury_ProDuctS', tensors=['text', 'metadata', 'embedding', 'id'])\n",
            "\n",
            "  tensor      htype       shape       dtype  compression\n",
            "  -------    -------     -------     -------  ------- \n",
            "   text       text      (1920, 1)      str     None   \n",
            " metadata     json      (1920, 1)      str     None   \n",
            " embedding  embedding  (1920, 1536)  float32   None   \n",
            "    id        text      (1920, 1)      str     None   \n"
          ]
        },
        {
          "name": "stderr",
          "output_type": "stream",
          "text": [
            "Creating 32 embeddings in 1 batches of size 32:: 100%|██████████| 1/1 [00:07<00:00,  7.96s/it]\n"
          ]
        },
        {
          "name": "stdout",
          "output_type": "stream",
          "text": [
            "Dataset(path='hub://siftain/LuXury_ProDuctS', tensors=['text', 'metadata', 'embedding', 'id'])\n",
            "\n",
            "  tensor      htype       shape       dtype  compression\n",
            "  -------    -------     -------     -------  ------- \n",
            "   text       text      (1952, 1)      str     None   \n",
            " metadata     json      (1952, 1)      str     None   \n",
            " embedding  embedding  (1952, 1536)  float32   None   \n",
            "    id        text      (1952, 1)      str     None   \n"
          ]
        },
        {
          "name": "stderr",
          "output_type": "stream",
          "text": [
            "Creating 32 embeddings in 1 batches of size 32:: 100%|██████████| 1/1 [00:06<00:00,  6.69s/it]\n"
          ]
        },
        {
          "name": "stdout",
          "output_type": "stream",
          "text": [
            "Dataset(path='hub://siftain/LuXury_ProDuctS', tensors=['text', 'metadata', 'embedding', 'id'])\n",
            "\n",
            "  tensor      htype       shape       dtype  compression\n",
            "  -------    -------     -------     -------  ------- \n",
            "   text       text      (1984, 1)      str     None   \n",
            " metadata     json      (1984, 1)      str     None   \n",
            " embedding  embedding  (1984, 1536)  float32   None   \n",
            "    id        text      (1984, 1)      str     None   \n"
          ]
        },
        {
          "name": "stderr",
          "output_type": "stream",
          "text": [
            "Creating 32 embeddings in 1 batches of size 32:: 100%|██████████| 1/1 [00:08<00:00,  8.30s/it]\n"
          ]
        },
        {
          "name": "stdout",
          "output_type": "stream",
          "text": [
            "Dataset(path='hub://siftain/LuXury_ProDuctS', tensors=['text', 'metadata', 'embedding', 'id'])\n",
            "\n",
            "  tensor      htype       shape       dtype  compression\n",
            "  -------    -------     -------     -------  ------- \n",
            "   text       text      (2016, 1)      str     None   \n",
            " metadata     json      (2016, 1)      str     None   \n",
            " embedding  embedding  (2016, 1536)  float32   None   \n",
            "    id        text      (2016, 1)      str     None   \n"
          ]
        },
        {
          "name": "stderr",
          "output_type": "stream",
          "text": [
            "Creating 32 embeddings in 1 batches of size 32:: 100%|██████████| 1/1 [00:06<00:00,  6.46s/it]\n"
          ]
        },
        {
          "name": "stdout",
          "output_type": "stream",
          "text": [
            "Dataset(path='hub://siftain/LuXury_ProDuctS', tensors=['text', 'metadata', 'embedding', 'id'])\n",
            "\n",
            "  tensor      htype       shape       dtype  compression\n",
            "  -------    -------     -------     -------  ------- \n",
            "   text       text      (2048, 1)      str     None   \n",
            " metadata     json      (2048, 1)      str     None   \n",
            " embedding  embedding  (2048, 1536)  float32   None   \n",
            "    id        text      (2048, 1)      str     None   \n"
          ]
        },
        {
          "name": "stderr",
          "output_type": "stream",
          "text": [
            "Creating 32 embeddings in 1 batches of size 32:: 100%|██████████| 1/1 [00:07<00:00,  7.68s/it]\n"
          ]
        },
        {
          "name": "stdout",
          "output_type": "stream",
          "text": [
            "Dataset(path='hub://siftain/LuXury_ProDuctS', tensors=['text', 'metadata', 'embedding', 'id'])\n",
            "\n",
            "  tensor      htype       shape       dtype  compression\n",
            "  -------    -------     -------     -------  ------- \n",
            "   text       text      (2080, 1)      str     None   \n",
            " metadata     json      (2080, 1)      str     None   \n",
            " embedding  embedding  (2080, 1536)  float32   None   \n",
            "    id        text      (2080, 1)      str     None   \n"
          ]
        },
        {
          "name": "stderr",
          "output_type": "stream",
          "text": [
            "Creating 32 embeddings in 1 batches of size 32:: 100%|██████████| 1/1 [00:06<00:00,  6.36s/it]\n"
          ]
        },
        {
          "name": "stdout",
          "output_type": "stream",
          "text": [
            "Dataset(path='hub://siftain/LuXury_ProDuctS', tensors=['text', 'metadata', 'embedding', 'id'])\n",
            "\n",
            "  tensor      htype       shape       dtype  compression\n",
            "  -------    -------     -------     -------  ------- \n",
            "   text       text      (2112, 1)      str     None   \n",
            " metadata     json      (2112, 1)      str     None   \n",
            " embedding  embedding  (2112, 1536)  float32   None   \n",
            "    id        text      (2112, 1)      str     None   \n"
          ]
        },
        {
          "name": "stderr",
          "output_type": "stream",
          "text": [
            "Creating 32 embeddings in 1 batches of size 32:: 100%|██████████| 1/1 [00:07<00:00,  7.84s/it]\n"
          ]
        },
        {
          "name": "stdout",
          "output_type": "stream",
          "text": [
            "Dataset(path='hub://siftain/LuXury_ProDuctS', tensors=['text', 'metadata', 'embedding', 'id'])\n",
            "\n",
            "  tensor      htype       shape       dtype  compression\n",
            "  -------    -------     -------     -------  ------- \n",
            "   text       text      (2144, 1)      str     None   \n",
            " metadata     json      (2144, 1)      str     None   \n",
            " embedding  embedding  (2144, 1536)  float32   None   \n",
            "    id        text      (2144, 1)      str     None   \n"
          ]
        },
        {
          "name": "stderr",
          "output_type": "stream",
          "text": [
            "Creating 32 embeddings in 1 batches of size 32:: 100%|██████████| 1/1 [00:06<00:00,  6.68s/it]\n"
          ]
        },
        {
          "name": "stdout",
          "output_type": "stream",
          "text": [
            "Dataset(path='hub://siftain/LuXury_ProDuctS', tensors=['text', 'metadata', 'embedding', 'id'])\n",
            "\n",
            "  tensor      htype       shape       dtype  compression\n",
            "  -------    -------     -------     -------  ------- \n",
            "   text       text      (2176, 1)      str     None   \n",
            " metadata     json      (2176, 1)      str     None   \n",
            " embedding  embedding  (2176, 1536)  float32   None   \n",
            "    id        text      (2176, 1)      str     None   \n"
          ]
        },
        {
          "name": "stderr",
          "output_type": "stream",
          "text": [
            "Creating 32 embeddings in 1 batches of size 32:: 100%|██████████| 1/1 [00:09<00:00,  9.27s/it]\n"
          ]
        },
        {
          "name": "stdout",
          "output_type": "stream",
          "text": [
            "Dataset(path='hub://siftain/LuXury_ProDuctS', tensors=['text', 'metadata', 'embedding', 'id'])\n",
            "\n",
            "  tensor      htype       shape       dtype  compression\n",
            "  -------    -------     -------     -------  ------- \n",
            "   text       text      (2208, 1)      str     None   \n",
            " metadata     json      (2208, 1)      str     None   \n",
            " embedding  embedding  (2208, 1536)  float32   None   \n",
            "    id        text      (2208, 1)      str     None   \n"
          ]
        },
        {
          "name": "stderr",
          "output_type": "stream",
          "text": [
            "Creating 32 embeddings in 1 batches of size 32:: 100%|██████████| 1/1 [00:08<00:00,  8.22s/it]\n"
          ]
        },
        {
          "name": "stdout",
          "output_type": "stream",
          "text": [
            "Dataset(path='hub://siftain/LuXury_ProDuctS', tensors=['text', 'metadata', 'embedding', 'id'])\n",
            "\n",
            "  tensor      htype       shape       dtype  compression\n",
            "  -------    -------     -------     -------  ------- \n",
            "   text       text      (2240, 1)      str     None   \n",
            " metadata     json      (2240, 1)      str     None   \n",
            " embedding  embedding  (2240, 1536)  float32   None   \n",
            "    id        text      (2240, 1)      str     None   \n"
          ]
        },
        {
          "name": "stderr",
          "output_type": "stream",
          "text": [
            "Creating 32 embeddings in 1 batches of size 32:: 100%|██████████| 1/1 [00:08<00:00,  8.51s/it]\n"
          ]
        },
        {
          "name": "stdout",
          "output_type": "stream",
          "text": [
            "Dataset(path='hub://siftain/LuXury_ProDuctS', tensors=['text', 'metadata', 'embedding', 'id'])\n",
            "\n",
            "  tensor      htype       shape       dtype  compression\n",
            "  -------    -------     -------     -------  ------- \n",
            "   text       text      (2272, 1)      str     None   \n",
            " metadata     json      (2272, 1)      str     None   \n",
            " embedding  embedding  (2272, 1536)  float32   None   \n",
            "    id        text      (2272, 1)      str     None   \n"
          ]
        },
        {
          "name": "stderr",
          "output_type": "stream",
          "text": [
            "Creating 32 embeddings in 1 batches of size 32:: 100%|██████████| 1/1 [00:06<00:00,  6.14s/it]\n"
          ]
        },
        {
          "name": "stdout",
          "output_type": "stream",
          "text": [
            "Dataset(path='hub://siftain/LuXury_ProDuctS', tensors=['text', 'metadata', 'embedding', 'id'])\n",
            "\n",
            "  tensor      htype       shape       dtype  compression\n",
            "  -------    -------     -------     -------  ------- \n",
            "   text       text      (2304, 1)      str     None   \n",
            " metadata     json      (2304, 1)      str     None   \n",
            " embedding  embedding  (2304, 1536)  float32   None   \n",
            "    id        text      (2304, 1)      str     None   \n"
          ]
        },
        {
          "name": "stderr",
          "output_type": "stream",
          "text": [
            "Creating 32 embeddings in 1 batches of size 32:: 100%|██████████| 1/1 [00:08<00:00,  8.21s/it]\n"
          ]
        },
        {
          "name": "stdout",
          "output_type": "stream",
          "text": [
            "Dataset(path='hub://siftain/LuXury_ProDuctS', tensors=['text', 'metadata', 'embedding', 'id'])\n",
            "\n",
            "  tensor      htype       shape       dtype  compression\n",
            "  -------    -------     -------     -------  ------- \n",
            "   text       text      (2336, 1)      str     None   \n",
            " metadata     json      (2336, 1)      str     None   \n",
            " embedding  embedding  (2336, 1536)  float32   None   \n",
            "    id        text      (2336, 1)      str     None   \n"
          ]
        },
        {
          "name": "stderr",
          "output_type": "stream",
          "text": [
            "Creating 32 embeddings in 1 batches of size 32:: 100%|██████████| 1/1 [00:06<00:00,  6.33s/it]\n"
          ]
        },
        {
          "name": "stdout",
          "output_type": "stream",
          "text": [
            "Dataset(path='hub://siftain/LuXury_ProDuctS', tensors=['text', 'metadata', 'embedding', 'id'])\n",
            "\n",
            "  tensor      htype       shape       dtype  compression\n",
            "  -------    -------     -------     -------  ------- \n",
            "   text       text      (2368, 1)      str     None   \n",
            " metadata     json      (2368, 1)      str     None   \n",
            " embedding  embedding  (2368, 1536)  float32   None   \n",
            "    id        text      (2368, 1)      str     None   \n"
          ]
        },
        {
          "name": "stderr",
          "output_type": "stream",
          "text": [
            "Creating 32 embeddings in 1 batches of size 32:: 100%|██████████| 1/1 [00:08<00:00,  8.07s/it]\n"
          ]
        },
        {
          "name": "stdout",
          "output_type": "stream",
          "text": [
            "Dataset(path='hub://siftain/LuXury_ProDuctS', tensors=['text', 'metadata', 'embedding', 'id'])\n",
            "\n",
            "  tensor      htype       shape       dtype  compression\n",
            "  -------    -------     -------     -------  ------- \n",
            "   text       text      (2400, 1)      str     None   \n",
            " metadata     json      (2400, 1)      str     None   \n",
            " embedding  embedding  (2400, 1536)  float32   None   \n",
            "    id        text      (2400, 1)      str     None   \n"
          ]
        },
        {
          "name": "stderr",
          "output_type": "stream",
          "text": [
            "Creating 32 embeddings in 1 batches of size 32:: 100%|██████████| 1/1 [00:06<00:00,  6.34s/it]\n"
          ]
        },
        {
          "name": "stdout",
          "output_type": "stream",
          "text": [
            "Dataset(path='hub://siftain/LuXury_ProDuctS', tensors=['text', 'metadata', 'embedding', 'id'])\n",
            "\n",
            "  tensor      htype       shape       dtype  compression\n",
            "  -------    -------     -------     -------  ------- \n",
            "   text       text      (2432, 1)      str     None   \n",
            " metadata     json      (2432, 1)      str     None   \n",
            " embedding  embedding  (2432, 1536)  float32   None   \n",
            "    id        text      (2432, 1)      str     None   \n"
          ]
        },
        {
          "name": "stderr",
          "output_type": "stream",
          "text": [
            "Creating 32 embeddings in 1 batches of size 32:: 100%|██████████| 1/1 [00:08<00:00,  8.91s/it]\n"
          ]
        },
        {
          "name": "stdout",
          "output_type": "stream",
          "text": [
            "Dataset(path='hub://siftain/LuXury_ProDuctS', tensors=['text', 'metadata', 'embedding', 'id'])\n",
            "\n",
            "  tensor      htype       shape       dtype  compression\n",
            "  -------    -------     -------     -------  ------- \n",
            "   text       text      (2464, 1)      str     None   \n",
            " metadata     json      (2464, 1)      str     None   \n",
            " embedding  embedding  (2464, 1536)  float32   None   \n",
            "    id        text      (2464, 1)      str     None   \n"
          ]
        },
        {
          "name": "stderr",
          "output_type": "stream",
          "text": [
            "Creating 32 embeddings in 1 batches of size 32:: 100%|██████████| 1/1 [00:06<00:00,  6.32s/it]\n"
          ]
        },
        {
          "name": "stdout",
          "output_type": "stream",
          "text": [
            "Dataset(path='hub://siftain/LuXury_ProDuctS', tensors=['text', 'metadata', 'embedding', 'id'])\n",
            "\n",
            "  tensor      htype       shape       dtype  compression\n",
            "  -------    -------     -------     -------  ------- \n",
            "   text       text      (2496, 1)      str     None   \n",
            " metadata     json      (2496, 1)      str     None   \n",
            " embedding  embedding  (2496, 1536)  float32   None   \n",
            "    id        text      (2496, 1)      str     None   \n"
          ]
        },
        {
          "name": "stderr",
          "output_type": "stream",
          "text": [
            "Creating 32 embeddings in 1 batches of size 32:: 100%|██████████| 1/1 [00:08<00:00,  8.09s/it]\n"
          ]
        },
        {
          "name": "stdout",
          "output_type": "stream",
          "text": [
            "Dataset(path='hub://siftain/LuXury_ProDuctS', tensors=['text', 'metadata', 'embedding', 'id'])\n",
            "\n",
            "  tensor      htype       shape       dtype  compression\n",
            "  -------    -------     -------     -------  ------- \n",
            "   text       text      (2528, 1)      str     None   \n",
            " metadata     json      (2528, 1)      str     None   \n",
            " embedding  embedding  (2528, 1536)  float32   None   \n",
            "    id        text      (2528, 1)      str     None   \n"
          ]
        },
        {
          "name": "stderr",
          "output_type": "stream",
          "text": [
            "Creating 32 embeddings in 1 batches of size 32:: 100%|██████████| 1/1 [00:06<00:00,  6.76s/it]\n"
          ]
        },
        {
          "name": "stdout",
          "output_type": "stream",
          "text": [
            "Dataset(path='hub://siftain/LuXury_ProDuctS', tensors=['text', 'metadata', 'embedding', 'id'])\n",
            "\n",
            "  tensor      htype       shape       dtype  compression\n",
            "  -------    -------     -------     -------  ------- \n",
            "   text       text      (2560, 1)      str     None   \n",
            " metadata     json      (2560, 1)      str     None   \n",
            " embedding  embedding  (2560, 1536)  float32   None   \n",
            "    id        text      (2560, 1)      str     None   \n"
          ]
        },
        {
          "name": "stderr",
          "output_type": "stream",
          "text": [
            "Creating 32 embeddings in 1 batches of size 32:: 100%|██████████| 1/1 [00:08<00:00,  8.26s/it]\n"
          ]
        },
        {
          "name": "stdout",
          "output_type": "stream",
          "text": [
            "Dataset(path='hub://siftain/LuXury_ProDuctS', tensors=['text', 'metadata', 'embedding', 'id'])\n",
            "\n",
            "  tensor      htype       shape       dtype  compression\n",
            "  -------    -------     -------     -------  ------- \n",
            "   text       text      (2592, 1)      str     None   \n",
            " metadata     json      (2592, 1)      str     None   \n",
            " embedding  embedding  (2592, 1536)  float32   None   \n",
            "    id        text      (2592, 1)      str     None   \n"
          ]
        },
        {
          "name": "stderr",
          "output_type": "stream",
          "text": [
            "Creating 32 embeddings in 1 batches of size 32:: 100%|██████████| 1/1 [00:06<00:00,  6.77s/it]\n"
          ]
        },
        {
          "name": "stdout",
          "output_type": "stream",
          "text": [
            "Dataset(path='hub://siftain/LuXury_ProDuctS', tensors=['text', 'metadata', 'embedding', 'id'])\n",
            "\n",
            "  tensor      htype       shape       dtype  compression\n",
            "  -------    -------     -------     -------  ------- \n",
            "   text       text      (2624, 1)      str     None   \n",
            " metadata     json      (2624, 1)      str     None   \n",
            " embedding  embedding  (2624, 1536)  float32   None   \n",
            "    id        text      (2624, 1)      str     None   \n"
          ]
        },
        {
          "name": "stderr",
          "output_type": "stream",
          "text": [
            "Creating 32 embeddings in 1 batches of size 32:: 100%|██████████| 1/1 [00:08<00:00,  8.12s/it]\n"
          ]
        },
        {
          "name": "stdout",
          "output_type": "stream",
          "text": [
            "Dataset(path='hub://siftain/LuXury_ProDuctS', tensors=['text', 'metadata', 'embedding', 'id'])\n",
            "\n",
            "  tensor      htype       shape       dtype  compression\n",
            "  -------    -------     -------     -------  ------- \n",
            "   text       text      (2656, 1)      str     None   \n",
            " metadata     json      (2656, 1)      str     None   \n",
            " embedding  embedding  (2656, 1536)  float32   None   \n",
            "    id        text      (2656, 1)      str     None   \n"
          ]
        },
        {
          "name": "stderr",
          "output_type": "stream",
          "text": [
            "Creating 32 embeddings in 1 batches of size 32:: 100%|██████████| 1/1 [00:06<00:00,  6.79s/it]\n"
          ]
        },
        {
          "name": "stdout",
          "output_type": "stream",
          "text": [
            "Dataset(path='hub://siftain/LuXury_ProDuctS', tensors=['text', 'metadata', 'embedding', 'id'])\n",
            "\n",
            "  tensor      htype       shape       dtype  compression\n",
            "  -------    -------     -------     -------  ------- \n",
            "   text       text      (2688, 1)      str     None   \n",
            " metadata     json      (2688, 1)      str     None   \n",
            " embedding  embedding  (2688, 1536)  float32   None   \n",
            "    id        text      (2688, 1)      str     None   \n"
          ]
        },
        {
          "name": "stderr",
          "output_type": "stream",
          "text": [
            "Creating 32 embeddings in 1 batches of size 32:: 100%|██████████| 1/1 [00:08<00:00,  8.57s/it]\n"
          ]
        },
        {
          "name": "stdout",
          "output_type": "stream",
          "text": [
            "Dataset(path='hub://siftain/LuXury_ProDuctS', tensors=['text', 'metadata', 'embedding', 'id'])\n",
            "\n",
            "  tensor      htype       shape       dtype  compression\n",
            "  -------    -------     -------     -------  ------- \n",
            "   text       text      (2720, 1)      str     None   \n",
            " metadata     json      (2720, 1)      str     None   \n",
            " embedding  embedding  (2720, 1536)  float32   None   \n",
            "    id        text      (2720, 1)      str     None   \n"
          ]
        },
        {
          "name": "stderr",
          "output_type": "stream",
          "text": [
            "Creating 32 embeddings in 1 batches of size 32:: 100%|██████████| 1/1 [00:06<00:00,  6.87s/it]\n"
          ]
        },
        {
          "name": "stdout",
          "output_type": "stream",
          "text": [
            "Dataset(path='hub://siftain/LuXury_ProDuctS', tensors=['text', 'metadata', 'embedding', 'id'])\n",
            "\n",
            "  tensor      htype       shape       dtype  compression\n",
            "  -------    -------     -------     -------  ------- \n",
            "   text       text      (2752, 1)      str     None   \n",
            " metadata     json      (2752, 1)      str     None   \n",
            " embedding  embedding  (2752, 1536)  float32   None   \n",
            "    id        text      (2752, 1)      str     None   \n"
          ]
        },
        {
          "name": "stderr",
          "output_type": "stream",
          "text": [
            "Creating 32 embeddings in 1 batches of size 32:: 100%|██████████| 1/1 [00:07<00:00,  7.90s/it]\n"
          ]
        },
        {
          "name": "stdout",
          "output_type": "stream",
          "text": [
            "Dataset(path='hub://siftain/LuXury_ProDuctS', tensors=['text', 'metadata', 'embedding', 'id'])\n",
            "\n",
            "  tensor      htype       shape       dtype  compression\n",
            "  -------    -------     -------     -------  ------- \n",
            "   text       text      (2784, 1)      str     None   \n",
            " metadata     json      (2784, 1)      str     None   \n",
            " embedding  embedding  (2784, 1536)  float32   None   \n",
            "    id        text      (2784, 1)      str     None   \n"
          ]
        },
        {
          "name": "stderr",
          "output_type": "stream",
          "text": [
            "Creating 32 embeddings in 1 batches of size 32:: 100%|██████████| 1/1 [00:06<00:00,  6.54s/it]\n"
          ]
        },
        {
          "name": "stdout",
          "output_type": "stream",
          "text": [
            "Dataset(path='hub://siftain/LuXury_ProDuctS', tensors=['text', 'metadata', 'embedding', 'id'])\n",
            "\n",
            "  tensor      htype       shape       dtype  compression\n",
            "  -------    -------     -------     -------  ------- \n",
            "   text       text      (2816, 1)      str     None   \n",
            " metadata     json      (2816, 1)      str     None   \n",
            " embedding  embedding  (2816, 1536)  float32   None   \n",
            "    id        text      (2816, 1)      str     None   \n"
          ]
        },
        {
          "name": "stderr",
          "output_type": "stream",
          "text": [
            "Creating 32 embeddings in 1 batches of size 32:: 100%|██████████| 1/1 [00:07<00:00,  7.70s/it]\n"
          ]
        },
        {
          "name": "stdout",
          "output_type": "stream",
          "text": [
            "Dataset(path='hub://siftain/LuXury_ProDuctS', tensors=['text', 'metadata', 'embedding', 'id'])\n",
            "\n",
            "  tensor      htype       shape       dtype  compression\n",
            "  -------    -------     -------     -------  ------- \n",
            "   text       text      (2848, 1)      str     None   \n",
            " metadata     json      (2848, 1)      str     None   \n",
            " embedding  embedding  (2848, 1536)  float32   None   \n",
            "    id        text      (2848, 1)      str     None   \n"
          ]
        },
        {
          "name": "stderr",
          "output_type": "stream",
          "text": [
            "Creating 32 embeddings in 1 batches of size 32:: 100%|██████████| 1/1 [00:06<00:00,  6.07s/it]\n"
          ]
        },
        {
          "name": "stdout",
          "output_type": "stream",
          "text": [
            "Dataset(path='hub://siftain/LuXury_ProDuctS', tensors=['text', 'metadata', 'embedding', 'id'])\n",
            "\n",
            "  tensor      htype       shape       dtype  compression\n",
            "  -------    -------     -------     -------  ------- \n",
            "   text       text      (2880, 1)      str     None   \n",
            " metadata     json      (2880, 1)      str     None   \n",
            " embedding  embedding  (2880, 1536)  float32   None   \n",
            "    id        text      (2880, 1)      str     None   \n"
          ]
        },
        {
          "name": "stderr",
          "output_type": "stream",
          "text": [
            "Creating 32 embeddings in 1 batches of size 32:: 100%|██████████| 1/1 [00:08<00:00,  8.07s/it]\n"
          ]
        },
        {
          "name": "stdout",
          "output_type": "stream",
          "text": [
            "Dataset(path='hub://siftain/LuXury_ProDuctS', tensors=['text', 'metadata', 'embedding', 'id'])\n",
            "\n",
            "  tensor      htype       shape       dtype  compression\n",
            "  -------    -------     -------     -------  ------- \n",
            "   text       text      (2912, 1)      str     None   \n",
            " metadata     json      (2912, 1)      str     None   \n",
            " embedding  embedding  (2912, 1536)  float32   None   \n",
            "    id        text      (2912, 1)      str     None   \n"
          ]
        },
        {
          "name": "stderr",
          "output_type": "stream",
          "text": [
            "Creating 32 embeddings in 1 batches of size 32:: 100%|██████████| 1/1 [00:07<00:00,  7.49s/it]\n"
          ]
        },
        {
          "name": "stdout",
          "output_type": "stream",
          "text": [
            "Dataset(path='hub://siftain/LuXury_ProDuctS', tensors=['text', 'metadata', 'embedding', 'id'])\n",
            "\n",
            "  tensor      htype       shape       dtype  compression\n",
            "  -------    -------     -------     -------  ------- \n",
            "   text       text      (2944, 1)      str     None   \n",
            " metadata     json      (2944, 1)      str     None   \n",
            " embedding  embedding  (2944, 1536)  float32   None   \n",
            "    id        text      (2944, 1)      str     None   \n"
          ]
        },
        {
          "name": "stderr",
          "output_type": "stream",
          "text": [
            "Creating 32 embeddings in 1 batches of size 32:: 100%|██████████| 1/1 [00:07<00:00,  7.53s/it]\n"
          ]
        },
        {
          "name": "stdout",
          "output_type": "stream",
          "text": [
            "Dataset(path='hub://siftain/LuXury_ProDuctS', tensors=['text', 'metadata', 'embedding', 'id'])\n",
            "\n",
            "  tensor      htype       shape       dtype  compression\n",
            "  -------    -------     -------     -------  ------- \n",
            "   text       text      (2976, 1)      str     None   \n",
            " metadata     json      (2976, 1)      str     None   \n",
            " embedding  embedding  (2976, 1536)  float32   None   \n",
            "    id        text      (2976, 1)      str     None   \n"
          ]
        },
        {
          "name": "stderr",
          "output_type": "stream",
          "text": [
            "Creating 32 embeddings in 1 batches of size 32:: 100%|██████████| 1/1 [00:06<00:00,  6.18s/it]\n"
          ]
        },
        {
          "name": "stdout",
          "output_type": "stream",
          "text": [
            "Dataset(path='hub://siftain/LuXury_ProDuctS', tensors=['text', 'metadata', 'embedding', 'id'])\n",
            "\n",
            "  tensor      htype       shape       dtype  compression\n",
            "  -------    -------     -------     -------  ------- \n",
            "   text       text      (3008, 1)      str     None   \n",
            " metadata     json      (3008, 1)      str     None   \n",
            " embedding  embedding  (3008, 1536)  float32   None   \n",
            "    id        text      (3008, 1)      str     None   \n"
          ]
        },
        {
          "name": "stderr",
          "output_type": "stream",
          "text": [
            "Creating 32 embeddings in 1 batches of size 32:: 100%|██████████| 1/1 [00:06<00:00,  6.97s/it]\n"
          ]
        },
        {
          "name": "stdout",
          "output_type": "stream",
          "text": [
            "Dataset(path='hub://siftain/LuXury_ProDuctS', tensors=['text', 'metadata', 'embedding', 'id'])\n",
            "\n",
            "  tensor      htype       shape       dtype  compression\n",
            "  -------    -------     -------     -------  ------- \n",
            "   text       text      (3040, 1)      str     None   \n",
            " metadata     json      (3040, 1)      str     None   \n",
            " embedding  embedding  (3040, 1536)  float32   None   \n",
            "    id        text      (3040, 1)      str     None   \n"
          ]
        },
        {
          "name": "stderr",
          "output_type": "stream",
          "text": [
            "Creating 32 embeddings in 1 batches of size 32:: 100%|██████████| 1/1 [00:06<00:00,  6.28s/it]\n"
          ]
        },
        {
          "name": "stdout",
          "output_type": "stream",
          "text": [
            "Dataset(path='hub://siftain/LuXury_ProDuctS', tensors=['text', 'metadata', 'embedding', 'id'])\n",
            "\n",
            "  tensor      htype       shape       dtype  compression\n",
            "  -------    -------     -------     -------  ------- \n",
            "   text       text      (3072, 1)      str     None   \n",
            " metadata     json      (3072, 1)      str     None   \n",
            " embedding  embedding  (3072, 1536)  float32   None   \n",
            "    id        text      (3072, 1)      str     None   \n"
          ]
        },
        {
          "name": "stderr",
          "output_type": "stream",
          "text": [
            "Creating 32 embeddings in 1 batches of size 32:: 100%|██████████| 1/1 [00:06<00:00,  6.66s/it]\n"
          ]
        },
        {
          "name": "stdout",
          "output_type": "stream",
          "text": [
            "Dataset(path='hub://siftain/LuXury_ProDuctS', tensors=['text', 'metadata', 'embedding', 'id'])\n",
            "\n",
            "  tensor      htype       shape       dtype  compression\n",
            "  -------    -------     -------     -------  ------- \n",
            "   text       text      (3104, 1)      str     None   \n",
            " metadata     json      (3104, 1)      str     None   \n",
            " embedding  embedding  (3104, 1536)  float32   None   \n",
            "    id        text      (3104, 1)      str     None   \n"
          ]
        },
        {
          "name": "stderr",
          "output_type": "stream",
          "text": [
            "Creating 32 embeddings in 1 batches of size 32:: 100%|██████████| 1/1 [00:09<00:00,  9.11s/it]\n"
          ]
        },
        {
          "name": "stdout",
          "output_type": "stream",
          "text": [
            "Dataset(path='hub://siftain/LuXury_ProDuctS', tensors=['text', 'metadata', 'embedding', 'id'])\n",
            "\n",
            "  tensor      htype       shape       dtype  compression\n",
            "  -------    -------     -------     -------  ------- \n",
            "   text       text      (3136, 1)      str     None   \n",
            " metadata     json      (3136, 1)      str     None   \n",
            " embedding  embedding  (3136, 1536)  float32   None   \n",
            "    id        text      (3136, 1)      str     None   \n"
          ]
        },
        {
          "name": "stderr",
          "output_type": "stream",
          "text": [
            "Creating 32 embeddings in 1 batches of size 32:: 100%|██████████| 1/1 [00:08<00:00,  8.00s/it]\n"
          ]
        },
        {
          "name": "stdout",
          "output_type": "stream",
          "text": [
            "Dataset(path='hub://siftain/LuXury_ProDuctS', tensors=['text', 'metadata', 'embedding', 'id'])\n",
            "\n",
            "  tensor      htype       shape       dtype  compression\n",
            "  -------    -------     -------     -------  ------- \n",
            "   text       text      (3168, 1)      str     None   \n",
            " metadata     json      (3168, 1)      str     None   \n",
            " embedding  embedding  (3168, 1536)  float32   None   \n",
            "    id        text      (3168, 1)      str     None   \n"
          ]
        },
        {
          "name": "stderr",
          "output_type": "stream",
          "text": [
            "Creating 32 embeddings in 1 batches of size 32:: 100%|██████████| 1/1 [00:06<00:00,  6.56s/it]\n"
          ]
        },
        {
          "name": "stdout",
          "output_type": "stream",
          "text": [
            "Dataset(path='hub://siftain/LuXury_ProDuctS', tensors=['text', 'metadata', 'embedding', 'id'])\n",
            "\n",
            "  tensor      htype       shape       dtype  compression\n",
            "  -------    -------     -------     -------  ------- \n",
            "   text       text      (3200, 1)      str     None   \n",
            " metadata     json      (3200, 1)      str     None   \n",
            " embedding  embedding  (3200, 1536)  float32   None   \n",
            "    id        text      (3200, 1)      str     None   \n"
          ]
        },
        {
          "name": "stderr",
          "output_type": "stream",
          "text": [
            "Creating 32 embeddings in 1 batches of size 32:: 100%|██████████| 1/1 [00:06<00:00,  6.61s/it]\n"
          ]
        },
        {
          "name": "stdout",
          "output_type": "stream",
          "text": [
            "Dataset(path='hub://siftain/LuXury_ProDuctS', tensors=['text', 'metadata', 'embedding', 'id'])\n",
            "\n",
            "  tensor      htype       shape       dtype  compression\n",
            "  -------    -------     -------     -------  ------- \n",
            "   text       text      (3232, 1)      str     None   \n",
            " metadata     json      (3232, 1)      str     None   \n",
            " embedding  embedding  (3232, 1536)  float32   None   \n",
            "    id        text      (3232, 1)      str     None   \n"
          ]
        },
        {
          "name": "stderr",
          "output_type": "stream",
          "text": [
            "Creating 32 embeddings in 1 batches of size 32:: 100%|██████████| 1/1 [00:07<00:00,  7.27s/it]\n"
          ]
        },
        {
          "name": "stdout",
          "output_type": "stream",
          "text": [
            "Dataset(path='hub://siftain/LuXury_ProDuctS', tensors=['text', 'metadata', 'embedding', 'id'])\n",
            "\n",
            "  tensor      htype       shape       dtype  compression\n",
            "  -------    -------     -------     -------  ------- \n",
            "   text       text      (3264, 1)      str     None   \n",
            " metadata     json      (3264, 1)      str     None   \n",
            " embedding  embedding  (3264, 1536)  float32   None   \n",
            "    id        text      (3264, 1)      str     None   \n"
          ]
        },
        {
          "name": "stderr",
          "output_type": "stream",
          "text": [
            "Creating 32 embeddings in 1 batches of size 32:: 100%|██████████| 1/1 [00:07<00:00,  7.17s/it]\n"
          ]
        },
        {
          "name": "stdout",
          "output_type": "stream",
          "text": [
            "Dataset(path='hub://siftain/LuXury_ProDuctS', tensors=['text', 'metadata', 'embedding', 'id'])\n",
            "\n",
            "  tensor      htype       shape       dtype  compression\n",
            "  -------    -------     -------     -------  ------- \n",
            "   text       text      (3296, 1)      str     None   \n",
            " metadata     json      (3296, 1)      str     None   \n",
            " embedding  embedding  (3296, 1536)  float32   None   \n",
            "    id        text      (3296, 1)      str     None   \n"
          ]
        },
        {
          "name": "stderr",
          "output_type": "stream",
          "text": [
            "Creating 32 embeddings in 1 batches of size 32:: 100%|██████████| 1/1 [00:08<00:00,  8.64s/it]\n"
          ]
        },
        {
          "name": "stdout",
          "output_type": "stream",
          "text": [
            "Dataset(path='hub://siftain/LuXury_ProDuctS', tensors=['text', 'metadata', 'embedding', 'id'])\n",
            "\n",
            "  tensor      htype       shape       dtype  compression\n",
            "  -------    -------     -------     -------  ------- \n",
            "   text       text      (3328, 1)      str     None   \n",
            " metadata     json      (3328, 1)      str     None   \n",
            " embedding  embedding  (3328, 1536)  float32   None   \n",
            "    id        text      (3328, 1)      str     None   \n"
          ]
        },
        {
          "name": "stderr",
          "output_type": "stream",
          "text": [
            "Creating 32 embeddings in 1 batches of size 32:: 100%|██████████| 1/1 [00:06<00:00,  6.37s/it]\n"
          ]
        },
        {
          "name": "stdout",
          "output_type": "stream",
          "text": [
            "Dataset(path='hub://siftain/LuXury_ProDuctS', tensors=['text', 'metadata', 'embedding', 'id'])\n",
            "\n",
            "  tensor      htype       shape       dtype  compression\n",
            "  -------    -------     -------     -------  ------- \n",
            "   text       text      (3360, 1)      str     None   \n",
            " metadata     json      (3360, 1)      str     None   \n",
            " embedding  embedding  (3360, 1536)  float32   None   \n",
            "    id        text      (3360, 1)      str     None   \n"
          ]
        },
        {
          "name": "stderr",
          "output_type": "stream",
          "text": [
            "Creating 32 embeddings in 1 batches of size 32:: 100%|██████████| 1/1 [00:07<00:00,  7.93s/it]\n"
          ]
        },
        {
          "name": "stdout",
          "output_type": "stream",
          "text": [
            "Dataset(path='hub://siftain/LuXury_ProDuctS', tensors=['text', 'metadata', 'embedding', 'id'])\n",
            "\n",
            "  tensor      htype       shape       dtype  compression\n",
            "  -------    -------     -------     -------  ------- \n",
            "   text       text      (3392, 1)      str     None   \n",
            " metadata     json      (3392, 1)      str     None   \n",
            " embedding  embedding  (3392, 1536)  float32   None   \n",
            "    id        text      (3392, 1)      str     None   \n"
          ]
        },
        {
          "name": "stderr",
          "output_type": "stream",
          "text": [
            "Creating 32 embeddings in 1 batches of size 32:: 100%|██████████| 1/1 [00:06<00:00,  6.96s/it]\n"
          ]
        },
        {
          "name": "stdout",
          "output_type": "stream",
          "text": [
            "Dataset(path='hub://siftain/LuXury_ProDuctS', tensors=['text', 'metadata', 'embedding', 'id'])\n",
            "\n",
            "  tensor      htype       shape       dtype  compression\n",
            "  -------    -------     -------     -------  ------- \n",
            "   text       text      (3424, 1)      str     None   \n",
            " metadata     json      (3424, 1)      str     None   \n",
            " embedding  embedding  (3424, 1536)  float32   None   \n",
            "    id        text      (3424, 1)      str     None   \n"
          ]
        },
        {
          "name": "stderr",
          "output_type": "stream",
          "text": [
            "Creating 32 embeddings in 1 batches of size 32:: 100%|██████████| 1/1 [00:08<00:00,  8.16s/it]\n"
          ]
        },
        {
          "name": "stdout",
          "output_type": "stream",
          "text": [
            "Dataset(path='hub://siftain/LuXury_ProDuctS', tensors=['text', 'metadata', 'embedding', 'id'])\n",
            "\n",
            "  tensor      htype       shape       dtype  compression\n",
            "  -------    -------     -------     -------  ------- \n",
            "   text       text      (3456, 1)      str     None   \n",
            " metadata     json      (3456, 1)      str     None   \n",
            " embedding  embedding  (3456, 1536)  float32   None   \n",
            "    id        text      (3456, 1)      str     None   \n"
          ]
        },
        {
          "name": "stderr",
          "output_type": "stream",
          "text": [
            "Creating 32 embeddings in 1 batches of size 32:: 100%|██████████| 1/1 [00:06<00:00,  6.30s/it]\n"
          ]
        },
        {
          "name": "stdout",
          "output_type": "stream",
          "text": [
            "Dataset(path='hub://siftain/LuXury_ProDuctS', tensors=['text', 'metadata', 'embedding', 'id'])\n",
            "\n",
            "  tensor      htype       shape       dtype  compression\n",
            "  -------    -------     -------     -------  ------- \n",
            "   text       text      (3488, 1)      str     None   \n",
            " metadata     json      (3488, 1)      str     None   \n",
            " embedding  embedding  (3488, 1536)  float32   None   \n",
            "    id        text      (3488, 1)      str     None   \n"
          ]
        },
        {
          "name": "stderr",
          "output_type": "stream",
          "text": [
            "Creating 32 embeddings in 1 batches of size 32:: 100%|██████████| 1/1 [00:08<00:00,  8.50s/it]\n"
          ]
        },
        {
          "name": "stdout",
          "output_type": "stream",
          "text": [
            "Dataset(path='hub://siftain/LuXury_ProDuctS', tensors=['text', 'metadata', 'embedding', 'id'])\n",
            "\n",
            "  tensor      htype       shape       dtype  compression\n",
            "  -------    -------     -------     -------  ------- \n",
            "   text       text      (3520, 1)      str     None   \n",
            " metadata     json      (3520, 1)      str     None   \n",
            " embedding  embedding  (3520, 1536)  float32   None   \n",
            "    id        text      (3520, 1)      str     None   \n"
          ]
        },
        {
          "name": "stderr",
          "output_type": "stream",
          "text": [
            "Creating 32 embeddings in 1 batches of size 32:: 100%|██████████| 1/1 [00:06<00:00,  6.31s/it]\n"
          ]
        },
        {
          "name": "stdout",
          "output_type": "stream",
          "text": [
            "Dataset(path='hub://siftain/LuXury_ProDuctS', tensors=['text', 'metadata', 'embedding', 'id'])\n",
            "\n",
            "  tensor      htype       shape       dtype  compression\n",
            "  -------    -------     -------     -------  ------- \n",
            "   text       text      (3552, 1)      str     None   \n",
            " metadata     json      (3552, 1)      str     None   \n",
            " embedding  embedding  (3552, 1536)  float32   None   \n",
            "    id        text      (3552, 1)      str     None   \n"
          ]
        },
        {
          "name": "stderr",
          "output_type": "stream",
          "text": [
            "Creating 32 embeddings in 1 batches of size 32:: 100%|██████████| 1/1 [00:08<00:00,  8.08s/it]\n"
          ]
        },
        {
          "name": "stdout",
          "output_type": "stream",
          "text": [
            "Dataset(path='hub://siftain/LuXury_ProDuctS', tensors=['text', 'metadata', 'embedding', 'id'])\n",
            "\n",
            "  tensor      htype       shape       dtype  compression\n",
            "  -------    -------     -------     -------  ------- \n",
            "   text       text      (3584, 1)      str     None   \n",
            " metadata     json      (3584, 1)      str     None   \n",
            " embedding  embedding  (3584, 1536)  float32   None   \n",
            "    id        text      (3584, 1)      str     None   \n"
          ]
        },
        {
          "name": "stderr",
          "output_type": "stream",
          "text": [
            "Creating 32 embeddings in 1 batches of size 32:: 100%|██████████| 1/1 [00:06<00:00,  6.39s/it]\n"
          ]
        },
        {
          "name": "stdout",
          "output_type": "stream",
          "text": [
            "Dataset(path='hub://siftain/LuXury_ProDuctS', tensors=['text', 'metadata', 'embedding', 'id'])\n",
            "\n",
            "  tensor      htype       shape       dtype  compression\n",
            "  -------    -------     -------     -------  ------- \n",
            "   text       text      (3616, 1)      str     None   \n",
            " metadata     json      (3616, 1)      str     None   \n",
            " embedding  embedding  (3616, 1536)  float32   None   \n",
            "    id        text      (3616, 1)      str     None   \n"
          ]
        },
        {
          "name": "stderr",
          "output_type": "stream",
          "text": [
            "Creating 32 embeddings in 1 batches of size 32:: 100%|██████████| 1/1 [00:07<00:00,  7.97s/it]\n"
          ]
        },
        {
          "name": "stdout",
          "output_type": "stream",
          "text": [
            "Dataset(path='hub://siftain/LuXury_ProDuctS', tensors=['text', 'metadata', 'embedding', 'id'])\n",
            "\n",
            "  tensor      htype       shape       dtype  compression\n",
            "  -------    -------     -------     -------  ------- \n",
            "   text       text      (3648, 1)      str     None   \n",
            " metadata     json      (3648, 1)      str     None   \n",
            " embedding  embedding  (3648, 1536)  float32   None   \n",
            "    id        text      (3648, 1)      str     None   \n"
          ]
        },
        {
          "name": "stderr",
          "output_type": "stream",
          "text": [
            "Creating 32 embeddings in 1 batches of size 32:: 100%|██████████| 1/1 [00:06<00:00,  6.30s/it]\n"
          ]
        },
        {
          "name": "stdout",
          "output_type": "stream",
          "text": [
            "Dataset(path='hub://siftain/LuXury_ProDuctS', tensors=['text', 'metadata', 'embedding', 'id'])\n",
            "\n",
            "  tensor      htype       shape       dtype  compression\n",
            "  -------    -------     -------     -------  ------- \n",
            "   text       text      (3680, 1)      str     None   \n",
            " metadata     json      (3680, 1)      str     None   \n",
            " embedding  embedding  (3680, 1536)  float32   None   \n",
            "    id        text      (3680, 1)      str     None   \n"
          ]
        },
        {
          "name": "stderr",
          "output_type": "stream",
          "text": [
            "Creating 32 embeddings in 1 batches of size 32:: 100%|██████████| 1/1 [00:07<00:00,  7.98s/it]\n"
          ]
        },
        {
          "name": "stdout",
          "output_type": "stream",
          "text": [
            "Dataset(path='hub://siftain/LuXury_ProDuctS', tensors=['text', 'metadata', 'embedding', 'id'])\n",
            "\n",
            "  tensor      htype       shape       dtype  compression\n",
            "  -------    -------     -------     -------  ------- \n",
            "   text       text      (3712, 1)      str     None   \n",
            " metadata     json      (3712, 1)      str     None   \n",
            " embedding  embedding  (3712, 1536)  float32   None   \n",
            "    id        text      (3712, 1)      str     None   \n"
          ]
        },
        {
          "name": "stderr",
          "output_type": "stream",
          "text": [
            "Creating 32 embeddings in 1 batches of size 32:: 100%|██████████| 1/1 [00:07<00:00,  7.25s/it]\n"
          ]
        },
        {
          "name": "stdout",
          "output_type": "stream",
          "text": [
            "Dataset(path='hub://siftain/LuXury_ProDuctS', tensors=['text', 'metadata', 'embedding', 'id'])\n",
            "\n",
            "  tensor      htype       shape       dtype  compression\n",
            "  -------    -------     -------     -------  ------- \n",
            "   text       text      (3744, 1)      str     None   \n",
            " metadata     json      (3744, 1)      str     None   \n",
            " embedding  embedding  (3744, 1536)  float32   None   \n",
            "    id        text      (3744, 1)      str     None   \n"
          ]
        },
        {
          "name": "stderr",
          "output_type": "stream",
          "text": [
            "Creating 32 embeddings in 1 batches of size 32:: 100%|██████████| 1/1 [00:08<00:00,  8.04s/it]\n"
          ]
        },
        {
          "name": "stdout",
          "output_type": "stream",
          "text": [
            "Dataset(path='hub://siftain/LuXury_ProDuctS', tensors=['text', 'metadata', 'embedding', 'id'])\n",
            "\n",
            "  tensor      htype       shape       dtype  compression\n",
            "  -------    -------     -------     -------  ------- \n",
            "   text       text      (3776, 1)      str     None   \n",
            " metadata     json      (3776, 1)      str     None   \n",
            " embedding  embedding  (3776, 1536)  float32   None   \n",
            "    id        text      (3776, 1)      str     None   \n"
          ]
        },
        {
          "name": "stderr",
          "output_type": "stream",
          "text": [
            "Creating 32 embeddings in 1 batches of size 32:: 100%|██████████| 1/1 [00:06<00:00,  6.66s/it]\n"
          ]
        },
        {
          "name": "stdout",
          "output_type": "stream",
          "text": [
            "Dataset(path='hub://siftain/LuXury_ProDuctS', tensors=['text', 'metadata', 'embedding', 'id'])\n",
            "\n",
            "  tensor      htype       shape       dtype  compression\n",
            "  -------    -------     -------     -------  ------- \n",
            "   text       text      (3808, 1)      str     None   \n",
            " metadata     json      (3808, 1)      str     None   \n",
            " embedding  embedding  (3808, 1536)  float32   None   \n",
            "    id        text      (3808, 1)      str     None   \n"
          ]
        },
        {
          "name": "stderr",
          "output_type": "stream",
          "text": [
            "Creating 32 embeddings in 1 batches of size 32:: 100%|██████████| 1/1 [00:08<00:00,  8.71s/it]\n"
          ]
        },
        {
          "name": "stdout",
          "output_type": "stream",
          "text": [
            "Dataset(path='hub://siftain/LuXury_ProDuctS', tensors=['text', 'metadata', 'embedding', 'id'])\n",
            "\n",
            "  tensor      htype       shape       dtype  compression\n",
            "  -------    -------     -------     -------  ------- \n",
            "   text       text      (3840, 1)      str     None   \n",
            " metadata     json      (3840, 1)      str     None   \n",
            " embedding  embedding  (3840, 1536)  float32   None   \n",
            "    id        text      (3840, 1)      str     None   \n"
          ]
        },
        {
          "name": "stderr",
          "output_type": "stream",
          "text": [
            "Creating 32 embeddings in 1 batches of size 32:: 100%|██████████| 1/1 [00:06<00:00,  6.05s/it]\n"
          ]
        },
        {
          "name": "stdout",
          "output_type": "stream",
          "text": [
            "Dataset(path='hub://siftain/LuXury_ProDuctS', tensors=['text', 'metadata', 'embedding', 'id'])\n",
            "\n",
            "  tensor      htype       shape       dtype  compression\n",
            "  -------    -------     -------     -------  ------- \n",
            "   text       text      (3872, 1)      str     None   \n",
            " metadata     json      (3872, 1)      str     None   \n",
            " embedding  embedding  (3872, 1536)  float32   None   \n",
            "    id        text      (3872, 1)      str     None   \n"
          ]
        },
        {
          "name": "stderr",
          "output_type": "stream",
          "text": [
            "Creating 32 embeddings in 1 batches of size 32:: 100%|██████████| 1/1 [00:08<00:00,  8.18s/it]\n"
          ]
        },
        {
          "name": "stdout",
          "output_type": "stream",
          "text": [
            "Dataset(path='hub://siftain/LuXury_ProDuctS', tensors=['text', 'metadata', 'embedding', 'id'])\n",
            "\n",
            "  tensor      htype       shape       dtype  compression\n",
            "  -------    -------     -------     -------  ------- \n",
            "   text       text      (3904, 1)      str     None   \n",
            " metadata     json      (3904, 1)      str     None   \n",
            " embedding  embedding  (3904, 1536)  float32   None   \n",
            "    id        text      (3904, 1)      str     None   \n"
          ]
        },
        {
          "name": "stderr",
          "output_type": "stream",
          "text": [
            "Creating 32 embeddings in 1 batches of size 32:: 100%|██████████| 1/1 [00:06<00:00,  6.44s/it]\n"
          ]
        },
        {
          "name": "stdout",
          "output_type": "stream",
          "text": [
            "Dataset(path='hub://siftain/LuXury_ProDuctS', tensors=['text', 'metadata', 'embedding', 'id'])\n",
            "\n",
            "  tensor      htype       shape       dtype  compression\n",
            "  -------    -------     -------     -------  ------- \n",
            "   text       text      (3936, 1)      str     None   \n",
            " metadata     json      (3936, 1)      str     None   \n",
            " embedding  embedding  (3936, 1536)  float32   None   \n",
            "    id        text      (3936, 1)      str     None   \n"
          ]
        },
        {
          "name": "stderr",
          "output_type": "stream",
          "text": [
            "Creating 32 embeddings in 1 batches of size 32:: 100%|██████████| 1/1 [00:07<00:00,  7.98s/it]\n"
          ]
        },
        {
          "name": "stdout",
          "output_type": "stream",
          "text": [
            "Dataset(path='hub://siftain/LuXury_ProDuctS', tensors=['text', 'metadata', 'embedding', 'id'])\n",
            "\n",
            "  tensor      htype       shape       dtype  compression\n",
            "  -------    -------     -------     -------  ------- \n",
            "   text       text      (3968, 1)      str     None   \n",
            " metadata     json      (3968, 1)      str     None   \n",
            " embedding  embedding  (3968, 1536)  float32   None   \n",
            "    id        text      (3968, 1)      str     None   \n"
          ]
        },
        {
          "name": "stderr",
          "output_type": "stream",
          "text": [
            "Creating 32 embeddings in 1 batches of size 32:: 100%|██████████| 1/1 [00:06<00:00,  6.35s/it]\n"
          ]
        },
        {
          "name": "stdout",
          "output_type": "stream",
          "text": [
            "Dataset(path='hub://siftain/LuXury_ProDuctS', tensors=['text', 'metadata', 'embedding', 'id'])\n",
            "\n",
            "  tensor      htype       shape       dtype  compression\n",
            "  -------    -------     -------     -------  ------- \n",
            "   text       text      (4000, 1)      str     None   \n",
            " metadata     json      (4000, 1)      str     None   \n",
            " embedding  embedding  (4000, 1536)  float32   None   \n",
            "    id        text      (4000, 1)      str     None   \n"
          ]
        },
        {
          "name": "stderr",
          "output_type": "stream",
          "text": [
            "Creating 32 embeddings in 1 batches of size 32:: 100%|██████████| 1/1 [00:07<00:00,  7.82s/it]\n"
          ]
        },
        {
          "name": "stdout",
          "output_type": "stream",
          "text": [
            "Dataset(path='hub://siftain/LuXury_ProDuctS', tensors=['text', 'metadata', 'embedding', 'id'])\n",
            "\n",
            "  tensor      htype       shape       dtype  compression\n",
            "  -------    -------     -------     -------  ------- \n",
            "   text       text      (4032, 1)      str     None   \n",
            " metadata     json      (4032, 1)      str     None   \n",
            " embedding  embedding  (4032, 1536)  float32   None   \n",
            "    id        text      (4032, 1)      str     None   \n"
          ]
        },
        {
          "name": "stderr",
          "output_type": "stream",
          "text": [
            "Creating 32 embeddings in 1 batches of size 32:: 100%|██████████| 1/1 [00:06<00:00,  6.26s/it]\n"
          ]
        },
        {
          "name": "stdout",
          "output_type": "stream",
          "text": [
            "Dataset(path='hub://siftain/LuXury_ProDuctS', tensors=['text', 'metadata', 'embedding', 'id'])\n",
            "\n",
            "  tensor      htype       shape       dtype  compression\n",
            "  -------    -------     -------     -------  ------- \n",
            "   text       text      (4064, 1)      str     None   \n",
            " metadata     json      (4064, 1)      str     None   \n",
            " embedding  embedding  (4064, 1536)  float32   None   \n",
            "    id        text      (4064, 1)      str     None   \n"
          ]
        },
        {
          "name": "stderr",
          "output_type": "stream",
          "text": [
            "Creating 32 embeddings in 1 batches of size 32:: 100%|██████████| 1/1 [00:07<00:00,  7.85s/it]\n"
          ]
        },
        {
          "name": "stdout",
          "output_type": "stream",
          "text": [
            "Dataset(path='hub://siftain/LuXury_ProDuctS', tensors=['text', 'metadata', 'embedding', 'id'])\n",
            "\n",
            "  tensor      htype       shape       dtype  compression\n",
            "  -------    -------     -------     -------  ------- \n",
            "   text       text      (4096, 1)      str     None   \n",
            " metadata     json      (4096, 1)      str     None   \n",
            " embedding  embedding  (4096, 1536)  float32   None   \n",
            "    id        text      (4096, 1)      str     None   \n"
          ]
        },
        {
          "name": "stderr",
          "output_type": "stream",
          "text": [
            "Creating 32 embeddings in 1 batches of size 32:: 100%|██████████| 1/1 [00:07<00:00,  7.05s/it]\n"
          ]
        },
        {
          "name": "stdout",
          "output_type": "stream",
          "text": [
            "Dataset(path='hub://siftain/LuXury_ProDuctS', tensors=['text', 'metadata', 'embedding', 'id'])\n",
            "\n",
            "  tensor      htype       shape       dtype  compression\n",
            "  -------    -------     -------     -------  ------- \n",
            "   text       text      (4128, 1)      str     None   \n",
            " metadata     json      (4128, 1)      str     None   \n",
            " embedding  embedding  (4128, 1536)  float32   None   \n",
            "    id        text      (4128, 1)      str     None   \n"
          ]
        },
        {
          "name": "stderr",
          "output_type": "stream",
          "text": [
            "Creating 32 embeddings in 1 batches of size 32:: 100%|██████████| 1/1 [00:08<00:00,  8.75s/it]\n"
          ]
        },
        {
          "name": "stdout",
          "output_type": "stream",
          "text": [
            "Dataset(path='hub://siftain/LuXury_ProDuctS', tensors=['text', 'metadata', 'embedding', 'id'])\n",
            "\n",
            "  tensor      htype       shape       dtype  compression\n",
            "  -------    -------     -------     -------  ------- \n",
            "   text       text      (4160, 1)      str     None   \n",
            " metadata     json      (4160, 1)      str     None   \n",
            " embedding  embedding  (4160, 1536)  float32   None   \n",
            "    id        text      (4160, 1)      str     None   \n"
          ]
        },
        {
          "name": "stderr",
          "output_type": "stream",
          "text": [
            "Creating 32 embeddings in 1 batches of size 32:: 100%|██████████| 1/1 [00:06<00:00,  6.76s/it]\n"
          ]
        },
        {
          "name": "stdout",
          "output_type": "stream",
          "text": [
            "Dataset(path='hub://siftain/LuXury_ProDuctS', tensors=['text', 'metadata', 'embedding', 'id'])\n",
            "\n",
            "  tensor      htype       shape       dtype  compression\n",
            "  -------    -------     -------     -------  ------- \n",
            "   text       text      (4192, 1)      str     None   \n",
            " metadata     json      (4192, 1)      str     None   \n",
            " embedding  embedding  (4192, 1536)  float32   None   \n",
            "    id        text      (4192, 1)      str     None   \n"
          ]
        },
        {
          "name": "stderr",
          "output_type": "stream",
          "text": [
            "Creating 32 embeddings in 1 batches of size 32:: 100%|██████████| 1/1 [00:08<00:00,  8.36s/it]\n"
          ]
        },
        {
          "name": "stdout",
          "output_type": "stream",
          "text": [
            "Dataset(path='hub://siftain/LuXury_ProDuctS', tensors=['text', 'metadata', 'embedding', 'id'])\n",
            "\n",
            "  tensor      htype       shape       dtype  compression\n",
            "  -------    -------     -------     -------  ------- \n",
            "   text       text      (4224, 1)      str     None   \n",
            " metadata     json      (4224, 1)      str     None   \n",
            " embedding  embedding  (4224, 1536)  float32   None   \n",
            "    id        text      (4224, 1)      str     None   \n"
          ]
        },
        {
          "name": "stderr",
          "output_type": "stream",
          "text": [
            "Creating 32 embeddings in 1 batches of size 32:: 100%|██████████| 1/1 [00:06<00:00,  6.96s/it]\n"
          ]
        },
        {
          "name": "stdout",
          "output_type": "stream",
          "text": [
            "Dataset(path='hub://siftain/LuXury_ProDuctS', tensors=['text', 'metadata', 'embedding', 'id'])\n",
            "\n",
            "  tensor      htype       shape       dtype  compression\n",
            "  -------    -------     -------     -------  ------- \n",
            "   text       text      (4256, 1)      str     None   \n",
            " metadata     json      (4256, 1)      str     None   \n",
            " embedding  embedding  (4256, 1536)  float32   None   \n",
            "    id        text      (4256, 1)      str     None   \n"
          ]
        },
        {
          "name": "stderr",
          "output_type": "stream",
          "text": [
            "Creating 32 embeddings in 1 batches of size 32:: 100%|██████████| 1/1 [00:08<00:00,  8.25s/it]\n"
          ]
        },
        {
          "name": "stdout",
          "output_type": "stream",
          "text": [
            "Dataset(path='hub://siftain/LuXury_ProDuctS', tensors=['text', 'metadata', 'embedding', 'id'])\n",
            "\n",
            "  tensor      htype       shape       dtype  compression\n",
            "  -------    -------     -------     -------  ------- \n",
            "   text       text      (4288, 1)      str     None   \n",
            " metadata     json      (4288, 1)      str     None   \n",
            " embedding  embedding  (4288, 1536)  float32   None   \n",
            "    id        text      (4288, 1)      str     None   \n"
          ]
        },
        {
          "name": "stderr",
          "output_type": "stream",
          "text": [
            "Creating 32 embeddings in 1 batches of size 32:: 100%|██████████| 1/1 [00:06<00:00,  6.33s/it]\n"
          ]
        },
        {
          "name": "stdout",
          "output_type": "stream",
          "text": [
            "Dataset(path='hub://siftain/LuXury_ProDuctS', tensors=['text', 'metadata', 'embedding', 'id'])\n",
            "\n",
            "  tensor      htype       shape       dtype  compression\n",
            "  -------    -------     -------     -------  ------- \n",
            "   text       text      (4320, 1)      str     None   \n",
            " metadata     json      (4320, 1)      str     None   \n",
            " embedding  embedding  (4320, 1536)  float32   None   \n",
            "    id        text      (4320, 1)      str     None   \n"
          ]
        },
        {
          "name": "stderr",
          "output_type": "stream",
          "text": [
            "Creating 32 embeddings in 1 batches of size 32:: 100%|██████████| 1/1 [00:08<00:00,  8.07s/it]\n"
          ]
        },
        {
          "name": "stdout",
          "output_type": "stream",
          "text": [
            "Dataset(path='hub://siftain/LuXury_ProDuctS', tensors=['text', 'metadata', 'embedding', 'id'])\n",
            "\n",
            "  tensor      htype       shape       dtype  compression\n",
            "  -------    -------     -------     -------  ------- \n",
            "   text       text      (4352, 1)      str     None   \n",
            " metadata     json      (4352, 1)      str     None   \n",
            " embedding  embedding  (4352, 1536)  float32   None   \n",
            "    id        text      (4352, 1)      str     None   \n"
          ]
        },
        {
          "name": "stderr",
          "output_type": "stream",
          "text": [
            "Creating 32 embeddings in 1 batches of size 32:: 100%|██████████| 1/1 [00:06<00:00,  6.21s/it]\n"
          ]
        },
        {
          "name": "stdout",
          "output_type": "stream",
          "text": [
            "Dataset(path='hub://siftain/LuXury_ProDuctS', tensors=['text', 'metadata', 'embedding', 'id'])\n",
            "\n",
            "  tensor      htype       shape       dtype  compression\n",
            "  -------    -------     -------     -------  ------- \n",
            "   text       text      (4384, 1)      str     None   \n",
            " metadata     json      (4384, 1)      str     None   \n",
            " embedding  embedding  (4384, 1536)  float32   None   \n",
            "    id        text      (4384, 1)      str     None   \n"
          ]
        },
        {
          "name": "stderr",
          "output_type": "stream",
          "text": [
            "Creating 32 embeddings in 1 batches of size 32:: 100%|██████████| 1/1 [00:08<00:00,  8.35s/it]\n"
          ]
        },
        {
          "name": "stdout",
          "output_type": "stream",
          "text": [
            "Dataset(path='hub://siftain/LuXury_ProDuctS', tensors=['text', 'metadata', 'embedding', 'id'])\n",
            "\n",
            "  tensor      htype       shape       dtype  compression\n",
            "  -------    -------     -------     -------  ------- \n",
            "   text       text      (4416, 1)      str     None   \n",
            " metadata     json      (4416, 1)      str     None   \n",
            " embedding  embedding  (4416, 1536)  float32   None   \n",
            "    id        text      (4416, 1)      str     None   \n"
          ]
        },
        {
          "name": "stderr",
          "output_type": "stream",
          "text": [
            "Creating 32 embeddings in 1 batches of size 32:: 100%|██████████| 1/1 [00:06<00:00,  6.81s/it]\n"
          ]
        },
        {
          "name": "stdout",
          "output_type": "stream",
          "text": [
            "Dataset(path='hub://siftain/LuXury_ProDuctS', tensors=['text', 'metadata', 'embedding', 'id'])\n",
            "\n",
            "  tensor      htype       shape       dtype  compression\n",
            "  -------    -------     -------     -------  ------- \n",
            "   text       text      (4448, 1)      str     None   \n",
            " metadata     json      (4448, 1)      str     None   \n",
            " embedding  embedding  (4448, 1536)  float32   None   \n",
            "    id        text      (4448, 1)      str     None   \n"
          ]
        },
        {
          "name": "stderr",
          "output_type": "stream",
          "text": [
            "Creating 5 embeddings in 1 batches of size 5:: 100%|██████████| 1/1 [00:08<00:00,  8.75s/it]"
          ]
        },
        {
          "name": "stdout",
          "output_type": "stream",
          "text": [
            "Dataset(path='hub://siftain/LuXury_ProDuctS', tensors=['text', 'metadata', 'embedding', 'id'])\n",
            "\n",
            "  tensor      htype       shape       dtype  compression\n",
            "  -------    -------     -------     -------  ------- \n",
            "   text       text      (4453, 1)      str     None   \n",
            " metadata     json      (4453, 1)      str     None   \n",
            " embedding  embedding  (4453, 1536)  float32   None   \n",
            "    id        text      (4453, 1)      str     None   \n"
          ]
        },
        {
          "name": "stderr",
          "output_type": "stream",
          "text": [
            "\n"
          ]
        }
      ],
      "source": [
        "embeddings = OpenAIEmbeddings(model=\"text-embedding-ada-002\")\n",
        "\n",
        "# creating Deep Lake dataset\n",
        "my_activeloop_org_id = \"siftain\"\n",
        "my_activeloop_dataset_name = \"LuXury_ProDuctS\"\n",
        "dataset_path = f\"hub://{my_activeloop_org_id}/{my_activeloop_dataset_name}\"\n",
        "db = DeepLake(dataset_path=dataset_path, embedding_function=embeddings)\n",
        "\n",
        "# Adding documents to the Deep Lake dataset\n",
        "# This step processes each document separately to avoid rate limits\n",
        "batch_size = 32 # Defining a batch size to avoid rate limits\n",
        "for i in range(0, len(docs), batch_size):\n",
        "    batch = docs[i:i+batch_size]\n",
        "    db.add_documents(batch)"
      ]
    },
    {
      "cell_type": "code",
      "execution_count": null,
      "id": "Ro9ffF9dLBjF",
      "metadata": {
        "id": "Ro9ffF9dLBjF"
      },
      "outputs": [],
      "source": [
        "from langchain.prompts import PromptTemplate\n",
        "\n",
        "# Writing a prompt for an outfit recommender\n",
        "template = \"\"\"\n",
        "You are an exceptional outfit recommender chatbot that provides outfit suggestions based on the provided description.\n",
        "\n",
        "You know the following context information:\n",
        "\n",
        "{chunks_formatted}\n",
        "\n",
        "Given a user description, calculate the similarity score with each description in the provided context and return the top 5 most relevant outfits in the form of csv file with the 3 column names as Category,SubCategory,ProductName respectively.\n",
        "\n",
        "If there are fewer than 5 relevant outfits, return as many as are available. Do not invent information. If no relevant outfits are found, respond with \"No relevant outfits found.\"\n",
        "\n",
        "User Description: {query}\n",
        "\n",
        "Recommended Outfits:\n",
        "\"\"\"\n",
        "\n",
        "prompt = PromptTemplate(\n",
        "    input_variables=[\"chunks_formatted\", \"query\"],\n",
        "    template=template,\n",
        ")\n"
      ]
    },
    {
      "cell_type": "code",
      "execution_count": null,
      "id": "BSdrPvgdO9pg",
      "metadata": {
        "id": "BSdrPvgdO9pg"
      },
      "outputs": [],
      "source": [
        "import pandas as pd\n",
        "from IPython.display import display, HTML\n",
        "import urllib.parse\n",
        "from io import StringIO\n",
        "\n",
        "def display_top_similar_products(query, temperature):\n",
        "    \"\"\"\n",
        "    Displays the top 5 similar products in HTML format for Google Colab.\n",
        "\n",
        "    Parameters:\n",
        "    - query (str): The search query from the user.\n",
        "    - temperature (float): The temperature for the LLM model.\n",
        "    \"\"\"\n",
        "    # Retrieve relevant chunks from the database\n",
        "    docs = db.similarity_search(query)\n",
        "    retrieved_chunks = [doc.page_content for doc in docs]\n",
        "\n",
        "    # Format the prompt\n",
        "    chunks_formatted = \"\\n\\n\".join(retrieved_chunks)\n",
        "    prompt_formatted = prompt.format(chunks_formatted=chunks_formatted, query=query)\n",
        "\n",
        "    # Generate the answer\n",
        "    llm = OpenAI(model=\"gpt-3.5-turbo-instruct\", temperature=temperature)\n",
        "    answer = llm(prompt_formatted)\n",
        "\n",
        "    # Function to parse the LLM's response into a DataFrame\n",
        "    def get_top_similar_products_from_answer(answer):\n",
        "        \"\"\"\n",
        "        Parses the LLM's response to create a DataFrame.\n",
        "        Assumes the answer is a CSV-like string for demonstration.\n",
        "        \"\"\"\n",
        "        data = StringIO(answer)\n",
        "        df = pd.read_csv(data)\n",
        "        # Just to check what is the df looks like\n",
        "        # print(df.head())\n",
        "        # Ensure to return top 5 if more than 5 are present\n",
        "        return df.head(5)\n",
        "\n",
        "    # Get top similar products from the LLM's answer\n",
        "    top_similar_products = get_top_similar_products_from_answer(answer)\n",
        "\n",
        "    # Display results in HTML for Google Colab\n",
        "    html = \"<h3>Similar Products:</h3>\"\n",
        "    html += \"<table border='1'><tr><th>Category</th><th>SubCategory</th><th>Product Name</th><th>Google Search Link</th></tr>\"\n",
        "    for index, row in top_similar_products.iterrows():\n",
        "        product_name = row['ProductName']\n",
        "        search_query = urllib.parse.quote(product_name)\n",
        "        search_url = f\"https://www.google.com/search?hl=en&tbm=isch&q={search_query}\"\n",
        "        html += f\"<tr><td>{row['Category']}</td><td>{row['SubCategory']}</td><td>{row['ProductName']}</td><td><a href='{search_url}' target='_blank'>Search</a></td></tr>\"\n",
        "    html += \"</table>\"\n",
        "\n",
        "    # Display the HTML\n",
        "    display(HTML(html))\n"
      ]
    },
    {
      "cell_type": "code",
      "execution_count": null,
      "id": "_tV9GB61QGRV",
      "metadata": {
        "colab": {
          "base_uri": "https://localhost:8080/",
          "height": 204
        },
        "id": "_tV9GB61QGRV",
        "outputId": "224ac9e1-79c9-4f4f-a86d-7cc64fa3aca6"
      },
      "outputs": [
        {
          "name": "stdout",
          "output_type": "stream",
          "text": [
            "Please describe the occasion or event you need an outfit for. For example, a wedding, a casual outing, a business meeting, or a party. \n",
            "Show me luxury evening gowns for a formal gala event\n",
            "Enter the temperature (creativity level) for the response. Higher values lead to more creative outputs: 0\n"
          ]
        },
        {
          "data": {
            "text/html": [
              "<h3>Similar Products:</h3><table border='1'><tr><th>Category</th><th>SubCategory</th><th>Product Name</th><th>Google Search Link</th></tr><tr><td>Formal</td><td>Evening Gowns</td><td>Dolce & Gabbana Casino-Fit Tuxedo Jacket</td><td><a href='https://www.google.com/search?hl=en&tbm=isch&q=Dolce%20%26%20Gabbana%20Casino-Fit%20Tuxedo%20Jacket' target='_blank'>Search</a></td></tr><tr><td>Formal</td><td>Robes</td><td>Givenchy Long Jacket</td><td><a href='https://www.google.com/search?hl=en&tbm=isch&q=Givenchy%20Long%20Jacket' target='_blank'>Search</a></td></tr><tr><td>Formal</td><td>Neckties</td><td>Dolce & Gabbana Black Silk Tie with Spotted Pattern</td><td><a href='https://www.google.com/search?hl=en&tbm=isch&q=Dolce%20%26%20Gabbana%20Black%20Silk%20Tie%20with%20Spotted%20Pattern' target='_blank'>Search</a></td></tr></table>"
            ],
            "text/plain": [
              "<IPython.core.display.HTML object>"
            ]
          },
          "metadata": {},
          "output_type": "display_data"
        }
      ],
      "source": [
        "\n",
        "query = input(\"Please describe the occasion or event you need an outfit for. For example, a wedding, a casual outing, a business meeting, or a party. \\n\")\n",
        "temperature = float(input(\"Enter the temperature (creativity level) for the response. Higher values lead to more creative outputs: \"))\n",
        "\n",
        "display_top_similar_products(query, temperature)"
      ]
    },
    {
      "cell_type": "code",
      "execution_count": null,
      "id": "Uxe9pMEnjF47",
      "metadata": {
        "colab": {
          "base_uri": "https://localhost:8080/",
          "height": 226
        },
        "id": "Uxe9pMEnjF47",
        "outputId": "530c6780-09af-448d-8089-0ae674e5833e"
      },
      "outputs": [
        {
          "name": "stdout",
          "output_type": "stream",
          "text": [
            "Please describe the occasion or event you need an outfit for. For example, a wedding, a casual outing, a business meeting, or a party. \n",
            "Suggest me some tshirts and shirts for a trip to Goa\n",
            "Enter the temperature (creativity level) for the response. Higher values lead to more creative outputs: 0.5\n"
          ]
        },
        {
          "data": {
            "text/html": [
              "<h3>Similar Products:</h3><table border='1'><tr><th>Category</th><th>SubCategory</th><th>Product Name</th><th>Google Search Link</th></tr><tr><td>Shirt</td><td>Button-Up Shirt</td><td>Volcom Mentawais Tropical Print Short Sleeve Button-Up Shirt</td><td><a href='https://www.google.com/search?hl=en&tbm=isch&q=Volcom%20Mentawais%20Tropical%20Print%20Short%20Sleeve%20Button-Up%20Shirt' target='_blank'>Search</a></td></tr><tr><td>T-Shirt</td><td>Rugged T-Shirt</td><td>Orlebar Brown Watermelon Cloud T-Shirt</td><td><a href='https://www.google.com/search?hl=en&tbm=isch&q=Orlebar%20Brown%20Watermelon%20Cloud%20T-Shirt' target='_blank'>Search</a></td></tr><tr><td>T-Shirt</td><td>Butterfly T-Shirt</td><td>Palm Angels Butterfly T-Shirt</td><td><a href='https://www.google.com/search?hl=en&tbm=isch&q=Palm%20Angels%20Butterfly%20T-Shirt' target='_blank'>Search</a></td></tr><tr><td>Shirt</td><td>Performance Shirt</td><td>BOSS Robbie Regular Fit Button-Up Performance Shirt</td><td><a href='https://www.google.com/search?hl=en&tbm=isch&q=BOSS%20Robbie%20Regular%20Fit%20Button-Up%20Performance%20Shirt' target='_blank'>Search</a></td></tr></table>"
            ],
            "text/plain": [
              "<IPython.core.display.HTML object>"
            ]
          },
          "metadata": {},
          "output_type": "display_data"
        }
      ],
      "source": [
        "query = input(\"Please describe the occasion or event you need an outfit for. For example, a wedding, a casual outing, a business meeting, or a party. \\n\")\n",
        "temperature = float(input(\"Enter the temperature (creativity level) for the response. Higher values lead to more creative outputs: \"))\n",
        "\n",
        "display_top_similar_products(query, temperature)"
      ]
    },
    {
      "cell_type": "code",
      "execution_count": null,
      "id": "LdJu58hvhkGn",
      "metadata": {
        "colab": {
          "base_uri": "https://localhost:8080/",
          "height": 204
        },
        "id": "LdJu58hvhkGn",
        "outputId": "1cb1feb6-9795-4185-f068-81d5e3b4dd2b"
      },
      "outputs": [
        {
          "name": "stdout",
          "output_type": "stream",
          "text": [
            "Please describe the occasion or event you need an outfit for. For example, a wedding, a casual outing, a business meeting, or a party. \n",
            "Suggest me formals for a meeting.\n",
            "Enter the temperature (creativity level) for the response. Higher values lead to more creative outputs: 0\n"
          ]
        },
        {
          "data": {
            "text/html": [
              "<h3>Similar Products:</h3><table border='1'><tr><th>Category</th><th>SubCategory</th><th>Product Name</th><th>Google Search Link</th></tr><tr><td>Tie</td><td>Blue</td><td>Charvet Blue Silk Jacquard Tie</td><td><a href='https://www.google.com/search?hl=en&tbm=isch&q=Charvet%20Blue%20Silk%20Jacquard%20Tie' target='_blank'>Search</a></td></tr><tr><td>Tie</td><td>Black</td><td>Prada Black Silk-Faille Bow Tie</td><td><a href='https://www.google.com/search?hl=en&tbm=isch&q=Prada%20Black%20Silk-Faille%20Bow%20Tie' target='_blank'>Search</a></td></tr><tr><td>Shoes</td><td>Loafers</td><td>Prada Immaculately Crafted Loafers</td><td><a href='https://www.google.com/search?hl=en&tbm=isch&q=Prada%20Immaculately%20Crafted%20Loafers' target='_blank'>Search</a></td></tr></table>"
            ],
            "text/plain": [
              "<IPython.core.display.HTML object>"
            ]
          },
          "metadata": {},
          "output_type": "display_data"
        }
      ],
      "source": [
        "\n",
        "query = input(\"Please describe the occasion or event you need an outfit for. For example, a wedding, a casual outing, a business meeting, or a party. \\n\")\n",
        "temperature = float(input(\"Enter the temperature (creativity level) for the response. Higher values lead to more creative outputs: \"))\n",
        "\n",
        "display_top_similar_products(query, temperature)"
      ]
    },
    {
      "cell_type": "code",
      "execution_count": null,
      "id": "5RcuOp8RicaI",
      "metadata": {
        "colab": {
          "base_uri": "https://localhost:8080/",
          "height": 204
        },
        "id": "5RcuOp8RicaI",
        "outputId": "20edf118-5535-461b-ecda-8b3055c93b65"
      },
      "outputs": [
        {
          "name": "stdout",
          "output_type": "stream",
          "text": [
            "Please describe the occasion or event you need an outfit for. For example, a wedding, a casual outing, a business meeting, or a party. \n",
            "Suggest me track pants for playing cricket\n",
            "Enter the temperature (creativity level) for the response. Higher values lead to more creative outputs: 0\n"
          ]
        },
        {
          "data": {
            "text/html": [
              "<h3>Similar Products:</h3><table border='1'><tr><th>Category</th><th>SubCategory</th><th>Product Name</th><th>Google Search Link</th></tr><tr><td>Sports</td><td>Track Pants</td><td>Sunspel Khaki-Green Track Pants</td><td><a href='https://www.google.com/search?hl=en&tbm=isch&q=Sunspel%20Khaki-Green%20Track%20Pants' target='_blank'>Search</a></td></tr><tr><td>Sports</td><td>Track Pants</td><td>Gucci GG Jersey Jogging Pants</td><td><a href='https://www.google.com/search?hl=en&tbm=isch&q=Gucci%20GG%20Jersey%20Jogging%20Pants' target='_blank'>Search</a></td></tr><tr><td>Sports</td><td>Track Pants</td><td>Off Duty Blue and Black Side Stripe Track Pants</td><td><a href='https://www.google.com/search?hl=en&tbm=isch&q=Off%20Duty%20Blue%20and%20Black%20Side%20Stripe%20Track%20Pants' target='_blank'>Search</a></td></tr></table>"
            ],
            "text/plain": [
              "<IPython.core.display.HTML object>"
            ]
          },
          "metadata": {},
          "output_type": "display_data"
        }
      ],
      "source": [
        "\n",
        "query = input(\"Please describe the occasion or event you need an outfit for. For example, a wedding, a casual outing, a business meeting, or a party. \\n\")\n",
        "temperature = float(input(\"Enter the temperature (creativity level) for the response. Higher values lead to more creative outputs: \"))\n",
        "\n",
        "display_top_similar_products(query, temperature)"
      ]
    },
    {
      "cell_type": "code",
      "execution_count": null,
      "id": "M2JbuYAdjvDr",
      "metadata": {
        "colab": {
          "base_uri": "https://localhost:8080/",
          "height": 226
        },
        "id": "M2JbuYAdjvDr",
        "outputId": "7dfa2ce0-ac51-4bb1-e633-3bc69830d796"
      },
      "outputs": [
        {
          "name": "stdout",
          "output_type": "stream",
          "text": [
            "Please describe the occasion or event you need an outfit for. For example, a wedding, a casual outing, a business meeting, or a party. \n",
            "Suggest me outfit for a causal outing\n",
            "Enter the temperature (creativity level) for the response. Higher values lead to more creative outputs: 0.3\n"
          ]
        },
        {
          "data": {
            "text/html": [
              "<h3>Similar Products:</h3><table border='1'><tr><th>Category</th><th>SubCategory</th><th>Product Name</th><th>Google Search Link</th></tr><tr><td>Shirts</td><td>Button-Down Shirts</td><td>Loewe Wool-Blend Button-Down Shirt</td><td><a href='https://www.google.com/search?hl=en&tbm=isch&q=Loewe%20Wool-Blend%20Button-Down%20Shirt' target='_blank'>Search</a></td></tr><tr><td>Pants</td><td>Trousers</td><td>Nanushka Cato Trousers with Turn Ups</td><td><a href='https://www.google.com/search?hl=en&tbm=isch&q=Nanushka%20Cato%20Trousers%20with%20Turn%20Ups' target='_blank'>Search</a></td></tr><tr><td>Pants</td><td>Jeans</td><td>Jacquemus Cotton Jeans</td><td><a href='https://www.google.com/search?hl=en&tbm=isch&q=Jacquemus%20Cotton%20Jeans' target='_blank'>Search</a></td></tr><tr><td>Tops</td><td>T-Shirts</td><td>AMI Paris Colorblock Panel T-Shirt</td><td><a href='https://www.google.com/search?hl=en&tbm=isch&q=AMI%20Paris%20Colorblock%20Panel%20T-Shirt' target='_blank'>Search</a></td></tr></table>"
            ],
            "text/plain": [
              "<IPython.core.display.HTML object>"
            ]
          },
          "metadata": {},
          "output_type": "display_data"
        }
      ],
      "source": [
        "query = input(\"Please describe the occasion or event you need an outfit for. For example, a wedding, a casual outing, a business meeting, or a party. \\n\")\n",
        "temperature = float(input(\"Enter the temperature (creativity level) for the response. Higher values lead to more creative outputs: \"))\n",
        "\n",
        "display_top_similar_products(query, temperature)"
      ]
    },
    {
      "cell_type": "code",
      "execution_count": null,
      "id": "UewWlsypj_SK",
      "metadata": {
        "id": "UewWlsypj_SK"
      },
      "outputs": [],
      "source": []
    }
  ],
  "metadata": {
    "colab": {
      "provenance": []
    },
    "kernelspec": {
      "display_name": "Python 3 (ipykernel)",
      "language": "python",
      "name": "python3"
    },
    "language_info": {
      "codemirror_mode": {
        "name": "ipython",
        "version": 3
      },
      "file_extension": ".py",
      "mimetype": "text/x-python",
      "name": "python",
      "nbconvert_exporter": "python",
      "pygments_lexer": "ipython3",
      "version": "3.11.7"
    }
  },
  "nbformat": 4,
  "nbformat_minor": 5
}
